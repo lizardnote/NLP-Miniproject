{
  "nbformat": 4,
  "nbformat_minor": 0,
  "metadata": {
    "colab": {
      "provenance": [],
      "include_colab_link": true
    },
    "kernelspec": {
      "name": "python3",
      "display_name": "Python 3"
    },
    "language_info": {
      "name": "python"
    }
  },
  "cells": [
    {
      "cell_type": "markdown",
      "metadata": {
        "id": "view-in-github",
        "colab_type": "text"
      },
      "source": [
        "<a href=\"https://colab.research.google.com/github/lizardnote/NLP_practice/blob/main/Using_ChatGPT_API_practice_guideline.ipynb\" target=\"_parent\"><img src=\"https://colab.research.google.com/assets/colab-badge.svg\" alt=\"Open In Colab\"/></a>"
      ]
    },
    {
      "cell_type": "markdown",
      "source": [
        "OpenAI의 모델들의 이름들과 가격은 아래의 주소에서 확인하세요."
      ],
      "metadata": {
        "id": "ySXRUpjEKAYn"
      }
    },
    {
      "cell_type": "markdown",
      "source": [
        "https://openai.com/api/pricing/"
      ],
      "metadata": {
        "id": "qmYNZqugKE1n"
      }
    },
    {
      "cell_type": "markdown",
      "source": [
        "# 1. 셋팅하기"
      ],
      "metadata": {
        "id": "fwkBFIpUtlpr"
      }
    },
    {
      "cell_type": "markdown",
      "source": [
        "코랩에서 OpenAI ChatGPT API를 실습하려면 openai 라이브러리를 설치해야 합니다. 다음 명령어를 입력합니다"
      ],
      "metadata": {
        "id": "yHi2_iXRJA1G"
      }
    },
    {
      "cell_type": "code",
      "source": [
        "!pip install openai"
      ],
      "metadata": {
        "id": "1d_S1-cYl8oI",
        "colab": {
          "base_uri": "https://localhost:8080/"
        },
        "outputId": "b655f7db-4f07-4f02-8e40-b356df4563a3"
      },
      "execution_count": 1,
      "outputs": [
        {
          "output_type": "stream",
          "name": "stdout",
          "text": [
            "Requirement already satisfied: openai in /usr/local/lib/python3.11/dist-packages (1.76.0)\n",
            "Requirement already satisfied: anyio<5,>=3.5.0 in /usr/local/lib/python3.11/dist-packages (from openai) (4.9.0)\n",
            "Requirement already satisfied: distro<2,>=1.7.0 in /usr/local/lib/python3.11/dist-packages (from openai) (1.9.0)\n",
            "Requirement already satisfied: httpx<1,>=0.23.0 in /usr/local/lib/python3.11/dist-packages (from openai) (0.28.1)\n",
            "Requirement already satisfied: jiter<1,>=0.4.0 in /usr/local/lib/python3.11/dist-packages (from openai) (0.9.0)\n",
            "Requirement already satisfied: pydantic<3,>=1.9.0 in /usr/local/lib/python3.11/dist-packages (from openai) (2.11.3)\n",
            "Requirement already satisfied: sniffio in /usr/local/lib/python3.11/dist-packages (from openai) (1.3.1)\n",
            "Requirement already satisfied: tqdm>4 in /usr/local/lib/python3.11/dist-packages (from openai) (4.67.1)\n",
            "Requirement already satisfied: typing-extensions<5,>=4.11 in /usr/local/lib/python3.11/dist-packages (from openai) (4.13.2)\n",
            "Requirement already satisfied: idna>=2.8 in /usr/local/lib/python3.11/dist-packages (from anyio<5,>=3.5.0->openai) (3.10)\n",
            "Requirement already satisfied: certifi in /usr/local/lib/python3.11/dist-packages (from httpx<1,>=0.23.0->openai) (2025.1.31)\n",
            "Requirement already satisfied: httpcore==1.* in /usr/local/lib/python3.11/dist-packages (from httpx<1,>=0.23.0->openai) (1.0.9)\n",
            "Requirement already satisfied: h11>=0.16 in /usr/local/lib/python3.11/dist-packages (from httpcore==1.*->httpx<1,>=0.23.0->openai) (0.16.0)\n",
            "Requirement already satisfied: annotated-types>=0.6.0 in /usr/local/lib/python3.11/dist-packages (from pydantic<3,>=1.9.0->openai) (0.7.0)\n",
            "Requirement already satisfied: pydantic-core==2.33.1 in /usr/local/lib/python3.11/dist-packages (from pydantic<3,>=1.9.0->openai) (2.33.1)\n",
            "Requirement already satisfied: typing-inspection>=0.4.0 in /usr/local/lib/python3.11/dist-packages (from pydantic<3,>=1.9.0->openai) (0.4.0)\n"
          ]
        }
      ]
    },
    {
      "cell_type": "markdown",
      "source": [
        "마지막 부분과 같이 ‘Successfully installed openai’라는\n",
        "문구를 확인했다면 import openai를 통해 라이브러리를 불러옵니다. 그\n",
        "후 openai.api_key의 값으로 OpenAI API 키 발급하는 사이트(https://platform.openai.com/account/api-keys) 에서 얻은 키\n",
        "값을 입력합니다."
      ],
      "metadata": {
        "id": "ah8l2RHXJDjt"
      }
    },
    {
      "cell_type": "code",
      "source": [
        "import openai\n",
        "\n",
        "client = openai.OpenAI(api_key=\"\")"
      ],
      "metadata": {
        "id": "jp6kZ2lWnSCi"
      },
      "execution_count": 2,
      "outputs": []
    },
    {
      "cell_type": "markdown",
      "source": [
        "사용량 확인하는 방법"
      ],
      "metadata": {
        "id": "8TDJR8OLQr4r"
      }
    },
    {
      "cell_type": "markdown",
      "source": [
        "https://platform.openai.com/account/usage"
      ],
      "metadata": {
        "id": "AbKtxt41Qrfu"
      }
    },
    {
      "cell_type": "markdown",
      "source": [
        "# 2. 답변 얻기"
      ],
      "metadata": {
        "id": "O94YowemtkEu"
      }
    },
    {
      "cell_type": "markdown",
      "source": [
        "본격적으로 ChatGPT API를 사용해봅시다. 사용하는 코드의 형식은 다음\n",
        "과 같습니다. model의 값으로 작성한 gpt-4o는 OpenAI의 API를\n",
        "사용할 때 실행되는 ChatGPT의 다른 이름입니다. ChatGPT를 사용하기 위\n",
        "해서는 모델의 값으로 gpt-4o 값을 사용해야 합니다. ChatGPT에게\n",
        "작성할 프롬프트는 content의 값으로 입력하며, 이때 큰따옴표(\")로 앞뒤를\n",
        "감싸야 합니다."
      ],
      "metadata": {
        "id": "51m5L7DMJb6r"
      }
    },
    {
      "cell_type": "markdown",
      "source": [
        "```\n",
        "completion = client.chat.completions.create(\n",
        "  model=\"<사용하고자 하는 모델명>\",\n",
        "  messages=[\n",
        "    {\"role\": \"system\", \"content\": \"<정해주고 싶은 역할>\"}, -> 시스템 프롬프트\n",
        "    {\"role\": \"user\", \"content\": \"<작성하고 싶은 Prompt>\"}  -> 유저 프롬프트\n",
        "  ]\n",
        ")\n",
        "```"
      ],
      "metadata": {
        "id": "tEyicQebnY9p"
      }
    },
    {
      "cell_type": "markdown",
      "source": [
        "API를 활용해 ChatGPT에게 질문"
      ],
      "metadata": {
        "id": "WBuNx8DrJh3i"
      }
    },
    {
      "cell_type": "code",
      "source": [
        "response = client.chat.completions.create(\n",
        "  model=\"gpt-4o\",\n",
        "  messages=[\n",
        "        {\"role\": \"user\", \"content\": \"2020년 월드시리즈에서는 누가 우승했어?\"}\n",
        "    ]\n",
        ")"
      ],
      "metadata": {
        "id": "63axo4i-rFb5"
      },
      "execution_count": 3,
      "outputs": []
    },
    {
      "cell_type": "code",
      "source": [
        "# 답변을 받는 방법\n",
        "print(response.choices[0].message.content)  #response 내에서 답변만 얻음"
      ],
      "metadata": {
        "colab": {
          "base_uri": "https://localhost:8080/"
        },
        "id": "gs-E9OnRQoJH",
        "outputId": "123e0c45-2ecb-4883-c3a4-bb1d55804ee9"
      },
      "execution_count": 4,
      "outputs": [
        {
          "output_type": "stream",
          "name": "stdout",
          "text": [
            "2020년 월드시리즈에서는 로스앤젤레스 다저스가 우승했습니다. 다저스는 탬파베이 레이스를 상대로 시리즈를 4승 2패로 마무리하며 우승을 차지했습니다. 이번 우승은 다저스의 32년 만의 월드시리즈 우승이었습니다.\n"
          ]
        }
      ]
    },
    {
      "cell_type": "markdown",
      "source": [
        "# 3. 역할 부여해주기"
      ],
      "metadata": {
        "id": "5sgVhGqefwdP"
      }
    },
    {
      "cell_type": "markdown",
      "source": [
        "ChatGPT API를 통해 ChatGPT를 사용할 때는 ChatGPT에게 역할\n",
        "을 지시할 수 있습니다. 여기서 역할 지시란 ChatGPT가 앞으로 답변할 때\n",
        "ChatGPT가 해당 역할로서 답변을 하라는 의미입니다. 앞으로 안내하는 역\n",
        "할 지시 방법은 항상 지시한 역할대로 동작한다는 보장은 없지만 역할 지시문\n",
        "에 따라 답변 자체의 방향성을 바꿔버리기도 합니다.  \n",
        "\n",
        "역할을 지시하려면 기존 코드에서 messages=[] 안에 {\"role\": \"system\",\n",
        "\"content\": \"<ChatGPT가 수행할 역할>\"}를 추가로 작성합니다. 예를 들\n",
        "어, ChatGPT에게 친절하게 답변해주는 비서라는 역할을 부여해봅시다. 코드\n",
        "는 다음과 같습니다.  \n",
        "\n",
        "이와 같이 거대 언어 모델의 전체적인 방향성을 지시하는 입력을 `시스템 프롬프트`라고 합니다."
      ],
      "metadata": {
        "id": "F8_lHpd7Jn2o"
      }
    },
    {
      "cell_type": "code",
      "source": [
        "response = client.chat.completions.create(\n",
        "  model=\"gpt-4o\",\n",
        "  messages=[\n",
        "      {\"role\": \"system\", \"content\": \"너는 친절하게 답변해주는 비서야. 답변은 반말로 해줘\"}, #시스템 프롬프트 적용\n",
        "      {\"role\": \"user\", \"content\": \"2020년 월드시리즈에서는 누가 우승했어?\"}\n",
        "    ]\n",
        ")"
      ],
      "metadata": {
        "id": "CZ8TM-ewqoD5"
      },
      "execution_count": 5,
      "outputs": []
    },
    {
      "cell_type": "code",
      "source": [
        "# 답변을 받는 방법\n",
        "print(response.choices[0].message.content)"
      ],
      "metadata": {
        "colab": {
          "base_uri": "https://localhost:8080/"
        },
        "id": "DSJ4vmj4qxTV",
        "outputId": "dfe36a36-91b2-4231-92b0-d94f4c823275"
      },
      "execution_count": 6,
      "outputs": [
        {
          "output_type": "stream",
          "name": "stdout",
          "text": [
            "2020년 월드시리즈에서는 로스앤젤레스 다저스가 우승했어. 탬파베이 레이스를 상대로 4승 2패로 이겼어.\n"
          ]
        }
      ]
    },
    {
      "cell_type": "markdown",
      "source": [
        "동일하게 로스앤젤레스 다저스가 우승했다는 답변을 하지만 답변이 달라집니다."
      ],
      "metadata": {
        "id": "rDkNDwtjJqeN"
      }
    },
    {
      "cell_type": "code",
      "source": [
        "response = client.chat.completions.create(\n",
        "  model=\"gpt-4o\",\n",
        "  messages=[\n",
        "      {\"role\": \"system\", \"content\": \"You must only answer users' questions in English. This must be honored. You must only answer in English.\"},\n",
        "      {\"role\": \"user\", \"content\": \"2020년 월드시리즈에서는 누가 우승했어?\"}\n",
        "    ]\n",
        ")"
      ],
      "metadata": {
        "id": "EAoknRM5rQyZ"
      },
      "execution_count": 7,
      "outputs": []
    },
    {
      "cell_type": "code",
      "source": [
        "print(response.choices[0].message.content)"
      ],
      "metadata": {
        "colab": {
          "base_uri": "https://localhost:8080/"
        },
        "id": "0UTvVlbcrW0O",
        "outputId": "4109cb46-ca7c-40a1-f257-5bcd116c66fc"
      },
      "execution_count": 8,
      "outputs": [
        {
          "output_type": "stream",
          "name": "stdout",
          "text": [
            "The Los Angeles Dodgers won the 2020 World Series.\n"
          ]
        }
      ]
    },
    {
      "cell_type": "markdown",
      "source": [
        "이번에는 입력을 번역하라고 해봅시다."
      ],
      "metadata": {
        "id": "JNjR8E43BIfs"
      }
    },
    {
      "cell_type": "code",
      "source": [
        "response = client.chat.completions.create(\n",
        "  model=\"gpt-4o\",\n",
        "  messages=[\n",
        "      {\"role\": \"system\", \"content\": \"사용자의 질문에 답변을 하지말고 한글 입력을 영어로 번역하십시오.\"},\n",
        "      {\"role\": \"user\", \"content\": \"2020년 월드시리즈에서는 누가 우승했어?\"}\n",
        "    ]\n",
        ")"
      ],
      "metadata": {
        "id": "5uLv3chEsr_N"
      },
      "execution_count": 9,
      "outputs": []
    },
    {
      "cell_type": "code",
      "source": [
        "print(response.choices[0].message.content)"
      ],
      "metadata": {
        "colab": {
          "base_uri": "https://localhost:8080/"
        },
        "id": "ajin-SnHs3-y",
        "outputId": "74cfc7e1-6b7d-44cc-9fcb-817357d2ca41"
      },
      "execution_count": 10,
      "outputs": [
        {
          "output_type": "stream",
          "name": "stdout",
          "text": [
            "Who won the 2020 World Series?\n"
          ]
        }
      ]
    },
    {
      "cell_type": "markdown",
      "source": [
        "ChatGPT가 사용자의 질문에 대답하는 것이 아니라 질문을 영어로 번역하여 답변합니다."
      ],
      "metadata": {
        "id": "pDqxtWglJyJu"
      }
    },
    {
      "cell_type": "markdown",
      "source": [
        "이러한 시스템 프롬프트는 웹 사이트에서 사용하는 GPT-4에도 이미 적용되어져 있습니다.  \n",
        "다만 UI 상으로 보여지지 않을 뿐입니다.  \n",
        "\n",
        "GPT-4 시스템 프롬프트 유출: https://news.hada.io/topic?id=13326"
      ],
      "metadata": {
        "id": "eo9reloXVsfG"
      }
    },
    {
      "cell_type": "markdown",
      "source": [
        "또한 system, user, assisstant 형태로 데이터를 처리하는 것은 GPT-4 뿐만이 아닙니다.  \n",
        "\n",
        "Llama-3, Qwen2 자료: https://colab.research.google.com/drive/1qF3ZiwOe6SS_8JnHoPl4iZY3eNZGTpGW?usp=sharing#scrollTo=GTMCZNFmfm8q"
      ],
      "metadata": {
        "id": "wZt-790rXtV-"
      }
    },
    {
      "cell_type": "markdown",
      "source": [
        "# 4. 이전 대화를 포함하여 답변하기"
      ],
      "metadata": {
        "id": "ghojb8dRtfef"
      }
    },
    {
      "cell_type": "markdown",
      "source": [
        "ChatGPT는 답변할 때 이전 질문과 답변을 모두 고려하여 답변하는 특징이 있습니다. ChatGPT API를 이용하면 ChatGPT에게 답변을 요청할 때 ChatGPT에게 ‘앞서 네가 이런 답변을 한 상태였다’라는 정보를 주는 것이 가능합니다. 이것은 사용자가 가정하는 것이지만 ChatGPT는 마치 과거에 ChatGPT 자신이 답변한 것으로 가정하고, 추가\n",
        "답변을 합니다.  \n",
        "\n",
        "이렇게 질문을 작성하려면 messages=[ ] 안에   \n",
        "`{\"role\": \"user\", \"content\": \"<사용자의 이전 프롬프트>\"}`를 작성한 후   \n",
        "`{\"role\": \"assistant\", \"content\": \"<ChatGPT의 이전 답변>\"}`을 추가로 작성하고,  \n",
        "다시 `{\"role\": \"user\", \"content\": \"<ChatGPT 이전 답변 이후의 사용자의 프롬프트>\"}`를 번갈아 작성하면 됩니다.  \n",
        "\n",
        "실제 코드를 통해 확인해봅시다.  \n",
        "\n",
        "다음 코드에서는 사용자가 ChatGPT에게 “2002년 월드컵에서 가장 화제\n",
        "가 되었던 나라는 어디야?”라고 질문한 후,  \n",
        "ChatGPT가 “바로 예상을 뚫고 4강 진출 신화를 일으킨 한국입니다.”라고 답변했다고 가정하고, 사용자가 다시 “그 나라가 화제가 되었던 이유를 자세하게 설명해줘”라고 질문한 상태를 가정하고 ChatGPT의 답변을 얻습니다."
      ],
      "metadata": {
        "id": "O5MismfPJ2No"
      }
    },
    {
      "cell_type": "code",
      "source": [
        "response = client.chat.completions.create(\n",
        "  model=\"gpt-4o\",\n",
        "  messages=[\n",
        "        {\"role\": \"user\", \"content\": \"2002년 월드컵에서 가장 화제가 되었던 나라는 어디야?\"},    #이전 대화가 빠지면\n",
        "        {\"role\": \"assistant\", \"content\": \"바로 예상을 뚫고 4강 진출 신화를 일으킨 한국입니다.\"},   #이전 대화가 빠지면 다음의 '그 나라'를 알 수 없음\n",
        "        {\"role\": \"user\", \"content\": \"그 나라가 화제가 되었던 이유를 자세하게 설명해줘\"}\n",
        "    ]\n",
        ")"
      ],
      "metadata": {
        "id": "0Vf-Ys3qnD-O"
      },
      "execution_count": 11,
      "outputs": []
    },
    {
      "cell_type": "code",
      "source": [
        "print(response.choices[0].message.content)"
      ],
      "metadata": {
        "colab": {
          "base_uri": "https://localhost:8080/"
        },
        "id": "j4JHXMERsNHm",
        "outputId": "80d72980-4a61-44be-ab41-c44afd326b8e"
      },
      "execution_count": 12,
      "outputs": [
        {
          "output_type": "stream",
          "name": "stdout",
          "text": [
            "2002년 한일 월드컵에서 한국은 여러 가지 이유로 큰 화제를 모았습니다. \n",
            "\n",
            "1. **공동 개최국**: 대한민국은 2002년 FIFA 월드컵을 일본과 함께 공동 개최하였고, 이는 아시아에서 첫 번째, 그리고 두 개 국가가 공동으로 개최한 첫 번째 월드컵이었습니다.\n",
            "\n",
            "2. **성적**: 한국 대표팀은 히딩크 감독의 지도 아래, 월드컵 역사상 처음으로 4강에 진출하여 세계를 놀라게 했습니다. 조별리그에서는 폴란드를 2-0으로, 포르투갈을 1-0으로 이기고, 미국과는 1-1로 비겼습니다.\n",
            "\n",
            "3. **토너먼트 경기**: 16강에서 이탈리아를 상대로 2-1 역전승을 거두었고, 8강에서는 스페인을 승부차기 끝에 물리쳤습니다. 이러한 경기들은 많은 드라마와 논란이 있었고, 특히 심판 판정에 대한 이야기가 많이 화제에 올랐습니다.\n",
            "\n",
            "4. **열정적인 응원 문화**: 한국 국민들은 거리 응원과 다양한 방식으로 대표팀을 열정적으로 응원하며, \"붉은 악마\"라는 응원단의 문화가 세계적으로 주목을 받았습니다. 대규모의 응원 집회와 붉은 티셔츠를 입은 팬들의 모습은 월드컵 기간 동안 전 세계에 방영되었습니다.\n",
            "\n",
            "5. **사회적 영향**: 한국의 성공은 단순한 스포츠 이상의 사회적, 경제적 파급 효과를 불러일으켰고, 국민들에게 큰 자긍심을 심어주었습니다.\n",
            "\n",
            "이러한 이유들로 인해 한국은 2002년 월드컵에서 가장 화제가 된 나라 중 하나였습니다.\n"
          ]
        }
      ]
    },
    {
      "cell_type": "markdown",
      "source": [
        "# 5. 너무나 쉽게 AI 서비스 개발해보기"
      ],
      "metadata": {
        "id": "kw7JiHbTtooI"
      }
    },
    {
      "cell_type": "markdown",
      "source": [
        "## 5-1. 뉴스 기사를 분석해주는 인공지능"
      ],
      "metadata": {
        "id": "b9JXo-sjQ_hX"
      }
    },
    {
      "cell_type": "markdown",
      "source": [
        "앞으로 AI 서비스를 개발할 때는 정해주고 싶은 역할에 ChatGPT가 수행할 작업을 구체적으로 명시해주면 됩니다."
      ],
      "metadata": {
        "id": "fDLvHscOREQW"
      }
    },
    {
      "cell_type": "markdown",
      "source": [
        "```\n",
        "response = client.chat.completions.create(\n",
        "  model=\"gpt-4o\",\n",
        "  messages=[\n",
        "        {\"role\": \"system\", \"content\": \"<정해주고 싶은 역할>\"},\n",
        "        {\"role\": \"user\", \"content\": \"<작성하고 싶은 Prompt>\"}\n",
        "    ]\n",
        ")\n",
        "```"
      ],
      "metadata": {
        "id": "n59PcC8ZRDmM"
      }
    },
    {
      "cell_type": "code",
      "source": [
        "def return_answer(input_text=''):\n",
        "    system_prompt = \"\"\"특정 문서가 입력되면 다음과 같은 형태로 문서를 분석하십시오.\n",
        "\n",
        "1. 주어진 입력:에 대해서 반드시 주제:, 요약:, 가능한 질문: 이 세가지를 순차적으로 작성해야 합니다.\n",
        "2. 주제:는 입력 문서의 주제를 한 줄로 요약합니다.\n",
        "3. 요약:은 입력 문서를 5줄로 요약합니다.\n",
        "4. 가능한 질문:은 입력 문서로부부터 사람들이 할 수 있는 질문 세 가지를 파이썬 리스트 형태로 작성합니다.\n",
        "5. 가능한 질문:이 반드시 [\"질문1\", \"질문2\", \"질문3\"]과 같이 파이썬 리스트 형태로 작성되어야 하는 점에 유의하십시오.\n",
        "\n",
        "이제 시작합니다.\"\"\"\n",
        "\n",
        "    user_content = \"입력: \" + input_text + '\\n답변:'\n",
        "\n",
        "    print('최종 유저 프롬프트')\n",
        "    print('==' * 50)\n",
        "    print(user_content)\n",
        "    print('==' * 50)\n",
        "\n",
        "    response = client.chat.completions.create(\n",
        "    model=\"gpt-4o\",\n",
        "    messages=[\n",
        "        {\"role\": \"system\", \"content\": system_prompt},\n",
        "          {\"role\": \"user\", \"content\": user_content}\n",
        "      ]\n",
        "    )\n",
        "    return response.choices[0].message.content"
      ],
      "metadata": {
        "id": "IKwTLPYvVDnI"
      },
      "execution_count": 13,
      "outputs": []
    },
    {
      "cell_type": "code",
      "source": [
        "test = '''새처럼 움직이는 항공 로봇 '레이븐'.\n",
        "\n",
        "스위스 로잔 연방 공대(EPFL) 신원동 박사팀이 개발했는데요.\n",
        "\n",
        "연구팀은 새의 엉덩이와 발목, 발을 참고해 뒷다리를 만들었습니다.\n",
        "\n",
        "실제 새처럼 땅에서 걷고, 틈새를 건너뛰고, 위로 뛰어오릅니다.\n",
        "\n",
        "껑충 뛰면서 날아오르는 이 기능이 핵심인데요.\n",
        "\n",
        "기존 고정익 항공기처럼 지상을 달리지 않고 제자리에서 날아오릅니다.\n",
        "\n",
        "연구팀은 레이븐의 점프 이륙이 점프하지 않고 날아오를 때보다 에너지 효율이 더 높다고 설명했는데요.\n",
        "\n",
        "또 기존 고정익 항공기에 이 기능을 도입하면 복잡한 지형에서도 효율적으로 쓸 수 있을 거라고 덧붙였습니다.\n",
        "\n",
        "#새 #로봇 #항공 #공대 #스위스 #신원동 #박사 #점프'''"
      ],
      "metadata": {
        "id": "MM6udF9vaXEt"
      },
      "execution_count": 14,
      "outputs": []
    },
    {
      "cell_type": "code",
      "source": [
        "result = return_answer(input_text=test)\n",
        "print(result)"
      ],
      "metadata": {
        "colab": {
          "base_uri": "https://localhost:8080/"
        },
        "id": "qM0bbnYZVnW0",
        "outputId": "327ec1b6-5639-4707-f44d-15c90e1be11f"
      },
      "execution_count": 15,
      "outputs": [
        {
          "output_type": "stream",
          "name": "stdout",
          "text": [
            "최종 유저 프롬프트\n",
            "====================================================================================================\n",
            "입력: 새처럼 움직이는 항공 로봇 '레이븐'.\n",
            "\n",
            "스위스 로잔 연방 공대(EPFL) 신원동 박사팀이 개발했는데요.\n",
            "\n",
            "연구팀은 새의 엉덩이와 발목, 발을 참고해 뒷다리를 만들었습니다.\n",
            "\n",
            "실제 새처럼 땅에서 걷고, 틈새를 건너뛰고, 위로 뛰어오릅니다.\n",
            "\n",
            "껑충 뛰면서 날아오르는 이 기능이 핵심인데요.\n",
            "\n",
            "기존 고정익 항공기처럼 지상을 달리지 않고 제자리에서 날아오릅니다.\n",
            "\n",
            "연구팀은 레이븐의 점프 이륙이 점프하지 않고 날아오를 때보다 에너지 효율이 더 높다고 설명했는데요.\n",
            "\n",
            "또 기존 고정익 항공기에 이 기능을 도입하면 복잡한 지형에서도 효율적으로 쓸 수 있을 거라고 덧붙였습니다.\n",
            "\n",
            "#새 #로봇 #항공 #공대 #스위스 #신원동 #박사 #점프\n",
            "답변:\n",
            "====================================================================================================\n",
            "주제: 새처럼 이동하며 점프 이륙이 가능한 항공 로봇 '레이븐' 개발\n",
            "\n",
            "요약: 스위스 로잔 연방 공대 EPFL의 신원동 박사팀은 새를 모방한 항공 로봇 '레이븐'을 개발했습니다. 이 로봇은 새의 엉덩이, 발목, 발을 모방하여 뒷다리를 설계함으로써 걷기, 뛰어넘기, 뛰어오르기 같은 동작이 가능합니다. 특히, 고정익 항공기가 아닌 특유의 점프 이륙 기술을 통해 지상에서 달리지 않고 제자리에서 날아오를 수 있습니다. 이 기능은 에너지 효율을 높여주며, 복잡한 지형에서도 효율적인 사용 가능성을 제공합니다. 이러한 레이븐의 특성은 기존 항공기의 설계 개선에도 활용될 수 있습니다.\n",
            "\n",
            "가능한 질문: [\"레이븐은 어떻게 새를 모방하여 동작하나요?\", \"레이븐의 점프 이륙 기술은 어떤 장점이 있나요?\", \"레이븐의 기술이 기존 항공기 설계에 어떻게 적용될 수 있나요?\"]\n"
          ]
        }
      ]
    },
    {
      "cell_type": "code",
      "source": [
        "test = '''\n",
        "꿈의 에너지’라고 불리는 핵융합 에너지가 5년 뒤 현실이 될지도 모른다. 마이크로소프트가 5년 뒤부터 핵융합으로 만든 전기를 사서 쓰겠다는 전기공급 계약을 맺었다.\n",
        "\n",
        "마이크로소프트에게 전기를 공급할 곳은 미국 스타트업 ‘헬리온 에너지’다. 5월 10일 핵융합 발전 스타트업 헬리온 에너지가 마이크로소프트와 계약을 맺었다고 밝혔다. 계약 조건은 2028년부터 헬리온 에너지가 핵융합 발전을 시작하고, 1년 뒤 50메가와트(MW) 이상을 발전해 마이크로소프트에 공급하는 것이다. 계약을 이행하지 못할 경우 헬리온 에너지가 마이크로소프트에 위약금을 내야 한다.\n",
        "\n",
        "하지만 전문가들의 전망은 긍정적이지만은 않다. 사용할 수 있는 정도의 전기를 만들어 내는 실증 시험까지 거친 핵융합 연구가 아직 없기 때문이다. 대신 현실적인 목표 시기는 2040년 이후가 될 것으로 보인다.\n",
        "\n",
        "핵융합 발전 연구는 크게 공공 개발과 민간 개발, 둘로 나뉘는데 둘 중 핵융합 발전 목표 시기가 조금 더 빠른 민간 개발의 목표 시기가 2030년경이다. 다만 지난해 11월 유럽 위원회가 낸 보고서에서는 이 시기를 시험 운영 목표로 하는 건 실패 위험이 높을 것으로 내다봤다. 보고서는 실패 위험이 중간 정도인 시기는 가장 빠른 것이 2036년, 가장 늦은 게 2050년이라고 분석했다.\n",
        "'''"
      ],
      "metadata": {
        "id": "naUTZUcVWLFZ"
      },
      "execution_count": 16,
      "outputs": []
    },
    {
      "cell_type": "code",
      "source": [
        "result = return_answer(input_text=test)\n",
        "print(result)"
      ],
      "metadata": {
        "colab": {
          "base_uri": "https://localhost:8080/"
        },
        "id": "Wz2Dc_5GWVmE",
        "outputId": "3e9c5eca-58bc-4d7c-de9d-43ee134b712e"
      },
      "execution_count": 17,
      "outputs": [
        {
          "output_type": "stream",
          "name": "stdout",
          "text": [
            "최종 유저 프롬프트\n",
            "====================================================================================================\n",
            "입력: \n",
            "꿈의 에너지’라고 불리는 핵융합 에너지가 5년 뒤 현실이 될지도 모른다. 마이크로소프트가 5년 뒤부터 핵융합으로 만든 전기를 사서 쓰겠다는 전기공급 계약을 맺었다.\n",
            "\n",
            "마이크로소프트에게 전기를 공급할 곳은 미국 스타트업 ‘헬리온 에너지’다. 5월 10일 핵융합 발전 스타트업 헬리온 에너지가 마이크로소프트와 계약을 맺었다고 밝혔다. 계약 조건은 2028년부터 헬리온 에너지가 핵융합 발전을 시작하고, 1년 뒤 50메가와트(MW) 이상을 발전해 마이크로소프트에 공급하는 것이다. 계약을 이행하지 못할 경우 헬리온 에너지가 마이크로소프트에 위약금을 내야 한다.\n",
            "\n",
            "하지만 전문가들의 전망은 긍정적이지만은 않다. 사용할 수 있는 정도의 전기를 만들어 내는 실증 시험까지 거친 핵융합 연구가 아직 없기 때문이다. 대신 현실적인 목표 시기는 2040년 이후가 될 것으로 보인다.\n",
            "\n",
            "핵융합 발전 연구는 크게 공공 개발과 민간 개발, 둘로 나뉘는데 둘 중 핵융합 발전 목표 시기가 조금 더 빠른 민간 개발의 목표 시기가 2030년경이다. 다만 지난해 11월 유럽 위원회가 낸 보고서에서는 이 시기를 시험 운영 목표로 하는 건 실패 위험이 높을 것으로 내다봤다. 보고서는 실패 위험이 중간 정도인 시기는 가장 빠른 것이 2036년, 가장 늦은 게 2050년이라고 분석했다.\n",
            "\n",
            "답변:\n",
            "====================================================================================================\n",
            "주제: 마이크로소프트와 헬리온 에너지가 핵융합 에너지 전기 공급 계약을 체결했지만, 실현 가능성에 대한 의견이 분분하다.\n",
            "\n",
            "요약: 마이크로소프트는 2028년부터 헬리온 에너지가 핵융합으로 만든 전기를 공급받는 계약을 체결했다. 계약에 따르면 헬리온 에너지는 2029년까지 50메가와트 이상의 전기를 생산해야 하며, 실패 시 위약금을 물게 된다. 그러나 실증 가능한 핵융합 발전이 아직 검증되지 않아, 전문가들은 현실적인 달성 시기를 2040년 이후로 보고 있다. 민간 분야에서는 2030년경 목표로 하고 있지만, 유럽 위원회는 이 시기는 실패 위험이 크다고 여긴다. 보고서는 가장 현실적인 목표 시기를 2036년에서 2050년 사이로 분석했다.\n",
            "\n",
            "가능한 질문:\n",
            "[\"마이크로소프트와 헬리온 에너지 간의 계약 조건은 무엇인가?\", \"전문가들이 핵융합 발전 실현 가능성을 의심하는 이유는 무엇인가?\", \"유럽 위원회 보고서에 따르면 실패 위험이 중간 정도인 시기는 언제인가?\"]\n"
          ]
        }
      ]
    },
    {
      "cell_type": "markdown",
      "source": [
        "## 5-2. 키워드 추출"
      ],
      "metadata": {
        "id": "zZWl8bpXX_4T"
      }
    },
    {
      "cell_type": "code",
      "source": [
        "def return_answer(input_text):\n",
        "    system_prompt = \"\"\"You are an expert at extracting keywords from a given sentence. Extract keywords from a given sentence that are key to the context.\n",
        "\n",
        "    [Example]\n",
        "    input: '외신에 따르면 중국 이카이글로벌 보도를 인용해 모더나가 중국 전용 mRNA 백신 개발을 위해 중국에 최대 10억달러(약 1조3017억원)를 투자하기로 했다고 보도했다.'\n",
        "    keyword: ['모더나', 'mRNA', '1조3017억원']\n",
        "\n",
        "    Now the sentence you want to extract keywords from.\n",
        "    The output format must be a list in Python.\n",
        "    \"\"\"\n",
        "\n",
        "    user_content = \"input: \" + input_text + \"\\nkeyword: \"\n",
        "\n",
        "    print('최종 유저 프롬프트')\n",
        "    print('==' * 50)\n",
        "    print(user_content)\n",
        "    print('==' * 50)\n",
        "\n",
        "    response = client.chat.completions.create(\n",
        "    model=\"gpt-4o\",\n",
        "    messages=[\n",
        "        {\"role\": \"system\", \"content\": system_prompt},\n",
        "          {\"role\": \"user\", \"content\": user_content}\n",
        "      ],\n",
        "    temperature=0\n",
        "    )\n",
        "    return response.choices[0].message.content"
      ],
      "metadata": {
        "id": "3CENIQTBfPNa"
      },
      "execution_count": 18,
      "outputs": []
    },
    {
      "cell_type": "code",
      "source": [
        "text = '''3일 업계에 따르면 서울 신라호텔의 더 파크뷰는 12월 1∼20일 저녁 가격을 19만5000원으로, 21∼31일 저녁 가격을 21만 5000원으로 각각 인상한다. 평소 평일·주말 저녁 가격이 18만5000원이던 것을 고려하면 각각 1만원과 3만원 올랐다. 가격 인상에도 불구하고 더 파크뷰의 12월 주말 예약은 대부분 찼고 12월 평일 예약 역시 빠르게 마감되고 있다고 신라호텔 측은 전했다.\n",
        "\n",
        "롯데호텔 서울의 뷔페 라세느는 12월 평일·주말 저녁 가격을 19만원으로 기존 대비 1만원 올린다. 크리스마스 연휴 때인 23∼25일과 연말 30∼31일 저녁 가격은 20만5000원이다. 롯데호텔 서울의 라세느도 현재 크리스마스 이브인 12월 24일과 크리스마스 당일인 12월 25일 예약은 대부분 마감됐다.\n",
        "\n",
        "워커힐 호텔앤리조트는 그랜드 워커힐에서 운영하던 더뷔페를 비스타 워커힐로 확장 이전해 이날 가격을 올렸다. 평일·주말 저녁 가격은 15만9000원에서 18만9000원으로 3만원 인상됐다. 다만 워커힐은 이번 가격 책정에 인플레이션(물가 상승)을 미리 반영한 만큼 연말을 앞두고 추가 인상을 단행하지 않을 계획이라고 밝혔다.\n",
        "\n",
        "그랜드 인터컨티넨탈 서울 파르나스와 인터컨티넨탈 서울 코엑스도 다음주께 인상된 가격을 공지할 계획이다.'''"
      ],
      "metadata": {
        "id": "msyCuLoufSfi"
      },
      "execution_count": 19,
      "outputs": []
    },
    {
      "cell_type": "code",
      "source": [
        "return_answer(input_text=text)"
      ],
      "metadata": {
        "colab": {
          "base_uri": "https://localhost:8080/",
          "height": 273
        },
        "id": "1rwKGJEWfjME",
        "outputId": "0c42001e-bf87-41a8-f7cf-7729db5446ab"
      },
      "execution_count": 20,
      "outputs": [
        {
          "output_type": "stream",
          "name": "stdout",
          "text": [
            "최종 유저 프롬프트\n",
            "====================================================================================================\n",
            "input: 3일 업계에 따르면 서울 신라호텔의 더 파크뷰는 12월 1∼20일 저녁 가격을 19만5000원으로, 21∼31일 저녁 가격을 21만 5000원으로 각각 인상한다. 평소 평일·주말 저녁 가격이 18만5000원이던 것을 고려하면 각각 1만원과 3만원 올랐다. 가격 인상에도 불구하고 더 파크뷰의 12월 주말 예약은 대부분 찼고 12월 평일 예약 역시 빠르게 마감되고 있다고 신라호텔 측은 전했다.\n",
            "\n",
            "롯데호텔 서울의 뷔페 라세느는 12월 평일·주말 저녁 가격을 19만원으로 기존 대비 1만원 올린다. 크리스마스 연휴 때인 23∼25일과 연말 30∼31일 저녁 가격은 20만5000원이다. 롯데호텔 서울의 라세느도 현재 크리스마스 이브인 12월 24일과 크리스마스 당일인 12월 25일 예약은 대부분 마감됐다.\n",
            "\n",
            "워커힐 호텔앤리조트는 그랜드 워커힐에서 운영하던 더뷔페를 비스타 워커힐로 확장 이전해 이날 가격을 올렸다. 평일·주말 저녁 가격은 15만9000원에서 18만9000원으로 3만원 인상됐다. 다만 워커힐은 이번 가격 책정에 인플레이션(물가 상승)을 미리 반영한 만큼 연말을 앞두고 추가 인상을 단행하지 않을 계획이라고 밝혔다.\n",
            "\n",
            "그랜드 인터컨티넨탈 서울 파르나스와 인터컨티넨탈 서울 코엑스도 다음주께 인상된 가격을 공지할 계획이다.\n",
            "keyword: \n",
            "====================================================================================================\n"
          ]
        },
        {
          "output_type": "execute_result",
          "data": {
            "text/plain": [
              "\"['서울 신라호텔', '더 파크뷰', '19만5000원', '21만5000원', '롯데호텔 서울', '라세느', '19만원', '20만5000원', '워커힐 호텔앤리조트', '더뷔페', '비스타 워커힐', '18만9000원', '인플레이션', '그랜드 인터컨티넨탈 서울 파르나스', '인터컨티넨탈 서울 코엑스']\""
            ],
            "application/vnd.google.colaboratory.intrinsic+json": {
              "type": "string"
            }
          },
          "metadata": {},
          "execution_count": 20
        }
      ]
    },
    {
      "cell_type": "markdown",
      "source": [
        "## 5-3. 제목 추출"
      ],
      "metadata": {
        "id": "UlgQgyMvfNMx"
      }
    },
    {
      "cell_type": "code",
      "source": [
        "def return_answer(text):\n",
        "    prompt = '''주어진 텍스트로부터 적절한 제목을 만들어줘. 제목은 간결하고 너무 길어서는 안 돼.'''\n",
        "\n",
        "    response = client.chat.completions.create(\n",
        "    model=\"gpt-4o\",\n",
        "    messages=[\n",
        "        {\"role\": \"system\", \"content\": prompt},\n",
        "          {\"role\": \"user\", \"content\": text}\n",
        "      ]\n",
        "    )\n",
        "    return response.choices[0].message.content"
      ],
      "metadata": {
        "id": "8MkLO6_yC_3Q"
      },
      "execution_count": 21,
      "outputs": []
    },
    {
      "cell_type": "code",
      "source": [
        "input_text = '''지난 11일 국회 정무위원회 전체 회의에선 이복현 금융감독원장의 해외 출장길이 도마 에 올랐다. 이 원장이 지난 8일부터 닷새간 동남아 싱가포르·인도네시아·태국 등 주요 3개국 출장을 떠나 이날 회의에 참석하지 못했기 때문이다. 금감원에선 이준수·함용일 부원장이 전체 회의에 대참했다.\n",
        "\n",
        "이 원장의 이번 출장은 국내 금융사의 투자 유치와 해외진출 확대를 지원하기 위해서다. 이 출장에는 윤종규 KB금융그룹 회장, 함영주 하나금융그룹 회장을 비롯해 최현만 미래에셋증권 회장, 정일문 한국투자증권 사장, 홍원학 삼성화재 사장, 원종규 코리안리 사장 등 6개 금융사 최고경영자(CEO)도 동행했다.\n",
        "\n",
        "야당의 지적처럼 금융권 일각에선 이번 출장을 두고 다소 의아하다는 시각이 있었다. 금감원이 해외에서 IR 행사를 하긴 하지만, 금융위원장이 아니라 금감원장이 직접 나간 적은 드물어서다. 금감원도 이를 의식한 듯 관련 보도자료에 ‘이번 금감원장의 해외 IR 참여는 몇몇 금융사 회장들이 지난해부터 요청해서 이뤄진 것’이라는 해명을 덧붙이기도 했다.'''\n",
        "\n",
        "return_answer(input_text)"
      ],
      "metadata": {
        "colab": {
          "base_uri": "https://localhost:8080/",
          "height": 35
        },
        "id": "XiVouQJTE81X",
        "outputId": "71874ad6-6fb3-47c3-dfdc-6afc07f5469a"
      },
      "execution_count": 22,
      "outputs": [
        {
          "output_type": "execute_result",
          "data": {
            "text/plain": [
              "'금감원장의 해외 출장 논란'"
            ],
            "application/vnd.google.colaboratory.intrinsic+json": {
              "type": "string"
            }
          },
          "metadata": {},
          "execution_count": 22
        }
      ]
    },
    {
      "cell_type": "markdown",
      "source": [
        "## 5-4. 감성 분류"
      ],
      "metadata": {
        "id": "StHVYnGvenuL"
      }
    },
    {
      "cell_type": "code",
      "source": [
        "def return_answer(text):\n",
        "    prompt = '''주어진 텍스트가 긍정인지 중립인지 부정인지 예측하시오. 당신의 답변은 오로지 [positive, negative, neutral] 셋 중 하나여야만 합니다.\n",
        "    ex) 'SK하이닉스가 2분기 실적에서 역대 최고를 기록하였다' => \"positive\"'''\n",
        "\n",
        "    response = client.chat.completions.create(\n",
        "    model=\"gpt-4o\",\n",
        "    messages=[\n",
        "        {\"role\": \"system\", \"content\": prompt},\n",
        "          {\"role\": \"user\", \"content\": text + \" => \"}\n",
        "      ]\n",
        "    )\n",
        "    return response.choices[0].message.content"
      ],
      "metadata": {
        "id": "hGJmgRhbgdEY"
      },
      "execution_count": 30,
      "outputs": []
    },
    {
      "cell_type": "code",
      "source": [
        "return_answer('씨씨에스 로고 씨씨에스 주가가 상한가다. 3일 기준 씨씨에스는 29.84%(825원) 상승한 3590원에 거래를 마쳤다. 상온 초전도체 이슈가 부각되면서 주가가 연일 영향을 받는 모양새다.')"
      ],
      "metadata": {
        "colab": {
          "base_uri": "https://localhost:8080/",
          "height": 35
        },
        "id": "04jFso60gubz",
        "outputId": "25c38ae3-577a-4791-bd6c-fd40bed9e871"
      },
      "execution_count": 31,
      "outputs": [
        {
          "output_type": "execute_result",
          "data": {
            "text/plain": [
              "'\"positive\"'"
            ],
            "application/vnd.google.colaboratory.intrinsic+json": {
              "type": "string"
            }
          },
          "metadata": {},
          "execution_count": 31
        }
      ]
    }
  ]
}