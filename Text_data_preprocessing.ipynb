{
  "nbformat": 4,
  "nbformat_minor": 0,
  "metadata": {
    "colab": {
      "provenance": [],
      "authorship_tag": "ABX9TyONJeCpI39fIAuZW4zzDdib",
      "include_colab_link": true
    },
    "kernelspec": {
      "name": "python3",
      "display_name": "Python 3"
    },
    "language_info": {
      "name": "python"
    }
  },
  "cells": [
    {
      "cell_type": "markdown",
      "metadata": {
        "id": "view-in-github",
        "colab_type": "text"
      },
      "source": [
        "<a href=\"https://colab.research.google.com/github/lizardnote/Text-Analytics/blob/main/Text_data_preprocessing.ipynb\" target=\"_parent\"><img src=\"https://colab.research.google.com/assets/colab-badge.svg\" alt=\"Open In Colab\"/></a>"
      ]
    },
    {
      "cell_type": "markdown",
      "source": [
        "# 텍스트 클리닝\n",
        "- 주로 정규식(regex) 사용\n",
        "- 크롤링 데이터의 경우 html tag 제거\n",
        "- 필요하지 않은 특수문자 치환, 제거\n",
        "- 자음, 모음으로만 이루어진 글자들 제거\n",
        "- 특수기호 제거"
      ],
      "metadata": {
        "id": "_ack2QHZhCIT"
      }
    },
    {
      "cell_type": "markdown",
      "source": [
        "#### import re\n",
        "  > re.sub 함수 : 정규 표현식과 일치하는 문자열을 다른 문자열로 교체하는데 사용한다. 일치하는 모든 부분을 한번에 교체 가능하다.\n",
        "\n",
        "  > re.sub(pattern, repl, string, count=0, flags=0\n",
        ")"
      ],
      "metadata": {
        "id": "rBZUlelljPwj"
      }
    },
    {
      "cell_type": "code",
      "source": [
        "import re\n",
        "\n",
        "# #flags 사용\n",
        "# sentence = \"My home, my car, MY world!\"\n",
        "# pattern = r\"my\"\n",
        "# replacement = \"Your\"\n",
        "# result = re.sub(pattern, replacement, sentence, flags = re.IGNORECASE)\n",
        "\n",
        "# #count 사용\n",
        "# sentence = \"my home, my car, my world!\"\n",
        "# pattern = r\"my\"\n",
        "# replacement = \"Your\"\n",
        "# result = re.sub(pattern, replacement, sentence, count= 2)\n",
        "\n",
        "# #그룹으로 변경\n",
        "# sentence = \"Hello, my email address is emailadress@colab.com\"\n",
        "# pattern = r\"(\\w+)@(\\w+)\\.(\\w+)\"\n",
        "# replacement = r'\\1@hidden.\\3'\n",
        "# result = re.sub(pattern, replacement, sentence)\n",
        "\n",
        "# #태그 제거\n",
        "# sentence = \"<p>This is a paragraph.</p><a href='#'>This is a link.</a>\"\n",
        "# pattern = r\"<.*?>\"\n",
        "# replacement = \"\"\n",
        "# result = re.sub(pattern, replacement, sentence)\n",
        "\n",
        "# print(sentence)\n",
        "# print(result)"
      ],
      "metadata": {
        "id": "JzMTRrrijPaQ"
      },
      "execution_count": 1,
      "outputs": []
    },
    {
      "cell_type": "code",
      "source": [
        "punct = \"/-'?!.,#$%\\'()*+-/:;<=>@[\\\\]^_`{|}~\" + '\"\"“”’' + '∞θ÷α•à−β∅³π‘₹´°£€\\×™√²—–&'\n",
        "# 특수문자 중 의미는 살리고 치환이 필요한 경우 딕셔너리 형태로 저장\n",
        "punct_mapping = {\"‘\": \"'\", \"₹\": \"e\", \"´\": \"'\", \"°\": \"\", \"€\": \"e\", \"™\": \"tm\", \"√\": \" sqrt \", \"×\": \"x\", \"²\": \"2\", \"—\": \"-\", \"–\": \"-\", \"’\": \"'\", \"_\": \"-\", \"`\": \"'\", '“': '\"', '”': '\"', '“': '\"', \"£\": \"e\", '∞': 'infinity', 'θ': 'theta', '÷': '/', 'α': 'alpha', '•': '.', 'à': 'a', '−': '-', 'β': 'beta', '∅': '', '³': '3', 'π': 'pi', }\n",
        "\n",
        "def cleaning(text, punct, mapping):\n",
        "   # Html 제거\n",
        "    cleaned_text = re.sub('<.*?>', '', text)\n",
        "\n",
        "   # e-mail 제거 - email 패턴을 정규식으로 만들어서 걸리면 제거\n",
        "    cleaned_text = re.sub(r'([a-zA-Z0-9_.+-]+@[a-zA-Z0-9-]+\\.[a-zA-Z0-9-.]+)', '', cleaned_text)\n",
        "\n",
        "    # URL 제거\n",
        "    cleaned_text = re.sub(r'(http|ftp|https)://(?:[-\\w.]|(?:%[\\da-fA-F]{2}))+', ' ', cleaned_text)\n",
        "\n",
        "    # extra space 제거\n",
        "    cleaned_text = re.sub(r'\\s+', ' ', cleaned_text)\n",
        "\n",
        "    # 한글 자음, 모음 제거\n",
        "    cleaned_text = re.sub('([ㄱ-ㅎㅏ-ㅣ]+)', '', cleaned_text)\n",
        "\n",
        "    # 개행 문자 등 제거\n",
        "    cleaned_text = re.sub('[^\\w\\s\\n]', '', cleaned_text)\n",
        "\n",
        "    # 특수부호 mapping\n",
        "    for p in mapping:\n",
        "        cleaned_text = cleaned_text.replace(p, mapping[p])\n",
        "\n",
        "    # 특수부호 제거\n",
        "    for p in punct:\n",
        "        cleaned_text = cleaned_text.replace(p, '')\n",
        "\n",
        "    return cleaned_text\n",
        "\n"
      ],
      "metadata": {
        "id": "ucRfzuqPmGAA"
      },
      "execution_count": 2,
      "outputs": []
    },
    {
      "cell_type": "code",
      "source": [
        "example = \"\"\"\n",
        "<p>\n",
        "안녕하세요. 저는 홍길동입니다.%.   %^^\n",
        "제 이메일은 honggildong@gmail.com,\n",
        "홈페이지 주소는 http://www.example.com\n",
        "입니다.</p>\n",
        "\"\"\"\n",
        "\n",
        "cleaned_text = cleaning(example, punct, punct_mapping)\n",
        "\n",
        "print(cleaned_text)"
      ],
      "metadata": {
        "colab": {
          "base_uri": "https://localhost:8080/"
        },
        "id": "wVvwSsWPI9c-",
        "outputId": "6ca45b33-0ff2-478a-8b69-61139e08ee80"
      },
      "execution_count": 3,
      "outputs": [
        {
          "output_type": "stream",
          "name": "stdout",
          "text": [
            " 안녕하세요 저는 홍길동입니다  제 이메일은  홈페이지 주소는 입니다 \n"
          ]
        }
      ]
    },
    {
      "cell_type": "code",
      "source": [],
      "metadata": {
        "colab": {
          "base_uri": "https://localhost:8080/",
          "height": 1000
        },
        "collapsed": true,
        "id": "HxQTLsD0I_7y",
        "outputId": "555ce5e1-b5c1-4e39-eff9-4e6d61c0be48"
      },
      "execution_count": 4,
      "outputs": [
        {
          "output_type": "stream",
          "name": "stdout",
          "text": [
            "Collecting git+https://github.com/haven-jeon/PyKoSpacing.git\n",
            "  Cloning https://github.com/haven-jeon/PyKoSpacing.git to /tmp/pip-req-build-jplkwb8h\n",
            "  Running command git clone --filter=blob:none --quiet https://github.com/haven-jeon/PyKoSpacing.git /tmp/pip-req-build-jplkwb8h\n",
            "  Resolved https://github.com/haven-jeon/PyKoSpacing.git to commit b32a889cbd10b006d2f4aba118f0cd5b677e2979\n",
            "  Preparing metadata (setup.py) ... \u001b[?25l\u001b[?25hdone\n",
            "Requirement already satisfied: tensorflow>=2.16.2 in /usr/local/lib/python3.11/dist-packages (from pykospacing==0.5) (2.18.0)\n",
            "Requirement already satisfied: h5py>=3.10.0 in /usr/local/lib/python3.11/dist-packages (from pykospacing==0.5) (3.13.0)\n",
            "Collecting argparse>=1.1.0 (from pykospacing==0.5)\n",
            "  Downloading argparse-1.4.0-py2.py3-none-any.whl.metadata (2.8 kB)\n",
            "Requirement already satisfied: numpy>=1.19.3 in /usr/local/lib/python3.11/dist-packages (from h5py>=3.10.0->pykospacing==0.5) (2.0.2)\n",
            "Requirement already satisfied: absl-py>=1.0.0 in /usr/local/lib/python3.11/dist-packages (from tensorflow>=2.16.2->pykospacing==0.5) (1.4.0)\n",
            "Requirement already satisfied: astunparse>=1.6.0 in /usr/local/lib/python3.11/dist-packages (from tensorflow>=2.16.2->pykospacing==0.5) (1.6.3)\n",
            "Requirement already satisfied: flatbuffers>=24.3.25 in /usr/local/lib/python3.11/dist-packages (from tensorflow>=2.16.2->pykospacing==0.5) (25.2.10)\n",
            "Requirement already satisfied: gast!=0.5.0,!=0.5.1,!=0.5.2,>=0.2.1 in /usr/local/lib/python3.11/dist-packages (from tensorflow>=2.16.2->pykospacing==0.5) (0.6.0)\n",
            "Requirement already satisfied: google-pasta>=0.1.1 in /usr/local/lib/python3.11/dist-packages (from tensorflow>=2.16.2->pykospacing==0.5) (0.2.0)\n",
            "Requirement already satisfied: libclang>=13.0.0 in /usr/local/lib/python3.11/dist-packages (from tensorflow>=2.16.2->pykospacing==0.5) (18.1.1)\n",
            "Requirement already satisfied: opt-einsum>=2.3.2 in /usr/local/lib/python3.11/dist-packages (from tensorflow>=2.16.2->pykospacing==0.5) (3.4.0)\n",
            "Requirement already satisfied: packaging in /usr/local/lib/python3.11/dist-packages (from tensorflow>=2.16.2->pykospacing==0.5) (24.2)\n",
            "Requirement already satisfied: protobuf!=4.21.0,!=4.21.1,!=4.21.2,!=4.21.3,!=4.21.4,!=4.21.5,<6.0.0dev,>=3.20.3 in /usr/local/lib/python3.11/dist-packages (from tensorflow>=2.16.2->pykospacing==0.5) (5.29.4)\n",
            "Requirement already satisfied: requests<3,>=2.21.0 in /usr/local/lib/python3.11/dist-packages (from tensorflow>=2.16.2->pykospacing==0.5) (2.32.3)\n",
            "Requirement already satisfied: setuptools in /usr/local/lib/python3.11/dist-packages (from tensorflow>=2.16.2->pykospacing==0.5) (75.2.0)\n",
            "Requirement already satisfied: six>=1.12.0 in /usr/local/lib/python3.11/dist-packages (from tensorflow>=2.16.2->pykospacing==0.5) (1.17.0)\n",
            "Requirement already satisfied: termcolor>=1.1.0 in /usr/local/lib/python3.11/dist-packages (from tensorflow>=2.16.2->pykospacing==0.5) (3.0.1)\n",
            "Requirement already satisfied: typing-extensions>=3.6.6 in /usr/local/lib/python3.11/dist-packages (from tensorflow>=2.16.2->pykospacing==0.5) (4.13.2)\n",
            "Requirement already satisfied: wrapt>=1.11.0 in /usr/local/lib/python3.11/dist-packages (from tensorflow>=2.16.2->pykospacing==0.5) (1.17.2)\n",
            "Requirement already satisfied: grpcio<2.0,>=1.24.3 in /usr/local/lib/python3.11/dist-packages (from tensorflow>=2.16.2->pykospacing==0.5) (1.71.0)\n",
            "Requirement already satisfied: tensorboard<2.19,>=2.18 in /usr/local/lib/python3.11/dist-packages (from tensorflow>=2.16.2->pykospacing==0.5) (2.18.0)\n",
            "Requirement already satisfied: keras>=3.5.0 in /usr/local/lib/python3.11/dist-packages (from tensorflow>=2.16.2->pykospacing==0.5) (3.8.0)\n",
            "Requirement already satisfied: ml-dtypes<0.5.0,>=0.4.0 in /usr/local/lib/python3.11/dist-packages (from tensorflow>=2.16.2->pykospacing==0.5) (0.4.1)\n",
            "Requirement already satisfied: tensorflow-io-gcs-filesystem>=0.23.1 in /usr/local/lib/python3.11/dist-packages (from tensorflow>=2.16.2->pykospacing==0.5) (0.37.1)\n",
            "Requirement already satisfied: wheel<1.0,>=0.23.0 in /usr/local/lib/python3.11/dist-packages (from astunparse>=1.6.0->tensorflow>=2.16.2->pykospacing==0.5) (0.45.1)\n",
            "Requirement already satisfied: rich in /usr/local/lib/python3.11/dist-packages (from keras>=3.5.0->tensorflow>=2.16.2->pykospacing==0.5) (13.9.4)\n",
            "Requirement already satisfied: namex in /usr/local/lib/python3.11/dist-packages (from keras>=3.5.0->tensorflow>=2.16.2->pykospacing==0.5) (0.0.9)\n",
            "Requirement already satisfied: optree in /usr/local/lib/python3.11/dist-packages (from keras>=3.5.0->tensorflow>=2.16.2->pykospacing==0.5) (0.15.0)\n",
            "Requirement already satisfied: charset-normalizer<4,>=2 in /usr/local/lib/python3.11/dist-packages (from requests<3,>=2.21.0->tensorflow>=2.16.2->pykospacing==0.5) (3.4.1)\n",
            "Requirement already satisfied: idna<4,>=2.5 in /usr/local/lib/python3.11/dist-packages (from requests<3,>=2.21.0->tensorflow>=2.16.2->pykospacing==0.5) (3.10)\n",
            "Requirement already satisfied: urllib3<3,>=1.21.1 in /usr/local/lib/python3.11/dist-packages (from requests<3,>=2.21.0->tensorflow>=2.16.2->pykospacing==0.5) (2.4.0)\n",
            "Requirement already satisfied: certifi>=2017.4.17 in /usr/local/lib/python3.11/dist-packages (from requests<3,>=2.21.0->tensorflow>=2.16.2->pykospacing==0.5) (2025.4.26)\n",
            "Requirement already satisfied: markdown>=2.6.8 in /usr/local/lib/python3.11/dist-packages (from tensorboard<2.19,>=2.18->tensorflow>=2.16.2->pykospacing==0.5) (3.8)\n",
            "Requirement already satisfied: tensorboard-data-server<0.8.0,>=0.7.0 in /usr/local/lib/python3.11/dist-packages (from tensorboard<2.19,>=2.18->tensorflow>=2.16.2->pykospacing==0.5) (0.7.2)\n",
            "Requirement already satisfied: werkzeug>=1.0.1 in /usr/local/lib/python3.11/dist-packages (from tensorboard<2.19,>=2.18->tensorflow>=2.16.2->pykospacing==0.5) (3.1.3)\n",
            "Requirement already satisfied: MarkupSafe>=2.1.1 in /usr/local/lib/python3.11/dist-packages (from werkzeug>=1.0.1->tensorboard<2.19,>=2.18->tensorflow>=2.16.2->pykospacing==0.5) (3.0.2)\n",
            "Requirement already satisfied: markdown-it-py>=2.2.0 in /usr/local/lib/python3.11/dist-packages (from rich->keras>=3.5.0->tensorflow>=2.16.2->pykospacing==0.5) (3.0.0)\n",
            "Requirement already satisfied: pygments<3.0.0,>=2.13.0 in /usr/local/lib/python3.11/dist-packages (from rich->keras>=3.5.0->tensorflow>=2.16.2->pykospacing==0.5) (2.19.1)\n",
            "Requirement already satisfied: mdurl~=0.1 in /usr/local/lib/python3.11/dist-packages (from markdown-it-py>=2.2.0->rich->keras>=3.5.0->tensorflow>=2.16.2->pykospacing==0.5) (0.1.2)\n",
            "Downloading argparse-1.4.0-py2.py3-none-any.whl (23 kB)\n",
            "Building wheels for collected packages: pykospacing\n",
            "  Building wheel for pykospacing (setup.py) ... \u001b[?25l\u001b[?25hdone\n",
            "  Created wheel for pykospacing: filename=pykospacing-0.5-py3-none-any.whl size=2286920 sha256=df02fd4d5cfb2ed544cef567e76dbaa936ac95648aa7edc3b1750364ea686930\n",
            "  Stored in directory: /tmp/pip-ephem-wheel-cache-r7d666_6/wheels/1f/3f/64/6d5b2c9ba9cd5aa624676868e8ae8ec684672ce1bcbe20add8\n",
            "Successfully built pykospacing\n",
            "Installing collected packages: argparse, pykospacing\n",
            "Successfully installed argparse-1.4.0 pykospacing-0.5\n"
          ]
        },
        {
          "output_type": "display_data",
          "data": {
            "application/vnd.colab-display-data+json": {
              "pip_warning": {
                "packages": [
                  "argparse"
                ]
              },
              "id": "8b4125024cb84dad84c64000108b15ed"
            }
          },
          "metadata": {}
        }
      ]
    },
    {
      "cell_type": "markdown",
      "source": [
        "## Pykospacing\n",
        "-\n",
        "한국어 띄어쓰기 패키지로 띄어쓰기가 되어있지 않은 문장을 띄어쓰기를 한 문장으로 변환해주는 패키지"
      ],
      "metadata": {
        "id": "XL7iA4mkNgx3"
      }
    },
    {
      "cell_type": "code",
      "source": [
        "from pykospacing import Spacing\n",
        "\n",
        "spacing = Spacing()\n",
        "before_sent = \"김형호영화시장분석가는'1987'의네이버영화정보네티즌10점평에서언급된단어들을지난해12월27일부터올해1월10일까지통계프로그램R과KoNLP패키지로텍스트마이닝하여분석했다.\"\n",
        "after_sent = spacing(before_sent)\n",
        "print('예시 1:', after_sent)\n",
        "\n",
        "# 띄어쓰기 수정을 위해 단어 추가\n",
        "before_sent = '귀밑에서턱까지잇따라난수염을구레나룻이라고한다.'\n",
        "after_sent = spacing(before_sent)\n",
        "print('띄어쓰기 수정 전 :', after_sent)\n",
        "\n",
        "spacing = Spacing(rules=['구레나룻']) # 단어 추가\n",
        "modifined_word_sent = spacing(before_sent)\n",
        "print('띄어쓰기 수정 후 :', modifined_word_sent)"
      ],
      "metadata": {
        "colab": {
          "base_uri": "https://localhost:8080/"
        },
        "id": "4tp9uy7kJIa2",
        "outputId": "cabd4b08-0c33-41ab-eb23-2e65f64330cb"
      },
      "execution_count": 1,
      "outputs": [
        {
          "output_type": "stream",
          "name": "stdout",
          "text": [
            "예시 1: 김형호 영화시장 분석가는 '1987'의 네이버 영화 정보 네티즌 10점 평에서 언급된 단어들을 지난해 12월 27일부터 올해 1월 10일까지 통계 프로그램 R과 KoNLP 패키지로 텍스트마이닝하여 분석했다.\n",
            "띄어쓰기 수정 전 : 귀 밑에서 턱까지 잇따라 난 수염을 구레나 룻이라고 한다.\n",
            "띄어쓰기 수정 후 : 귀 밑에서 턱까지 잇따라 난 수염을 구레나룻이라고 한다.\n"
          ]
        }
      ]
    },
    {
      "cell_type": "markdown",
      "source": [
        "## Kiwi"
      ],
      "metadata": {
        "id": "dxR1aHBHRizS"
      }
    },
    {
      "cell_type": "code",
      "source": [
        "!pip install kiwipiepy"
      ],
      "metadata": {
        "colab": {
          "base_uri": "https://localhost:8080/"
        },
        "id": "hKnoeGoRJOAh",
        "outputId": "42073394-aefc-47ec-f91d-3650dd43023e"
      },
      "execution_count": 2,
      "outputs": [
        {
          "output_type": "stream",
          "name": "stdout",
          "text": [
            "Collecting kiwipiepy\n",
            "  Downloading kiwipiepy-0.21.0-cp311-cp311-manylinux_2_17_x86_64.manylinux2014_x86_64.whl.metadata (1.3 kB)\n",
            "Collecting kiwipiepy_model<0.22,>=0.21 (from kiwipiepy)\n",
            "  Downloading kiwipiepy_model-0.21.0.tar.gz (35.5 MB)\n",
            "\u001b[2K     \u001b[90m━━━━━━━━━━━━━━━━━━━━━━━━━━━━━━━━━━━━━━━━\u001b[0m \u001b[32m35.5/35.5 MB\u001b[0m \u001b[31m30.4 MB/s\u001b[0m eta \u001b[36m0:00:00\u001b[0m\n",
            "\u001b[?25h  Preparing metadata (setup.py) ... \u001b[?25l\u001b[?25hdone\n",
            "Requirement already satisfied: numpy in /usr/local/lib/python3.11/dist-packages (from kiwipiepy) (2.0.2)\n",
            "Requirement already satisfied: tqdm in /usr/local/lib/python3.11/dist-packages (from kiwipiepy) (4.67.1)\n",
            "Downloading kiwipiepy-0.21.0-cp311-cp311-manylinux_2_17_x86_64.manylinux2014_x86_64.whl (7.6 MB)\n",
            "\u001b[2K   \u001b[90m━━━━━━━━━━━━━━━━━━━━━━━━━━━━━━━━━━━━━━━━\u001b[0m \u001b[32m7.6/7.6 MB\u001b[0m \u001b[31m93.2 MB/s\u001b[0m eta \u001b[36m0:00:00\u001b[0m\n",
            "\u001b[?25hBuilding wheels for collected packages: kiwipiepy_model\n",
            "  Building wheel for kiwipiepy_model (setup.py) ... \u001b[?25l\u001b[?25hdone\n",
            "  Created wheel for kiwipiepy_model: filename=kiwipiepy_model-0.21.0-py3-none-any.whl size=35593192 sha256=64c8557e96dfcab60146dd0fa8aba83d1e8dcc79b49afa7ea3004fb88993cf53\n",
            "  Stored in directory: /root/.cache/pip/wheels/b0/16/3d/95053ab5298f0f0f22ffea6de0200b6f24bffb73cab4c1a828\n",
            "Successfully built kiwipiepy_model\n",
            "Installing collected packages: kiwipiepy_model, kiwipiepy\n",
            "Successfully installed kiwipiepy-0.21.0 kiwipiepy_model-0.21.0\n"
          ]
        }
      ]
    },
    {
      "cell_type": "code",
      "source": [
        "from kiwipiepy import Kiwi\n",
        "\n",
        "kiwi = Kiwi()\n",
        "text = \"맞춤법 틀리면 왜 안돼? 쓰고 싶은 대로 쓰면 되지\"\n",
        "\n",
        "result = kiwi.analyze(text)\n",
        "print(result)"
      ],
      "metadata": {
        "colab": {
          "base_uri": "https://localhost:8080/"
        },
        "id": "kRuQoSRkRnAS",
        "outputId": "b93a7f0d-d441-42b8-e4e3-0e10e8ca9cad"
      },
      "execution_count": 7,
      "outputs": [
        {
          "output_type": "stream",
          "name": "stdout",
          "text": [
            "[([Token(form='맞춤법', tag='NNG', start=0, len=3), Token(form='틀리', tag='VV', start=4, len=2), Token(form='면', tag='EC', start=6, len=1), Token(form='왜', tag='MAG', start=8, len=1), Token(form='안', tag='MAG', start=10, len=1), Token(form='되', tag='VV', start=11, len=1), Token(form='어', tag='EF', start=11, len=1), Token(form='?', tag='SF', start=12, len=1), Token(form='쓰', tag='VV', start=14, len=1), Token(form='고', tag='EC', start=15, len=1), Token(form='싶', tag='VX', start=17, len=1), Token(form='은', tag='ETM', start=18, len=1), Token(form='대로', tag='NNB', start=20, len=2), Token(form='쓰', tag='VV', start=23, len=1), Token(form='면', tag='EC', start=24, len=1), Token(form='되', tag='VV', start=26, len=1), Token(form='지', tag='EF', start=27, len=1)], -72.86033630371094)]\n"
          ]
        }
      ]
    },
    {
      "cell_type": "code",
      "source": [
        "for result, score in kiwi.analyze(\"형태소 분석 결과입니다\", top_n=5):\n",
        "    print(score, result, sep='\\t')"
      ],
      "metadata": {
        "colab": {
          "base_uri": "https://localhost:8080/"
        },
        "id": "n_rzwqcbR-rH",
        "outputId": "e6e52492-96af-4ce1-cfb6-fead497d1cce"
      },
      "execution_count": 13,
      "outputs": [
        {
          "output_type": "stream",
          "name": "stdout",
          "text": [
            "-28.924182891845703\t[Token(form='형태소', tag='NNG', start=0, len=3), Token(form='분석', tag='NNG', start=4, len=2), Token(form='결과', tag='NNG', start=7, len=2), Token(form='이', tag='VCP', start=9, len=1), Token(form='ᆸ니다', tag='EF', start=9, len=3)]\n",
            "-35.21170425415039\t[Token(form='형태소', tag='NNG', start=0, len=3), Token(form='분석', tag='NNG', start=4, len=2), Token(form='결과', tag='NNG', start=7, len=2), Token(form='이', tag='VCP', start=9, len=1), Token(form='ᆸ니다', tag='EC', start=9, len=3)]\n",
            "-39.587867736816406\t[Token(form='형태소', tag='NNG', start=0, len=3), Token(form='분석', tag='NNG', start=4, len=2), Token(form='결과', tag='NNG', start=7, len=2), Token(form='이', tag='XSV', start=9, len=1), Token(form='ᆸ니다', tag='EF', start=9, len=3)]\n",
            "-40.72981262207031\t[Token(form='형태소', tag='NNG', start=0, len=3), Token(form='분석', tag='NNG', start=4, len=2), Token(form='결과', tag='NNG', start=7, len=2), Token(form='이', tag='NR', start=9, len=1), Token(form='이', tag='VCP', start=9, len=1), Token(form='ᆸ니다', tag='EF', start=9, len=3)]\n",
            "-40.90468215942383\t[Token(form='형태소', tag='NNG', start=0, len=3), Token(form='분석', tag='NNG', start=4, len=2), Token(form='결과', tag='NNG', start=7, len=2), Token(form='이', tag='MM', start=9, len=1), Token(form='ᆸ니다', tag='EF', start=9, len=3)]\n"
          ]
        }
      ]
    },
    {
      "cell_type": "code",
      "source": [
        "result = kiwi.tokenize(\"형태소 분석 결과입니다\")\n",
        "print(result)"
      ],
      "metadata": {
        "colab": {
          "base_uri": "https://localhost:8080/"
        },
        "id": "zezxYNpNUEsn",
        "outputId": "6419464c-aecb-4982-eef3-fcafdf087d39"
      },
      "execution_count": 11,
      "outputs": [
        {
          "output_type": "stream",
          "name": "stdout",
          "text": [
            "[Token(form='형태소', tag='NNG', start=0, len=3), Token(form='분석', tag='NNG', start=4, len=2), Token(form='결과', tag='NNG', start=7, len=2), Token(form='이', tag='VCP', start=9, len=1), Token(form='ᆸ니다', tag='EF', start=9, len=3)]\n"
          ]
        }
      ]
    },
    {
      "cell_type": "code",
      "source": [
        "kiwi = Kiwi()\n",
        "\n",
        "print(*kiwi.analyze('사람을 골리다', top_n=5), sep='\\n')"
      ],
      "metadata": {
        "colab": {
          "base_uri": "https://localhost:8080/"
        },
        "id": "mIiFAEOxUFU2",
        "outputId": "d9cad0bb-7433-4b0c-b02c-6b7823b0965e"
      },
      "execution_count": 12,
      "outputs": [
        {
          "output_type": "stream",
          "name": "stdout",
          "text": [
            "([Token(form='사람', tag='NNG', start=0, len=2), Token(form='을', tag='JKO', start=2, len=1), Token(form='골리', tag='VV', start=4, len=2), Token(form='다', tag='EF', start=6, len=1)], -35.24259567260742)\n",
            "([Token(form='사람', tag='NNG', start=0, len=2), Token(form='을', tag='JKO', start=2, len=1), Token(form='골리', tag='VV', start=4, len=2), Token(form='다', tag='EC', start=6, len=1)], -35.63294982910156)\n",
            "([Token(form='사람', tag='NNG', start=0, len=2), Token(form='을', tag='JKO', start=2, len=1), Token(form='골', tag='VV', start=4, len=1), Token(form='리다', tag='EF', start=5, len=2)], -38.28620529174805)\n",
            "([Token(form='사람', tag='NNG', start=0, len=2), Token(form='을', tag='JKO', start=2, len=1), Token(form='골', tag='VV', start=4, len=1), Token(form='리', tag='EP', start=5, len=1), Token(form='다', tag='EF', start=6, len=1)], -38.62325668334961)\n",
            "([Token(form='사람', tag='NNG', start=0, len=2), Token(form='을', tag='JKO', start=2, len=1), Token(form='골', tag='VV', start=4, len=1), Token(form='리다', tag='EC', start=5, len=2)], -40.90536117553711)\n"
          ]
        }
      ]
    },
    {
      "cell_type": "markdown",
      "source": [
        "# KoNLPy\n",
        "- 형태소 분석기\n",
        "- 한나눔 / 꼬꼬마/ 메캅(윈도우 지원 불가) / 코모란 / OKt"
      ],
      "metadata": {
        "id": "BLdHJ6HiWaYS"
      }
    },
    {
      "cell_type": "code",
      "source": [
        "!pip install konlpy"
      ],
      "metadata": {
        "colab": {
          "base_uri": "https://localhost:8080/"
        },
        "id": "-CrNnBDGUYNS",
        "outputId": "b892cdc1-0d12-4519-ddeb-a1ac0d2c0f53"
      },
      "execution_count": 14,
      "outputs": [
        {
          "output_type": "stream",
          "name": "stdout",
          "text": [
            "Collecting konlpy\n",
            "  Downloading konlpy-0.6.0-py2.py3-none-any.whl.metadata (1.9 kB)\n",
            "Collecting JPype1>=0.7.0 (from konlpy)\n",
            "  Downloading jpype1-1.5.2-cp311-cp311-manylinux_2_17_x86_64.manylinux2014_x86_64.whl.metadata (4.9 kB)\n",
            "Requirement already satisfied: lxml>=4.1.0 in /usr/local/lib/python3.11/dist-packages (from konlpy) (5.4.0)\n",
            "Requirement already satisfied: numpy>=1.6 in /usr/local/lib/python3.11/dist-packages (from konlpy) (2.0.2)\n",
            "Requirement already satisfied: packaging in /usr/local/lib/python3.11/dist-packages (from JPype1>=0.7.0->konlpy) (24.2)\n",
            "Downloading konlpy-0.6.0-py2.py3-none-any.whl (19.4 MB)\n",
            "\u001b[2K   \u001b[90m━━━━━━━━━━━━━━━━━━━━━━━━━━━━━━━━━━━━━━━━\u001b[0m \u001b[32m19.4/19.4 MB\u001b[0m \u001b[31m75.1 MB/s\u001b[0m eta \u001b[36m0:00:00\u001b[0m\n",
            "\u001b[?25hDownloading jpype1-1.5.2-cp311-cp311-manylinux_2_17_x86_64.manylinux2014_x86_64.whl (494 kB)\n",
            "\u001b[2K   \u001b[90m━━━━━━━━━━━━━━━━━━━━━━━━━━━━━━━━━━━━━━━━\u001b[0m \u001b[32m494.1/494.1 kB\u001b[0m \u001b[31m28.3 MB/s\u001b[0m eta \u001b[36m0:00:00\u001b[0m\n",
            "\u001b[?25hInstalling collected packages: JPype1, konlpy\n",
            "Successfully installed JPype1-1.5.2 konlpy-0.6.0\n"
          ]
        }
      ]
    },
    {
      "cell_type": "markdown",
      "source": [
        "Hannanum : KAIST 말뭉치를 이용해 생성된 사전"
      ],
      "metadata": {
        "id": "OrX31_RQXH0C"
      }
    },
    {
      "cell_type": "code",
      "source": [
        "#한나눔 import\n",
        "from konlpy.tag import Hannanum\n",
        "hannanum = Hannanum()"
      ],
      "metadata": {
        "id": "VyT6Q0dQWvVQ"
      },
      "execution_count": 15,
      "outputs": []
    },
    {
      "cell_type": "code",
      "source": [
        "print(hannanum.morphs('안녕. 나는 돌고래와 바다를 좋아해')) #morphs() : 문장을 형태소 단위로 출력"
      ],
      "metadata": {
        "colab": {
          "base_uri": "https://localhost:8080/"
        },
        "id": "fxP2-j6WW5jB",
        "outputId": "ef27995a-cd55-4ed0-abaa-09ef9fa00058"
      },
      "execution_count": 23,
      "outputs": [
        {
          "output_type": "stream",
          "name": "stdout",
          "text": [
            "['안녕', '.', '나', '는', '돌고래', '와', '바다', '를', '좋', '아', '하', '어']\n"
          ]
        }
      ]
    },
    {
      "cell_type": "code",
      "source": [
        "print(hannanum.nouns('안녕. 나는 돌고래와 바다를 좋아해')) #nouns() : 문장을 명사 단위로 력"
      ],
      "metadata": {
        "colab": {
          "base_uri": "https://localhost:8080/"
        },
        "id": "IasbfxG_W-MB",
        "outputId": "a9698627-bbea-46cd-9e75-4b99453b1a83"
      },
      "execution_count": 24,
      "outputs": [
        {
          "output_type": "stream",
          "name": "stdout",
          "text": [
            "['나', '돌고래', '바다']\n"
          ]
        }
      ]
    },
    {
      "cell_type": "code",
      "source": [
        "print(hannanum.pos('안녕. 나는 돌고래와 바다를 좋아해')) #pos() : 형태소의 종류와 함께 출력"
      ],
      "metadata": {
        "colab": {
          "base_uri": "https://localhost:8080/"
        },
        "id": "NgA5F4hzXO61",
        "outputId": "de3fea74-ef88-471a-95bf-3c41233d184f"
      },
      "execution_count": 25,
      "outputs": [
        {
          "output_type": "stream",
          "name": "stdout",
          "text": [
            "[('안녕', 'I'), ('.', 'S'), ('나', 'N'), ('는', 'J'), ('돌고래', 'N'), ('와', 'J'), ('바다', 'N'), ('를', 'J'), ('좋', 'P'), ('아', 'E'), ('하', 'P'), ('어', 'E')]\n"
          ]
        }
      ]
    },
    {
      "cell_type": "code",
      "source": [
        "print(hannanum.tagset) #품사 종류 출력"
      ],
      "metadata": {
        "colab": {
          "base_uri": "https://localhost:8080/"
        },
        "id": "mwVafwbzXUMF",
        "outputId": "ce0e92a4-33e0-4d58-b122-c8562e08dda0"
      },
      "execution_count": 26,
      "outputs": [
        {
          "output_type": "stream",
          "name": "stdout",
          "text": [
            "{'E': '어미', 'EC': '연결 어미', 'EF': '종결 어미', 'EP': '선어말어미', 'ET': '전성 어미', 'F': '외국어', 'I': '독립언', 'II': '감탄사', 'J': '관계언', 'JC': '격조사', 'JP': '서술격 조사', 'JX': '보조사', 'M': '수식언', 'MA': '부사', 'MM': '관형사', 'N': '체언', 'NB': '의존명사', 'NC': '보통명사', 'NN': '수사', 'NP': '대명사', 'NQ': '고유명사', 'P': '용언', 'PA': '형용사', 'PV': '동사', 'PX': '보조 용언', 'S': '기호', 'X': '접사', 'XP': '접두사', 'XS': '접미사'}\n"
          ]
        }
      ]
    },
    {
      "cell_type": "markdown",
      "source": [
        "꼬꼬마 Kkma"
      ],
      "metadata": {
        "id": "izoD8HLXYQc1"
      }
    },
    {
      "cell_type": "code",
      "source": [
        "from konlpy.tag import Kkma\n",
        "kkma = Kkma()\n",
        "\n",
        "#형태소 분석\n",
        "print(\"형태소 분석: \", kkma.morphs('안녕. 나는 돌고래와 바다를 좋아해'))\n",
        "#명사 추출\n",
        "print(\"명사 추출: \", kkma.nouns('안녕. 나는 돌고래와 바다를 좋아해'))\n",
        "#품사와 같이 반환\n",
        "print(\"품사와 같이 반환: \", kkma.pos('안녕. 나는 돌고래와 바다를 좋아해'))\n",
        "#문장 추출\n",
        "print(\"문장 추출: \", kkma.sentences('안녕. 나는 돌고래와 바다를 좋아해'))\n"
      ],
      "metadata": {
        "colab": {
          "base_uri": "https://localhost:8080/"
        },
        "id": "uiMYsCouXZDu",
        "outputId": "7a971293-92f8-4f77-b61a-5fc6ea879c50"
      },
      "execution_count": 29,
      "outputs": [
        {
          "output_type": "stream",
          "name": "stdout",
          "text": [
            "형태소 분석:  ['안녕', '.', '나', '는', '돌고래', '와', '바다', '를', '좋아하', '어']\n",
            "명사 추출:  ['안녕', '나', '돌고래', '바다']\n",
            "품사와 같이 반환:  [('안녕', 'NNG'), ('.', 'SF'), ('나', 'NP'), ('는', 'JX'), ('돌고래', 'NNG'), ('와', 'JC'), ('바다', 'NNG'), ('를', 'JKO'), ('좋아하', 'VV'), ('어', 'ECS')]\n",
            "문장 추출:  ['안녕. 나는 돌고래와 바다를 좋아해']\n"
          ]
        }
      ]
    },
    {
      "cell_type": "markdown",
      "source": [
        "Komoran\n",
        "- Shineware에서 개발한 자바 기반의 한국어 형태소 분석기\n",
        "- 코모란은 공백이 포함된 형태소 단위로 분석이 가능"
      ],
      "metadata": {
        "id": "7-UsDxBRbDFy"
      }
    },
    {
      "cell_type": "code",
      "source": [
        "from konlpy.tag import Komoran\n",
        "komoran = Komoran()\n",
        "\n",
        "#형태소 분석\n",
        "print(\"형태소 분석: \", komoran.morphs('안녕. 나는 돌고래와 바다를 좋아해'))\n",
        "#명사 추출\n",
        "print(\"명사 추출: \", komoran.nouns('안녕. 나는 돌고래와 바다를 좋아해'))\n",
        "#품사와 같이 반환\n",
        "print(\"품사와 같이 반환: \", komoran.pos('안녕. 나는 돌고래와 바다를 좋아해'))\n"
      ],
      "metadata": {
        "colab": {
          "base_uri": "https://localhost:8080/"
        },
        "id": "vxl09a5rYt_F",
        "outputId": "71af3935-d00d-4738-efb2-f68aa8578901"
      },
      "execution_count": 31,
      "outputs": [
        {
          "output_type": "stream",
          "name": "stdout",
          "text": [
            "형태소 분석:  ['안녕', '.', '나', '는', '돌고래', '와', '바다', '를', '좋아하', '아']\n",
            "명사 추출:  ['돌고래', '바다']\n",
            "품사와 같이 반환:  [('안녕', 'IC'), ('.', 'SF'), ('나', 'NP'), ('는', 'JX'), ('돌고래', 'NNP'), ('와', 'JC'), ('바다', 'NNG'), ('를', 'JKO'), ('좋아하', 'VV'), ('아', 'EC')]\n"
          ]
        }
      ]
    },
    {
      "cell_type": "markdown",
      "source": [
        "Okt(Open source Korean Text Processor)\n"
      ],
      "metadata": {
        "id": "ZFgVy4A2bM1m"
      }
    },
    {
      "cell_type": "code",
      "source": [
        "from konlpy.tag import Okt\n",
        "okt = Okt()\n",
        "\n",
        "#형태소 분석\n",
        "print(\"형태소 분석: \", okt.morphs('안녕. 나는 돌고래와 바다를 좋아해'))\n",
        "#명사 추출\n",
        "print(\"명사 추출: \", okt.nouns('안녕. 나는 돌고래와 바다를 좋아해'))\n",
        "#품사와 같이 반환\n",
        "print(\"품사와 같이 반환: \", okt.pos('안녕. 나는 돌고래와 바다를 좋아해'))"
      ],
      "metadata": {
        "colab": {
          "base_uri": "https://localhost:8080/"
        },
        "id": "yDqUE3o2Z6Qw",
        "outputId": "6d81f1b9-09b1-46a2-ee77-21bce711d6b8"
      },
      "execution_count": 32,
      "outputs": [
        {
          "output_type": "stream",
          "name": "stdout",
          "text": [
            "형태소 분석:  ['안녕', '.', '나', '는', '돌고래', '와', '바다', '를', '좋아해']\n",
            "명사 추출:  ['안녕', '나', '돌고래', '바다']\n",
            "품사와 같이 반환:  [('안녕', 'Noun'), ('.', 'Punctuation'), ('나', 'Noun'), ('는', 'Josa'), ('돌고래', 'Noun'), ('와', 'Josa'), ('바다', 'Noun'), ('를', 'Josa'), ('좋아해', 'Adjective')]\n"
          ]
        }
      ]
    },
    {
      "cell_type": "code",
      "source": [
        "print(okt.normalize('안녕. 나는 돌고랳ㅎㅎ 바다를 좋아햌ㅋ'))\n",
        "print(okt.phrases('안녕. 나는 돌고래와 바다를 좋아해'))"
      ],
      "metadata": {
        "colab": {
          "base_uri": "https://localhost:8080/"
        },
        "id": "5dcJpVvUc025",
        "outputId": "a2b99445-ea9e-4732-f13c-d4a3e085d1bd"
      },
      "execution_count": 39,
      "outputs": [
        {
          "output_type": "stream",
          "name": "stdout",
          "text": [
            "안녕. 나는 돌고래ㅎㅎ 바다를 좋아해ㅋ\n",
            "['안녕', '돌고래', '돌고래와 바다', '바다']\n"
          ]
        }
      ]
    }
  ]
}