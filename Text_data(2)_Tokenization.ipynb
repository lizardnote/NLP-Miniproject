{
  "nbformat": 4,
  "nbformat_minor": 0,
  "metadata": {
    "colab": {
      "provenance": [],
      "authorship_tag": "ABX9TyOfMyDAlQooHJuFxjvw6KYx",
      "include_colab_link": true
    },
    "kernelspec": {
      "name": "python3",
      "display_name": "Python 3"
    },
    "language_info": {
      "name": "python"
    }
  },
  "cells": [
    {
      "cell_type": "markdown",
      "metadata": {
        "id": "view-in-github",
        "colab_type": "text"
      },
      "source": [
        "<a href=\"https://colab.research.google.com/github/lizardnote/Text-Analytics/blob/main/Text_data(2)_Tokenization.ipynb\" target=\"_parent\"><img src=\"https://colab.research.google.com/assets/colab-badge.svg\" alt=\"Open In Colab\"/></a>"
      ]
    },
    {
      "cell_type": "markdown",
      "source": [
        "# 2.Tokenization\n",
        "\n",
        "## 1) Word2Vec\n",
        "- 일정한 차원의 벡터로 단어를 표현\n",
        "- 주변에 같은 단어가 나타날수록 비슷한 벡터가 되도록 학습\n",
        "- 의미론적 유사도 비교 가능"
      ],
      "metadata": {
        "id": "T1LiTAsdn_WT"
      }
    },
    {
      "cell_type": "code",
      "source": [
        "!pip install konlpy"
      ],
      "metadata": {
        "colab": {
          "base_uri": "https://localhost:8080/"
        },
        "id": "rUAeI5XPt0b5",
        "outputId": "b7156a7c-181a-48cc-e763-47c9b6a46c0e"
      },
      "execution_count": null,
      "outputs": [
        {
          "output_type": "stream",
          "name": "stdout",
          "text": [
            "Requirement already satisfied: konlpy in /usr/local/lib/python3.11/dist-packages (0.6.0)\n",
            "Requirement already satisfied: JPype1>=0.7.0 in /usr/local/lib/python3.11/dist-packages (from konlpy) (1.5.2)\n",
            "Requirement already satisfied: lxml>=4.1.0 in /usr/local/lib/python3.11/dist-packages (from konlpy) (5.4.0)\n",
            "Requirement already satisfied: numpy>=1.6 in /usr/local/lib/python3.11/dist-packages (from konlpy) (1.26.4)\n",
            "Requirement already satisfied: packaging in /usr/local/lib/python3.11/dist-packages (from JPype1>=0.7.0->konlpy) (24.2)\n"
          ]
        }
      ]
    },
    {
      "cell_type": "code",
      "source": [
        "import urllib.request\n",
        "import pandas as pd\n",
        "from tqdm import tqdm"
      ],
      "metadata": {
        "id": "bhQUZz6mn-kx"
      },
      "execution_count": null,
      "outputs": []
    },
    {
      "cell_type": "code",
      "source": [
        "urllib.request.urlretrieve(\"https://raw.githubusercontent.com/e9t/nsmc/master/ratings.txt\", filename=\"ratings.txt\")\n",
        "train_data = pd.read_table('ratings.txt')\n",
        "train_data[:10]"
      ],
      "metadata": {
        "colab": {
          "base_uri": "https://localhost:8080/",
          "height": 397
        },
        "id": "tYQDBO17qoTW",
        "outputId": "9564c004-6927-4b48-d0fa-4574135cff1c"
      },
      "execution_count": null,
      "outputs": [
        {
          "output_type": "execute_result",
          "data": {
            "text/plain": [
              "         id                                           document  label\n",
              "0   8112052                                어릴때보고 지금다시봐도 재밌어요ㅋㅋ      1\n",
              "1   8132799  디자인을 배우는 학생으로, 외국디자이너와 그들이 일군 전통을 통해 발전해가는 문화산...      1\n",
              "2   4655635               폴리스스토리 시리즈는 1부터 뉴까지 버릴께 하나도 없음.. 최고.      1\n",
              "3   9251303  와.. 연기가 진짜 개쩔구나.. 지루할거라고 생각했는데 몰입해서 봤다.. 그래 이런...      1\n",
              "4  10067386                        안개 자욱한 밤하늘에 떠 있는 초승달 같은 영화.      1\n",
              "5   2190435                      사랑을 해본사람이라면 처음부터 끝까지 웃을수 있는영화      1\n",
              "6   9279041                                   완전 감동입니다 다시봐도 감동      1\n",
              "7   7865729                        개들의 전쟁2 나오나요? 나오면 1빠로 보고 싶음      1\n",
              "8   7477618                                                  굿      1\n",
              "9   9250537                                     바보가 아니라 병 쉰 인듯      1"
            ],
            "text/html": [
              "\n",
              "  <div id=\"df-b7c36724-1a29-41d6-b84e-95b76899b139\" class=\"colab-df-container\">\n",
              "    <div>\n",
              "<style scoped>\n",
              "    .dataframe tbody tr th:only-of-type {\n",
              "        vertical-align: middle;\n",
              "    }\n",
              "\n",
              "    .dataframe tbody tr th {\n",
              "        vertical-align: top;\n",
              "    }\n",
              "\n",
              "    .dataframe thead th {\n",
              "        text-align: right;\n",
              "    }\n",
              "</style>\n",
              "<table border=\"1\" class=\"dataframe\">\n",
              "  <thead>\n",
              "    <tr style=\"text-align: right;\">\n",
              "      <th></th>\n",
              "      <th>id</th>\n",
              "      <th>document</th>\n",
              "      <th>label</th>\n",
              "    </tr>\n",
              "  </thead>\n",
              "  <tbody>\n",
              "    <tr>\n",
              "      <th>0</th>\n",
              "      <td>8112052</td>\n",
              "      <td>어릴때보고 지금다시봐도 재밌어요ㅋㅋ</td>\n",
              "      <td>1</td>\n",
              "    </tr>\n",
              "    <tr>\n",
              "      <th>1</th>\n",
              "      <td>8132799</td>\n",
              "      <td>디자인을 배우는 학생으로, 외국디자이너와 그들이 일군 전통을 통해 발전해가는 문화산...</td>\n",
              "      <td>1</td>\n",
              "    </tr>\n",
              "    <tr>\n",
              "      <th>2</th>\n",
              "      <td>4655635</td>\n",
              "      <td>폴리스스토리 시리즈는 1부터 뉴까지 버릴께 하나도 없음.. 최고.</td>\n",
              "      <td>1</td>\n",
              "    </tr>\n",
              "    <tr>\n",
              "      <th>3</th>\n",
              "      <td>9251303</td>\n",
              "      <td>와.. 연기가 진짜 개쩔구나.. 지루할거라고 생각했는데 몰입해서 봤다.. 그래 이런...</td>\n",
              "      <td>1</td>\n",
              "    </tr>\n",
              "    <tr>\n",
              "      <th>4</th>\n",
              "      <td>10067386</td>\n",
              "      <td>안개 자욱한 밤하늘에 떠 있는 초승달 같은 영화.</td>\n",
              "      <td>1</td>\n",
              "    </tr>\n",
              "    <tr>\n",
              "      <th>5</th>\n",
              "      <td>2190435</td>\n",
              "      <td>사랑을 해본사람이라면 처음부터 끝까지 웃을수 있는영화</td>\n",
              "      <td>1</td>\n",
              "    </tr>\n",
              "    <tr>\n",
              "      <th>6</th>\n",
              "      <td>9279041</td>\n",
              "      <td>완전 감동입니다 다시봐도 감동</td>\n",
              "      <td>1</td>\n",
              "    </tr>\n",
              "    <tr>\n",
              "      <th>7</th>\n",
              "      <td>7865729</td>\n",
              "      <td>개들의 전쟁2 나오나요? 나오면 1빠로 보고 싶음</td>\n",
              "      <td>1</td>\n",
              "    </tr>\n",
              "    <tr>\n",
              "      <th>8</th>\n",
              "      <td>7477618</td>\n",
              "      <td>굿</td>\n",
              "      <td>1</td>\n",
              "    </tr>\n",
              "    <tr>\n",
              "      <th>9</th>\n",
              "      <td>9250537</td>\n",
              "      <td>바보가 아니라 병 쉰 인듯</td>\n",
              "      <td>1</td>\n",
              "    </tr>\n",
              "  </tbody>\n",
              "</table>\n",
              "</div>\n",
              "    <div class=\"colab-df-buttons\">\n",
              "\n",
              "  <div class=\"colab-df-container\">\n",
              "    <button class=\"colab-df-convert\" onclick=\"convertToInteractive('df-b7c36724-1a29-41d6-b84e-95b76899b139')\"\n",
              "            title=\"Convert this dataframe to an interactive table.\"\n",
              "            style=\"display:none;\">\n",
              "\n",
              "  <svg xmlns=\"http://www.w3.org/2000/svg\" height=\"24px\" viewBox=\"0 -960 960 960\">\n",
              "    <path d=\"M120-120v-720h720v720H120Zm60-500h600v-160H180v160Zm220 220h160v-160H400v160Zm0 220h160v-160H400v160ZM180-400h160v-160H180v160Zm440 0h160v-160H620v160ZM180-180h160v-160H180v160Zm440 0h160v-160H620v160Z\"/>\n",
              "  </svg>\n",
              "    </button>\n",
              "\n",
              "  <style>\n",
              "    .colab-df-container {\n",
              "      display:flex;\n",
              "      gap: 12px;\n",
              "    }\n",
              "\n",
              "    .colab-df-convert {\n",
              "      background-color: #E8F0FE;\n",
              "      border: none;\n",
              "      border-radius: 50%;\n",
              "      cursor: pointer;\n",
              "      display: none;\n",
              "      fill: #1967D2;\n",
              "      height: 32px;\n",
              "      padding: 0 0 0 0;\n",
              "      width: 32px;\n",
              "    }\n",
              "\n",
              "    .colab-df-convert:hover {\n",
              "      background-color: #E2EBFA;\n",
              "      box-shadow: 0px 1px 2px rgba(60, 64, 67, 0.3), 0px 1px 3px 1px rgba(60, 64, 67, 0.15);\n",
              "      fill: #174EA6;\n",
              "    }\n",
              "\n",
              "    .colab-df-buttons div {\n",
              "      margin-bottom: 4px;\n",
              "    }\n",
              "\n",
              "    [theme=dark] .colab-df-convert {\n",
              "      background-color: #3B4455;\n",
              "      fill: #D2E3FC;\n",
              "    }\n",
              "\n",
              "    [theme=dark] .colab-df-convert:hover {\n",
              "      background-color: #434B5C;\n",
              "      box-shadow: 0px 1px 3px 1px rgba(0, 0, 0, 0.15);\n",
              "      filter: drop-shadow(0px 1px 2px rgba(0, 0, 0, 0.3));\n",
              "      fill: #FFFFFF;\n",
              "    }\n",
              "  </style>\n",
              "\n",
              "    <script>\n",
              "      const buttonEl =\n",
              "        document.querySelector('#df-b7c36724-1a29-41d6-b84e-95b76899b139 button.colab-df-convert');\n",
              "      buttonEl.style.display =\n",
              "        google.colab.kernel.accessAllowed ? 'block' : 'none';\n",
              "\n",
              "      async function convertToInteractive(key) {\n",
              "        const element = document.querySelector('#df-b7c36724-1a29-41d6-b84e-95b76899b139');\n",
              "        const dataTable =\n",
              "          await google.colab.kernel.invokeFunction('convertToInteractive',\n",
              "                                                    [key], {});\n",
              "        if (!dataTable) return;\n",
              "\n",
              "        const docLinkHtml = 'Like what you see? Visit the ' +\n",
              "          '<a target=\"_blank\" href=https://colab.research.google.com/notebooks/data_table.ipynb>data table notebook</a>'\n",
              "          + ' to learn more about interactive tables.';\n",
              "        element.innerHTML = '';\n",
              "        dataTable['output_type'] = 'display_data';\n",
              "        await google.colab.output.renderOutput(dataTable, element);\n",
              "        const docLink = document.createElement('div');\n",
              "        docLink.innerHTML = docLinkHtml;\n",
              "        element.appendChild(docLink);\n",
              "      }\n",
              "    </script>\n",
              "  </div>\n",
              "\n",
              "\n",
              "    <div id=\"df-6cd075db-8779-44ad-a701-1dd39390c085\">\n",
              "      <button class=\"colab-df-quickchart\" onclick=\"quickchart('df-6cd075db-8779-44ad-a701-1dd39390c085')\"\n",
              "                title=\"Suggest charts\"\n",
              "                style=\"display:none;\">\n",
              "\n",
              "<svg xmlns=\"http://www.w3.org/2000/svg\" height=\"24px\"viewBox=\"0 0 24 24\"\n",
              "     width=\"24px\">\n",
              "    <g>\n",
              "        <path d=\"M19 3H5c-1.1 0-2 .9-2 2v14c0 1.1.9 2 2 2h14c1.1 0 2-.9 2-2V5c0-1.1-.9-2-2-2zM9 17H7v-7h2v7zm4 0h-2V7h2v10zm4 0h-2v-4h2v4z\"/>\n",
              "    </g>\n",
              "</svg>\n",
              "      </button>\n",
              "\n",
              "<style>\n",
              "  .colab-df-quickchart {\n",
              "      --bg-color: #E8F0FE;\n",
              "      --fill-color: #1967D2;\n",
              "      --hover-bg-color: #E2EBFA;\n",
              "      --hover-fill-color: #174EA6;\n",
              "      --disabled-fill-color: #AAA;\n",
              "      --disabled-bg-color: #DDD;\n",
              "  }\n",
              "\n",
              "  [theme=dark] .colab-df-quickchart {\n",
              "      --bg-color: #3B4455;\n",
              "      --fill-color: #D2E3FC;\n",
              "      --hover-bg-color: #434B5C;\n",
              "      --hover-fill-color: #FFFFFF;\n",
              "      --disabled-bg-color: #3B4455;\n",
              "      --disabled-fill-color: #666;\n",
              "  }\n",
              "\n",
              "  .colab-df-quickchart {\n",
              "    background-color: var(--bg-color);\n",
              "    border: none;\n",
              "    border-radius: 50%;\n",
              "    cursor: pointer;\n",
              "    display: none;\n",
              "    fill: var(--fill-color);\n",
              "    height: 32px;\n",
              "    padding: 0;\n",
              "    width: 32px;\n",
              "  }\n",
              "\n",
              "  .colab-df-quickchart:hover {\n",
              "    background-color: var(--hover-bg-color);\n",
              "    box-shadow: 0 1px 2px rgba(60, 64, 67, 0.3), 0 1px 3px 1px rgba(60, 64, 67, 0.15);\n",
              "    fill: var(--button-hover-fill-color);\n",
              "  }\n",
              "\n",
              "  .colab-df-quickchart-complete:disabled,\n",
              "  .colab-df-quickchart-complete:disabled:hover {\n",
              "    background-color: var(--disabled-bg-color);\n",
              "    fill: var(--disabled-fill-color);\n",
              "    box-shadow: none;\n",
              "  }\n",
              "\n",
              "  .colab-df-spinner {\n",
              "    border: 2px solid var(--fill-color);\n",
              "    border-color: transparent;\n",
              "    border-bottom-color: var(--fill-color);\n",
              "    animation:\n",
              "      spin 1s steps(1) infinite;\n",
              "  }\n",
              "\n",
              "  @keyframes spin {\n",
              "    0% {\n",
              "      border-color: transparent;\n",
              "      border-bottom-color: var(--fill-color);\n",
              "      border-left-color: var(--fill-color);\n",
              "    }\n",
              "    20% {\n",
              "      border-color: transparent;\n",
              "      border-left-color: var(--fill-color);\n",
              "      border-top-color: var(--fill-color);\n",
              "    }\n",
              "    30% {\n",
              "      border-color: transparent;\n",
              "      border-left-color: var(--fill-color);\n",
              "      border-top-color: var(--fill-color);\n",
              "      border-right-color: var(--fill-color);\n",
              "    }\n",
              "    40% {\n",
              "      border-color: transparent;\n",
              "      border-right-color: var(--fill-color);\n",
              "      border-top-color: var(--fill-color);\n",
              "    }\n",
              "    60% {\n",
              "      border-color: transparent;\n",
              "      border-right-color: var(--fill-color);\n",
              "    }\n",
              "    80% {\n",
              "      border-color: transparent;\n",
              "      border-right-color: var(--fill-color);\n",
              "      border-bottom-color: var(--fill-color);\n",
              "    }\n",
              "    90% {\n",
              "      border-color: transparent;\n",
              "      border-bottom-color: var(--fill-color);\n",
              "    }\n",
              "  }\n",
              "</style>\n",
              "\n",
              "      <script>\n",
              "        async function quickchart(key) {\n",
              "          const quickchartButtonEl =\n",
              "            document.querySelector('#' + key + ' button');\n",
              "          quickchartButtonEl.disabled = true;  // To prevent multiple clicks.\n",
              "          quickchartButtonEl.classList.add('colab-df-spinner');\n",
              "          try {\n",
              "            const charts = await google.colab.kernel.invokeFunction(\n",
              "                'suggestCharts', [key], {});\n",
              "          } catch (error) {\n",
              "            console.error('Error during call to suggestCharts:', error);\n",
              "          }\n",
              "          quickchartButtonEl.classList.remove('colab-df-spinner');\n",
              "          quickchartButtonEl.classList.add('colab-df-quickchart-complete');\n",
              "        }\n",
              "        (() => {\n",
              "          let quickchartButtonEl =\n",
              "            document.querySelector('#df-6cd075db-8779-44ad-a701-1dd39390c085 button');\n",
              "          quickchartButtonEl.style.display =\n",
              "            google.colab.kernel.accessAllowed ? 'block' : 'none';\n",
              "        })();\n",
              "      </script>\n",
              "    </div>\n",
              "\n",
              "    </div>\n",
              "  </div>\n"
            ],
            "application/vnd.google.colaboratory.intrinsic+json": {
              "type": "dataframe",
              "summary": "{\n  \"name\": \"train_data[:10]\",\n  \"rows\": 10,\n  \"fields\": [\n    {\n      \"column\": \"id\",\n      \"properties\": {\n        \"dtype\": \"number\",\n        \"std\": 2424747,\n        \"min\": 2190435,\n        \"max\": 10067386,\n        \"num_unique_values\": 10,\n        \"samples\": [\n          7477618,\n          8132799,\n          2190435\n        ],\n        \"semantic_type\": \"\",\n        \"description\": \"\"\n      }\n    },\n    {\n      \"column\": \"document\",\n      \"properties\": {\n        \"dtype\": \"string\",\n        \"num_unique_values\": 10,\n        \"samples\": [\n          \"\\uad7f\",\n          \"\\ub514\\uc790\\uc778\\uc744 \\ubc30\\uc6b0\\ub294 \\ud559\\uc0dd\\uc73c\\ub85c, \\uc678\\uad6d\\ub514\\uc790\\uc774\\ub108\\uc640 \\uadf8\\ub4e4\\uc774 \\uc77c\\uad70 \\uc804\\ud1b5\\uc744 \\ud1b5\\ud574 \\ubc1c\\uc804\\ud574\\uac00\\ub294 \\ubb38\\ud654\\uc0b0\\uc5c5\\uc774 \\ubd80\\ub7ec\\uc6e0\\ub294\\ub370. \\uc0ac\\uc2e4 \\uc6b0\\ub9ac\\ub098\\ub77c\\uc5d0\\uc11c\\ub3c4 \\uadf8 \\uc5b4\\ub824\\uc6b4\\uc2dc\\uc808\\uc5d0 \\ub05d\\uae4c\\uc9c0 \\uc5f4\\uc815\\uc744 \\uc9c0\\ud0a8 \\ub178\\ub77c\\ub178 \\uac19\\uc740 \\uc804\\ud1b5\\uc774\\uc788\\uc5b4 \\uc800\\uc640 \\uac19\\uc740 \\uc0ac\\ub78c\\ub4e4\\uc774 \\uafc8\\uc744 \\uafb8\\uace0 \\uc774\\ub904\\ub098\\uac08 \\uc218 \\uc788\\ub2e4\\ub294 \\uac83\\uc5d0 \\uac10\\uc0ac\\ud569\\ub2c8\\ub2e4.\",\n          \"\\uc0ac\\ub791\\uc744 \\ud574\\ubcf8\\uc0ac\\ub78c\\uc774\\ub77c\\uba74 \\ucc98\\uc74c\\ubd80\\ud130 \\ub05d\\uae4c\\uc9c0 \\uc6c3\\uc744\\uc218 \\uc788\\ub294\\uc601\\ud654\"\n        ],\n        \"semantic_type\": \"\",\n        \"description\": \"\"\n      }\n    },\n    {\n      \"column\": \"label\",\n      \"properties\": {\n        \"dtype\": \"number\",\n        \"std\": 0,\n        \"min\": 1,\n        \"max\": 1,\n        \"num_unique_values\": 1,\n        \"samples\": [\n          1\n        ],\n        \"semantic_type\": \"\",\n        \"description\": \"\"\n      }\n    }\n  ]\n}"
            }
          },
          "metadata": {},
          "execution_count": 4
        }
      ]
    },
    {
      "cell_type": "code",
      "source": [
        "print('총 개수 : ',len(train_data))\n",
        "print('결측개수 :', sum(train_data['document'].isnull()))"
      ],
      "metadata": {
        "colab": {
          "base_uri": "https://localhost:8080/"
        },
        "id": "SHp4j3gGqoRn",
        "outputId": "602e36fa-5766-4d52-80cc-e0d6f7fcde03"
      },
      "execution_count": null,
      "outputs": [
        {
          "output_type": "stream",
          "name": "stdout",
          "text": [
            "총 개수 :  200000\n",
            "결측개수 : 8\n"
          ]
        }
      ]
    },
    {
      "cell_type": "markdown",
      "source": [
        "DataFrame.dropna(axis=0, how='any', thresh=None, subset=None, inplace=False)"
      ],
      "metadata": {
        "id": "m3vXMnIxr2Lj"
      }
    },
    {
      "cell_type": "code",
      "source": [
        "train_data = train_data.dropna(how = \"any\") #null 값 존재하는 행 drop\n",
        "print(train_data.isnull().values.any())"
      ],
      "metadata": {
        "colab": {
          "base_uri": "https://localhost:8080/"
        },
        "id": "6KireOXpqoP5",
        "outputId": "cccc0cb6-ad1d-4263-a126-6caa365be616"
      },
      "execution_count": null,
      "outputs": [
        {
          "output_type": "stream",
          "name": "stdout",
          "text": [
            "False\n"
          ]
        }
      ]
    },
    {
      "cell_type": "code",
      "source": [
        "#정규 표현식을 이용한 한글 외 문자 제거\n",
        "train_data['document'] = train_data['document'].str.replace(\"[^ㄱ-ㅎ ㅏ-ㅣ 가-힣]\", \"\")\n",
        "train_data[:10]"
      ],
      "metadata": {
        "colab": {
          "base_uri": "https://localhost:8080/",
          "height": 397
        },
        "id": "0cXpjQrJqoNx",
        "outputId": "dfcc721b-74eb-46f0-951a-c224d334fa59"
      },
      "execution_count": null,
      "outputs": [
        {
          "output_type": "execute_result",
          "data": {
            "text/plain": [
              "         id                                           document  label\n",
              "0   8112052                                어릴때보고 지금다시봐도 재밌어요ㅋㅋ      1\n",
              "1   8132799  디자인을 배우는 학생으로, 외국디자이너와 그들이 일군 전통을 통해 발전해가는 문화산...      1\n",
              "2   4655635               폴리스스토리 시리즈는 1부터 뉴까지 버릴께 하나도 없음.. 최고.      1\n",
              "3   9251303  와.. 연기가 진짜 개쩔구나.. 지루할거라고 생각했는데 몰입해서 봤다.. 그래 이런...      1\n",
              "4  10067386                        안개 자욱한 밤하늘에 떠 있는 초승달 같은 영화.      1\n",
              "5   2190435                      사랑을 해본사람이라면 처음부터 끝까지 웃을수 있는영화      1\n",
              "6   9279041                                   완전 감동입니다 다시봐도 감동      1\n",
              "7   7865729                        개들의 전쟁2 나오나요? 나오면 1빠로 보고 싶음      1\n",
              "8   7477618                                                  굿      1\n",
              "9   9250537                                     바보가 아니라 병 쉰 인듯      1"
            ],
            "text/html": [
              "\n",
              "  <div id=\"df-6a0bc00a-5255-4fa5-a8b1-eceba773e053\" class=\"colab-df-container\">\n",
              "    <div>\n",
              "<style scoped>\n",
              "    .dataframe tbody tr th:only-of-type {\n",
              "        vertical-align: middle;\n",
              "    }\n",
              "\n",
              "    .dataframe tbody tr th {\n",
              "        vertical-align: top;\n",
              "    }\n",
              "\n",
              "    .dataframe thead th {\n",
              "        text-align: right;\n",
              "    }\n",
              "</style>\n",
              "<table border=\"1\" class=\"dataframe\">\n",
              "  <thead>\n",
              "    <tr style=\"text-align: right;\">\n",
              "      <th></th>\n",
              "      <th>id</th>\n",
              "      <th>document</th>\n",
              "      <th>label</th>\n",
              "    </tr>\n",
              "  </thead>\n",
              "  <tbody>\n",
              "    <tr>\n",
              "      <th>0</th>\n",
              "      <td>8112052</td>\n",
              "      <td>어릴때보고 지금다시봐도 재밌어요ㅋㅋ</td>\n",
              "      <td>1</td>\n",
              "    </tr>\n",
              "    <tr>\n",
              "      <th>1</th>\n",
              "      <td>8132799</td>\n",
              "      <td>디자인을 배우는 학생으로, 외국디자이너와 그들이 일군 전통을 통해 발전해가는 문화산...</td>\n",
              "      <td>1</td>\n",
              "    </tr>\n",
              "    <tr>\n",
              "      <th>2</th>\n",
              "      <td>4655635</td>\n",
              "      <td>폴리스스토리 시리즈는 1부터 뉴까지 버릴께 하나도 없음.. 최고.</td>\n",
              "      <td>1</td>\n",
              "    </tr>\n",
              "    <tr>\n",
              "      <th>3</th>\n",
              "      <td>9251303</td>\n",
              "      <td>와.. 연기가 진짜 개쩔구나.. 지루할거라고 생각했는데 몰입해서 봤다.. 그래 이런...</td>\n",
              "      <td>1</td>\n",
              "    </tr>\n",
              "    <tr>\n",
              "      <th>4</th>\n",
              "      <td>10067386</td>\n",
              "      <td>안개 자욱한 밤하늘에 떠 있는 초승달 같은 영화.</td>\n",
              "      <td>1</td>\n",
              "    </tr>\n",
              "    <tr>\n",
              "      <th>5</th>\n",
              "      <td>2190435</td>\n",
              "      <td>사랑을 해본사람이라면 처음부터 끝까지 웃을수 있는영화</td>\n",
              "      <td>1</td>\n",
              "    </tr>\n",
              "    <tr>\n",
              "      <th>6</th>\n",
              "      <td>9279041</td>\n",
              "      <td>완전 감동입니다 다시봐도 감동</td>\n",
              "      <td>1</td>\n",
              "    </tr>\n",
              "    <tr>\n",
              "      <th>7</th>\n",
              "      <td>7865729</td>\n",
              "      <td>개들의 전쟁2 나오나요? 나오면 1빠로 보고 싶음</td>\n",
              "      <td>1</td>\n",
              "    </tr>\n",
              "    <tr>\n",
              "      <th>8</th>\n",
              "      <td>7477618</td>\n",
              "      <td>굿</td>\n",
              "      <td>1</td>\n",
              "    </tr>\n",
              "    <tr>\n",
              "      <th>9</th>\n",
              "      <td>9250537</td>\n",
              "      <td>바보가 아니라 병 쉰 인듯</td>\n",
              "      <td>1</td>\n",
              "    </tr>\n",
              "  </tbody>\n",
              "</table>\n",
              "</div>\n",
              "    <div class=\"colab-df-buttons\">\n",
              "\n",
              "  <div class=\"colab-df-container\">\n",
              "    <button class=\"colab-df-convert\" onclick=\"convertToInteractive('df-6a0bc00a-5255-4fa5-a8b1-eceba773e053')\"\n",
              "            title=\"Convert this dataframe to an interactive table.\"\n",
              "            style=\"display:none;\">\n",
              "\n",
              "  <svg xmlns=\"http://www.w3.org/2000/svg\" height=\"24px\" viewBox=\"0 -960 960 960\">\n",
              "    <path d=\"M120-120v-720h720v720H120Zm60-500h600v-160H180v160Zm220 220h160v-160H400v160Zm0 220h160v-160H400v160ZM180-400h160v-160H180v160Zm440 0h160v-160H620v160ZM180-180h160v-160H180v160Zm440 0h160v-160H620v160Z\"/>\n",
              "  </svg>\n",
              "    </button>\n",
              "\n",
              "  <style>\n",
              "    .colab-df-container {\n",
              "      display:flex;\n",
              "      gap: 12px;\n",
              "    }\n",
              "\n",
              "    .colab-df-convert {\n",
              "      background-color: #E8F0FE;\n",
              "      border: none;\n",
              "      border-radius: 50%;\n",
              "      cursor: pointer;\n",
              "      display: none;\n",
              "      fill: #1967D2;\n",
              "      height: 32px;\n",
              "      padding: 0 0 0 0;\n",
              "      width: 32px;\n",
              "    }\n",
              "\n",
              "    .colab-df-convert:hover {\n",
              "      background-color: #E2EBFA;\n",
              "      box-shadow: 0px 1px 2px rgba(60, 64, 67, 0.3), 0px 1px 3px 1px rgba(60, 64, 67, 0.15);\n",
              "      fill: #174EA6;\n",
              "    }\n",
              "\n",
              "    .colab-df-buttons div {\n",
              "      margin-bottom: 4px;\n",
              "    }\n",
              "\n",
              "    [theme=dark] .colab-df-convert {\n",
              "      background-color: #3B4455;\n",
              "      fill: #D2E3FC;\n",
              "    }\n",
              "\n",
              "    [theme=dark] .colab-df-convert:hover {\n",
              "      background-color: #434B5C;\n",
              "      box-shadow: 0px 1px 3px 1px rgba(0, 0, 0, 0.15);\n",
              "      filter: drop-shadow(0px 1px 2px rgba(0, 0, 0, 0.3));\n",
              "      fill: #FFFFFF;\n",
              "    }\n",
              "  </style>\n",
              "\n",
              "    <script>\n",
              "      const buttonEl =\n",
              "        document.querySelector('#df-6a0bc00a-5255-4fa5-a8b1-eceba773e053 button.colab-df-convert');\n",
              "      buttonEl.style.display =\n",
              "        google.colab.kernel.accessAllowed ? 'block' : 'none';\n",
              "\n",
              "      async function convertToInteractive(key) {\n",
              "        const element = document.querySelector('#df-6a0bc00a-5255-4fa5-a8b1-eceba773e053');\n",
              "        const dataTable =\n",
              "          await google.colab.kernel.invokeFunction('convertToInteractive',\n",
              "                                                    [key], {});\n",
              "        if (!dataTable) return;\n",
              "\n",
              "        const docLinkHtml = 'Like what you see? Visit the ' +\n",
              "          '<a target=\"_blank\" href=https://colab.research.google.com/notebooks/data_table.ipynb>data table notebook</a>'\n",
              "          + ' to learn more about interactive tables.';\n",
              "        element.innerHTML = '';\n",
              "        dataTable['output_type'] = 'display_data';\n",
              "        await google.colab.output.renderOutput(dataTable, element);\n",
              "        const docLink = document.createElement('div');\n",
              "        docLink.innerHTML = docLinkHtml;\n",
              "        element.appendChild(docLink);\n",
              "      }\n",
              "    </script>\n",
              "  </div>\n",
              "\n",
              "\n",
              "    <div id=\"df-69f1c3da-d987-46e1-b586-4f79f13ec0ae\">\n",
              "      <button class=\"colab-df-quickchart\" onclick=\"quickchart('df-69f1c3da-d987-46e1-b586-4f79f13ec0ae')\"\n",
              "                title=\"Suggest charts\"\n",
              "                style=\"display:none;\">\n",
              "\n",
              "<svg xmlns=\"http://www.w3.org/2000/svg\" height=\"24px\"viewBox=\"0 0 24 24\"\n",
              "     width=\"24px\">\n",
              "    <g>\n",
              "        <path d=\"M19 3H5c-1.1 0-2 .9-2 2v14c0 1.1.9 2 2 2h14c1.1 0 2-.9 2-2V5c0-1.1-.9-2-2-2zM9 17H7v-7h2v7zm4 0h-2V7h2v10zm4 0h-2v-4h2v4z\"/>\n",
              "    </g>\n",
              "</svg>\n",
              "      </button>\n",
              "\n",
              "<style>\n",
              "  .colab-df-quickchart {\n",
              "      --bg-color: #E8F0FE;\n",
              "      --fill-color: #1967D2;\n",
              "      --hover-bg-color: #E2EBFA;\n",
              "      --hover-fill-color: #174EA6;\n",
              "      --disabled-fill-color: #AAA;\n",
              "      --disabled-bg-color: #DDD;\n",
              "  }\n",
              "\n",
              "  [theme=dark] .colab-df-quickchart {\n",
              "      --bg-color: #3B4455;\n",
              "      --fill-color: #D2E3FC;\n",
              "      --hover-bg-color: #434B5C;\n",
              "      --hover-fill-color: #FFFFFF;\n",
              "      --disabled-bg-color: #3B4455;\n",
              "      --disabled-fill-color: #666;\n",
              "  }\n",
              "\n",
              "  .colab-df-quickchart {\n",
              "    background-color: var(--bg-color);\n",
              "    border: none;\n",
              "    border-radius: 50%;\n",
              "    cursor: pointer;\n",
              "    display: none;\n",
              "    fill: var(--fill-color);\n",
              "    height: 32px;\n",
              "    padding: 0;\n",
              "    width: 32px;\n",
              "  }\n",
              "\n",
              "  .colab-df-quickchart:hover {\n",
              "    background-color: var(--hover-bg-color);\n",
              "    box-shadow: 0 1px 2px rgba(60, 64, 67, 0.3), 0 1px 3px 1px rgba(60, 64, 67, 0.15);\n",
              "    fill: var(--button-hover-fill-color);\n",
              "  }\n",
              "\n",
              "  .colab-df-quickchart-complete:disabled,\n",
              "  .colab-df-quickchart-complete:disabled:hover {\n",
              "    background-color: var(--disabled-bg-color);\n",
              "    fill: var(--disabled-fill-color);\n",
              "    box-shadow: none;\n",
              "  }\n",
              "\n",
              "  .colab-df-spinner {\n",
              "    border: 2px solid var(--fill-color);\n",
              "    border-color: transparent;\n",
              "    border-bottom-color: var(--fill-color);\n",
              "    animation:\n",
              "      spin 1s steps(1) infinite;\n",
              "  }\n",
              "\n",
              "  @keyframes spin {\n",
              "    0% {\n",
              "      border-color: transparent;\n",
              "      border-bottom-color: var(--fill-color);\n",
              "      border-left-color: var(--fill-color);\n",
              "    }\n",
              "    20% {\n",
              "      border-color: transparent;\n",
              "      border-left-color: var(--fill-color);\n",
              "      border-top-color: var(--fill-color);\n",
              "    }\n",
              "    30% {\n",
              "      border-color: transparent;\n",
              "      border-left-color: var(--fill-color);\n",
              "      border-top-color: var(--fill-color);\n",
              "      border-right-color: var(--fill-color);\n",
              "    }\n",
              "    40% {\n",
              "      border-color: transparent;\n",
              "      border-right-color: var(--fill-color);\n",
              "      border-top-color: var(--fill-color);\n",
              "    }\n",
              "    60% {\n",
              "      border-color: transparent;\n",
              "      border-right-color: var(--fill-color);\n",
              "    }\n",
              "    80% {\n",
              "      border-color: transparent;\n",
              "      border-right-color: var(--fill-color);\n",
              "      border-bottom-color: var(--fill-color);\n",
              "    }\n",
              "    90% {\n",
              "      border-color: transparent;\n",
              "      border-bottom-color: var(--fill-color);\n",
              "    }\n",
              "  }\n",
              "</style>\n",
              "\n",
              "      <script>\n",
              "        async function quickchart(key) {\n",
              "          const quickchartButtonEl =\n",
              "            document.querySelector('#' + key + ' button');\n",
              "          quickchartButtonEl.disabled = true;  // To prevent multiple clicks.\n",
              "          quickchartButtonEl.classList.add('colab-df-spinner');\n",
              "          try {\n",
              "            const charts = await google.colab.kernel.invokeFunction(\n",
              "                'suggestCharts', [key], {});\n",
              "          } catch (error) {\n",
              "            console.error('Error during call to suggestCharts:', error);\n",
              "          }\n",
              "          quickchartButtonEl.classList.remove('colab-df-spinner');\n",
              "          quickchartButtonEl.classList.add('colab-df-quickchart-complete');\n",
              "        }\n",
              "        (() => {\n",
              "          let quickchartButtonEl =\n",
              "            document.querySelector('#df-69f1c3da-d987-46e1-b586-4f79f13ec0ae button');\n",
              "          quickchartButtonEl.style.display =\n",
              "            google.colab.kernel.accessAllowed ? 'block' : 'none';\n",
              "        })();\n",
              "      </script>\n",
              "    </div>\n",
              "\n",
              "    </div>\n",
              "  </div>\n"
            ],
            "application/vnd.google.colaboratory.intrinsic+json": {
              "type": "dataframe",
              "summary": "{\n  \"name\": \"train_data[:10]\",\n  \"rows\": 10,\n  \"fields\": [\n    {\n      \"column\": \"id\",\n      \"properties\": {\n        \"dtype\": \"number\",\n        \"std\": 2424747,\n        \"min\": 2190435,\n        \"max\": 10067386,\n        \"num_unique_values\": 10,\n        \"samples\": [\n          7477618,\n          8132799,\n          2190435\n        ],\n        \"semantic_type\": \"\",\n        \"description\": \"\"\n      }\n    },\n    {\n      \"column\": \"document\",\n      \"properties\": {\n        \"dtype\": \"string\",\n        \"num_unique_values\": 10,\n        \"samples\": [\n          \"\\uad7f\",\n          \"\\ub514\\uc790\\uc778\\uc744 \\ubc30\\uc6b0\\ub294 \\ud559\\uc0dd\\uc73c\\ub85c, \\uc678\\uad6d\\ub514\\uc790\\uc774\\ub108\\uc640 \\uadf8\\ub4e4\\uc774 \\uc77c\\uad70 \\uc804\\ud1b5\\uc744 \\ud1b5\\ud574 \\ubc1c\\uc804\\ud574\\uac00\\ub294 \\ubb38\\ud654\\uc0b0\\uc5c5\\uc774 \\ubd80\\ub7ec\\uc6e0\\ub294\\ub370. \\uc0ac\\uc2e4 \\uc6b0\\ub9ac\\ub098\\ub77c\\uc5d0\\uc11c\\ub3c4 \\uadf8 \\uc5b4\\ub824\\uc6b4\\uc2dc\\uc808\\uc5d0 \\ub05d\\uae4c\\uc9c0 \\uc5f4\\uc815\\uc744 \\uc9c0\\ud0a8 \\ub178\\ub77c\\ub178 \\uac19\\uc740 \\uc804\\ud1b5\\uc774\\uc788\\uc5b4 \\uc800\\uc640 \\uac19\\uc740 \\uc0ac\\ub78c\\ub4e4\\uc774 \\uafc8\\uc744 \\uafb8\\uace0 \\uc774\\ub904\\ub098\\uac08 \\uc218 \\uc788\\ub2e4\\ub294 \\uac83\\uc5d0 \\uac10\\uc0ac\\ud569\\ub2c8\\ub2e4.\",\n          \"\\uc0ac\\ub791\\uc744 \\ud574\\ubcf8\\uc0ac\\ub78c\\uc774\\ub77c\\uba74 \\ucc98\\uc74c\\ubd80\\ud130 \\ub05d\\uae4c\\uc9c0 \\uc6c3\\uc744\\uc218 \\uc788\\ub294\\uc601\\ud654\"\n        ],\n        \"semantic_type\": \"\",\n        \"description\": \"\"\n      }\n    },\n    {\n      \"column\": \"label\",\n      \"properties\": {\n        \"dtype\": \"number\",\n        \"std\": 0,\n        \"min\": 1,\n        \"max\": 1,\n        \"num_unique_values\": 1,\n        \"samples\": [\n          1\n        ],\n        \"semantic_type\": \"\",\n        \"description\": \"\"\n      }\n    }\n  ]\n}"
            }
          },
          "metadata": {},
          "execution_count": 7
        }
      ]
    },
    {
      "cell_type": "code",
      "source": [
        "# 불용어 정의\n",
        "stopwords = ['의','가','이','은','들','는','좀','잘','걍','과','도','를','으로','자','에','와','한','하다']\n",
        "\n",
        "# 형태소 분석기 Okt 사용한 토큰화 작업\n",
        "from konlpy.tag import Okt\n",
        "okt = Okt()\n",
        "tokenized_data = []\n",
        "\n",
        "for sentence in tqdm(train_data['document'][:10000]):\n",
        "  tokenized_sentence = okt.morphs(sentence, stem = True) # 토큰화\n",
        "  stopwords_removed_sentence = [word for word in tokenized_sentence if not word in stopwords] # 불용어 제거\n",
        "  tokenized_data.append(stopwords_removed_sentence)\n"
      ],
      "metadata": {
        "colab": {
          "base_uri": "https://localhost:8080/"
        },
        "id": "UYuUm3wNsZoX",
        "outputId": "c237c7dc-079b-421d-9076-fb85b389eb50"
      },
      "execution_count": null,
      "outputs": [
        {
          "output_type": "stream",
          "name": "stderr",
          "text": [
            "100%|██████████| 10000/10000 [00:50<00:00, 196.37it/s]\n"
          ]
        }
      ]
    },
    {
      "cell_type": "code",
      "source": [
        "# 리뷰 길이 분포 확인\n",
        "import matplotlib.pyplot as plt\n",
        "\n",
        "print('리뷰의 최대 길이 :',max(len(l) for l in tokenized_data))\n",
        "print('리뷰의 평균 길이 :',sum(map(len, tokenized_data))/len(tokenized_data))\n",
        "plt.hist([len(s) for s in tokenized_data], bins=50)\n",
        "plt.xlabel('length of samples')\n",
        "plt.ylabel('number of samples')\n",
        "plt.show()"
      ],
      "metadata": {
        "colab": {
          "base_uri": "https://localhost:8080/",
          "height": 485
        },
        "id": "RoUZrEWpvM2o",
        "outputId": "e5ab2972-8694-4d4b-dfef-32def8005da9"
      },
      "execution_count": null,
      "outputs": [
        {
          "output_type": "stream",
          "name": "stdout",
          "text": [
            "리뷰의 최대 길이 : 87\n",
            "리뷰의 평균 길이 : 11.9353\n"
          ]
        },
        {
          "output_type": "display_data",
          "data": {
            "text/plain": [
              "<Figure size 640x480 with 1 Axes>"
            ],
            "image/png": "[encoded data removed]"
          },
          "metadata": {}
        }
      ]
    },
    {
      "cell_type": "code",
      "source": [
        "!pip install gensim"
      ],
      "metadata": {
        "colab": {
          "base_uri": "https://localhost:8080/"
        },
        "id": "34iLzvJGwEbB",
        "outputId": "5c5052de-74c3-410c-bffd-a3eeba1a27ed"
      },
      "execution_count": null,
      "outputs": [
        {
          "output_type": "stream",
          "name": "stdout",
          "text": [
            "Requirement already satisfied: gensim in /usr/local/lib/python3.11/dist-packages (4.3.3)\n",
            "Requirement already satisfied: numpy<2.0,>=1.18.5 in /usr/local/lib/python3.11/dist-packages (from gensim) (1.26.4)\n",
            "Requirement already satisfied: scipy<1.14.0,>=1.7.0 in /usr/local/lib/python3.11/dist-packages (from gensim) (1.13.1)\n",
            "Requirement already satisfied: smart-open>=1.8.1 in /usr/local/lib/python3.11/dist-packages (from gensim) (7.1.0)\n",
            "Requirement already satisfied: wrapt in /usr/local/lib/python3.11/dist-packages (from smart-open>=1.8.1->gensim) (1.17.2)\n"
          ]
        }
      ]
    },
    {
      "cell_type": "code",
      "source": [
        "!pip install --upgrade gensim"
      ],
      "metadata": {
        "colab": {
          "base_uri": "https://localhost:8080/"
        },
        "id": "Ue-LQDLOyj4-",
        "outputId": "4bd0d70e-fc8d-4e9e-c9b1-5a08ddd6c809"
      },
      "execution_count": null,
      "outputs": [
        {
          "output_type": "stream",
          "name": "stdout",
          "text": [
            "Requirement already satisfied: gensim in /usr/local/lib/python3.11/dist-packages (4.3.3)\n",
            "Requirement already satisfied: numpy<2.0,>=1.18.5 in /usr/local/lib/python3.11/dist-packages (from gensim) (1.26.4)\n",
            "Requirement already satisfied: scipy<1.14.0,>=1.7.0 in /usr/local/lib/python3.11/dist-packages (from gensim) (1.13.1)\n",
            "Requirement already satisfied: smart-open>=1.8.1 in /usr/local/lib/python3.11/dist-packages (from gensim) (7.1.0)\n",
            "Requirement already satisfied: wrapt in /usr/local/lib/python3.11/dist-packages (from smart-open>=1.8.1->gensim) (1.17.2)\n"
          ]
        }
      ]
    },
    {
      "cell_type": "code",
      "source": [
        "import numpy as np\n",
        "from gensim.models import Word2Vec\n",
        "\n",
        "model = Word2Vec(sentences = tokenized_data, vector_size = 100, window = 5, min_count = 5, workers = 4, sg = 0)"
      ],
      "metadata": {
        "id": "vNWrkQYYvuRx"
      },
      "execution_count": null,
      "outputs": []
    },
    {
      "cell_type": "code",
      "source": [
        "#완성된 매트릭스 크기 확인\n",
        "model.wv.vectors.shape"
      ],
      "metadata": {
        "colab": {
          "base_uri": "https://localhost:8080/"
        },
        "id": "laQW9XOHzLgG",
        "outputId": "e22b4d3d-1089-40e0-edad-327773c6e2c7"
      },
      "execution_count": null,
      "outputs": [
        {
          "output_type": "execute_result",
          "data": {
            "text/plain": [
              "(2593, 100)"
            ]
          },
          "metadata": {},
          "execution_count": 13
        }
      ]
    },
    {
      "cell_type": "code",
      "source": [
        "print(model.wv.most_similar(\"최민식\"))"
      ],
      "metadata": {
        "colab": {
          "base_uri": "https://localhost:8080/"
        },
        "id": "CWJ21cy0zSwC",
        "outputId": "bac0a1a3-83e2-4d5b-8957-417d4313ed68"
      },
      "execution_count": null,
      "outputs": [
        {
          "output_type": "stream",
          "name": "stdout",
          "text": [
            "[('화려하다', 0.9908236861228943), ('일품', 0.9907870292663574), ('또한', 0.9907431602478027), ('이네', 0.9905475378036499), ('~!', 0.9904496669769287), ('터', 0.9904316663742065), ('모두', 0.9903994798660278), ('국민', 0.9903820753097534), ('제', 0.9903200268745422), ('장', 0.9902885556221008)]\n"
          ]
        }
      ]
    },
    {
      "cell_type": "code",
      "source": [
        "print(model.wv.most_similar(\"명작\"))"
      ],
      "metadata": {
        "colab": {
          "base_uri": "https://localhost:8080/"
        },
        "id": "ToorYtiGzYip",
        "outputId": "0826fbab-979e-41da-a055-d82f37afb89a"
      },
      "execution_count": null,
      "outputs": [
        {
          "output_type": "stream",
          "name": "stdout",
          "text": [
            "[('시리즈', 0.9986293911933899), ('제일', 0.9984914660453796), ('대박', 0.9984493851661682), ('제', 0.9981717467308044), ('한국', 0.9981411099433899), ('임', 0.9981405138969421), ('좋아하다', 0.9981372356414795), ('애니', 0.9980931282043457), ('대단하다', 0.9980525970458984), ('역시', 0.9980319738388062)]\n"
          ]
        }
      ]
    },
    {
      "cell_type": "markdown",
      "source": [
        "## 2) BPE Tokenizer\n",
        "- 가장 작은 단위부터 중복 빈도 순으로 단위를 합침\n",
        "- 가장 큰 단어까지 합치고 등장하지 않은 단어는 token으로 분절"
      ],
      "metadata": {
        "id": "4EbB4AypodzW"
      }
    },
    {
      "cell_type": "code",
      "source": [
        "num_merges = 10"
      ],
      "metadata": {
        "id": "E_CNJ3gD-Cox"
      },
      "execution_count": null,
      "outputs": []
    },
    {
      "cell_type": "code",
      "source": [
        "dictionary = {'l o w </w>' : 5,\n",
        "              'l o w e r </w>' : 2,\n",
        "              'n e w e s t </w>': 6,\n",
        "              'w i d e s t </w>': 3\n",
        "             }"
      ],
      "metadata": {
        "id": "aaNS_1z8on1C"
      },
      "execution_count": null,
      "outputs": []
    },
    {
      "cell_type": "code",
      "source": [
        "import re, collections\n",
        "\n",
        "def get_stats(dictionary):\n",
        "\n",
        "    # 유니그램의 pair들의 빈도수를 카운트\n",
        "    pairs = collections.defaultdict(int)\n",
        "\n",
        "    for word, freq in dictionary.items():\n",
        "        symbols = word.split()\n",
        "\n",
        "        for i in range(len(symbols)-1):\n",
        "            pairs[symbols[i],symbols[i+1]] += freq\n",
        "\n",
        "    print('현재 pair들의 빈도수 :', dict(pairs))\n",
        "    return pairs"
      ],
      "metadata": {
        "id": "VB2grTYO-8SZ"
      },
      "execution_count": null,
      "outputs": []
    },
    {
      "cell_type": "code",
      "source": [
        "def merge_dictionary(pair, v_in):\n",
        "    v_out = {}\n",
        "    bigram = re.escape(' '.join(pair))\n",
        "    p = re.compile(r'(?<!\\S)' + bigram + r'(?!\\S)')\n",
        "\n",
        "    for word in v_in:\n",
        "        w_out = p.sub(''.join(pair), word)\n",
        "        v_out[w_out] = v_in[word]\n",
        "    return v_out"
      ],
      "metadata": {
        "id": "sAJQhDr2-8QL"
      },
      "execution_count": null,
      "outputs": []
    },
    {
      "cell_type": "code",
      "source": [
        "from IPython.display import display, Markdown, Latex"
      ],
      "metadata": {
        "id": "ov2xNMN7AnwQ"
      },
      "execution_count": null,
      "outputs": []
    },
    {
      "cell_type": "code",
      "source": [
        "bpe_codes = {}\n",
        "bpe_codes_reverse = {}\n",
        "\n",
        "for i in range(num_merges):\n",
        "    display(Markdown(\"### Iteration {}\".format(i + 1)))\n",
        "    pairs = get_stats(dictionary)\n",
        "    best = max(pairs, key=pairs.get)\n",
        "    dictionary = merge_dictionary(best, dictionary)\n",
        "\n",
        "    bpe_codes[best] = i\n",
        "    bpe_codes_reverse[best[0] + best[1]] = best\n",
        "\n",
        "    print(\"new merge: {}\".format(best))\n",
        "    print(\"dictionary: {}\".format(dictionary))"
      ],
      "metadata": {
        "colab": {
          "base_uri": "https://localhost:8080/",
          "height": 988
        },
        "id": "OOWNzXN9AbTY",
        "outputId": "c7f60910-3968-4ff3-bedc-4b90e46b6e95"
      },
      "execution_count": null,
      "outputs": [
        {
          "output_type": "display_data",
          "data": {
            "text/plain": [
              "<IPython.core.display.Markdown object>"
            ],
            "text/markdown": "### Iteration 1"
          },
          "metadata": {}
        },
        {
          "output_type": "stream",
          "name": "stdout",
          "text": [
            "현재 pair들의 빈도수 : {('l', 'o'): 7, ('o', 'w'): 7, ('w', '</w>'): 5, ('w', 'e'): 8, ('e', 'r'): 2, ('r', '</w>'): 2, ('n', 'e'): 6, ('e', 'w'): 6, ('e', 's'): 9, ('s', 't'): 9, ('t', '</w>'): 9, ('w', 'i'): 3, ('i', 'd'): 3, ('d', 'e'): 3}\n",
            "new merge: ('e', 's')\n",
            "dictionary: {'l o w </w>': 5, 'l o w e r </w>': 2, 'n e w es t </w>': 6, 'w i d es t </w>': 3}\n"
          ]
        },
        {
          "output_type": "display_data",
          "data": {
            "text/plain": [
              "<IPython.core.display.Markdown object>"
            ],
            "text/markdown": "### Iteration 2"
          },
          "metadata": {}
        },
        {
          "output_type": "stream",
          "name": "stdout",
          "text": [
            "현재 pair들의 빈도수 : {('l', 'o'): 7, ('o', 'w'): 7, ('w', '</w>'): 5, ('w', 'e'): 2, ('e', 'r'): 2, ('r', '</w>'): 2, ('n', 'e'): 6, ('e', 'w'): 6, ('w', 'es'): 6, ('es', 't'): 9, ('t', '</w>'): 9, ('w', 'i'): 3, ('i', 'd'): 3, ('d', 'es'): 3}\n",
            "new merge: ('es', 't')\n",
            "dictionary: {'l o w </w>': 5, 'l o w e r </w>': 2, 'n e w est </w>': 6, 'w i d est </w>': 3}\n"
          ]
        },
        {
          "output_type": "display_data",
          "data": {
            "text/plain": [
              "<IPython.core.display.Markdown object>"
            ],
            "text/markdown": "### Iteration 3"
          },
          "metadata": {}
        },
        {
          "output_type": "stream",
          "name": "stdout",
          "text": [
            "현재 pair들의 빈도수 : {('l', 'o'): 7, ('o', 'w'): 7, ('w', '</w>'): 5, ('w', 'e'): 2, ('e', 'r'): 2, ('r', '</w>'): 2, ('n', 'e'): 6, ('e', 'w'): 6, ('w', 'est'): 6, ('est', '</w>'): 9, ('w', 'i'): 3, ('i', 'd'): 3, ('d', 'est'): 3}\n",
            "new merge: ('est', '</w>')\n",
            "dictionary: {'l o w </w>': 5, 'l o w e r </w>': 2, 'n e w est</w>': 6, 'w i d est</w>': 3}\n"
          ]
        },
        {
          "output_type": "display_data",
          "data": {
            "text/plain": [
              "<IPython.core.display.Markdown object>"
            ],
            "text/markdown": "### Iteration 4"
          },
          "metadata": {}
        },
        {
          "output_type": "stream",
          "name": "stdout",
          "text": [
            "현재 pair들의 빈도수 : {('l', 'o'): 7, ('o', 'w'): 7, ('w', '</w>'): 5, ('w', 'e'): 2, ('e', 'r'): 2, ('r', '</w>'): 2, ('n', 'e'): 6, ('e', 'w'): 6, ('w', 'est</w>'): 6, ('w', 'i'): 3, ('i', 'd'): 3, ('d', 'est</w>'): 3}\n",
            "new merge: ('l', 'o')\n",
            "dictionary: {'lo w </w>': 5, 'lo w e r </w>': 2, 'n e w est</w>': 6, 'w i d est</w>': 3}\n"
          ]
        },
        {
          "output_type": "display_data",
          "data": {
            "text/plain": [
              "<IPython.core.display.Markdown object>"
            ],
            "text/markdown": "### Iteration 5"
          },
          "metadata": {}
        },
        {
          "output_type": "stream",
          "name": "stdout",
          "text": [
            "현재 pair들의 빈도수 : {('lo', 'w'): 7, ('w', '</w>'): 5, ('w', 'e'): 2, ('e', 'r'): 2, ('r', '</w>'): 2, ('n', 'e'): 6, ('e', 'w'): 6, ('w', 'est</w>'): 6, ('w', 'i'): 3, ('i', 'd'): 3, ('d', 'est</w>'): 3}\n",
            "new merge: ('lo', 'w')\n",
            "dictionary: {'low </w>': 5, 'low e r </w>': 2, 'n e w est</w>': 6, 'w i d est</w>': 3}\n"
          ]
        },
        {
          "output_type": "display_data",
          "data": {
            "text/plain": [
              "<IPython.core.display.Markdown object>"
            ],
            "text/markdown": "### Iteration 6"
          },
          "metadata": {}
        },
        {
          "output_type": "stream",
          "name": "stdout",
          "text": [
            "현재 pair들의 빈도수 : {('low', '</w>'): 5, ('low', 'e'): 2, ('e', 'r'): 2, ('r', '</w>'): 2, ('n', 'e'): 6, ('e', 'w'): 6, ('w', 'est</w>'): 6, ('w', 'i'): 3, ('i', 'd'): 3, ('d', 'est</w>'): 3}\n",
            "new merge: ('n', 'e')\n",
            "dictionary: {'low </w>': 5, 'low e r </w>': 2, 'ne w est</w>': 6, 'w i d est</w>': 3}\n"
          ]
        },
        {
          "output_type": "display_data",
          "data": {
            "text/plain": [
              "<IPython.core.display.Markdown object>"
            ],
            "text/markdown": "### Iteration 7"
          },
          "metadata": {}
        },
        {
          "output_type": "stream",
          "name": "stdout",
          "text": [
            "현재 pair들의 빈도수 : {('low', '</w>'): 5, ('low', 'e'): 2, ('e', 'r'): 2, ('r', '</w>'): 2, ('ne', 'w'): 6, ('w', 'est</w>'): 6, ('w', 'i'): 3, ('i', 'd'): 3, ('d', 'est</w>'): 3}\n",
            "new merge: ('ne', 'w')\n",
            "dictionary: {'low </w>': 5, 'low e r </w>': 2, 'new est</w>': 6, 'w i d est</w>': 3}\n"
          ]
        },
        {
          "output_type": "display_data",
          "data": {
            "text/plain": [
              "<IPython.core.display.Markdown object>"
            ],
            "text/markdown": "### Iteration 8"
          },
          "metadata": {}
        },
        {
          "output_type": "stream",
          "name": "stdout",
          "text": [
            "현재 pair들의 빈도수 : {('low', '</w>'): 5, ('low', 'e'): 2, ('e', 'r'): 2, ('r', '</w>'): 2, ('new', 'est</w>'): 6, ('w', 'i'): 3, ('i', 'd'): 3, ('d', 'est</w>'): 3}\n",
            "new merge: ('new', 'est</w>')\n",
            "dictionary: {'low </w>': 5, 'low e r </w>': 2, 'newest</w>': 6, 'w i d est</w>': 3}\n"
          ]
        },
        {
          "output_type": "display_data",
          "data": {
            "text/plain": [
              "<IPython.core.display.Markdown object>"
            ],
            "text/markdown": "### Iteration 9"
          },
          "metadata": {}
        },
        {
          "output_type": "stream",
          "name": "stdout",
          "text": [
            "현재 pair들의 빈도수 : {('low', '</w>'): 5, ('low', 'e'): 2, ('e', 'r'): 2, ('r', '</w>'): 2, ('w', 'i'): 3, ('i', 'd'): 3, ('d', 'est</w>'): 3}\n",
            "new merge: ('low', '</w>')\n",
            "dictionary: {'low</w>': 5, 'low e r </w>': 2, 'newest</w>': 6, 'w i d est</w>': 3}\n"
          ]
        },
        {
          "output_type": "display_data",
          "data": {
            "text/plain": [
              "<IPython.core.display.Markdown object>"
            ],
            "text/markdown": "### Iteration 10"
          },
          "metadata": {}
        },
        {
          "output_type": "stream",
          "name": "stdout",
          "text": [
            "현재 pair들의 빈도수 : {('low', 'e'): 2, ('e', 'r'): 2, ('r', '</w>'): 2, ('w', 'i'): 3, ('i', 'd'): 3, ('d', 'est</w>'): 3}\n",
            "new merge: ('w', 'i')\n",
            "dictionary: {'low</w>': 5, 'low e r </w>': 2, 'newest</w>': 6, 'wi d est</w>': 3}\n"
          ]
        }
      ]
    },
    {
      "cell_type": "code",
      "source": [
        "print(bpe_codes)"
      ],
      "metadata": {
        "colab": {
          "base_uri": "https://localhost:8080/"
        },
        "id": "kAX9YrQQBvrV",
        "outputId": "f199467d-e190-45b4-ec87-88e670523688"
      },
      "execution_count": null,
      "outputs": [
        {
          "output_type": "stream",
          "name": "stdout",
          "text": [
            "{('e', 's'): 0, ('es', 't'): 1, ('est', '</w>'): 2, ('l', 'o'): 3, ('lo', 'w'): 4, ('n', 'e'): 5, ('ne', 'w'): 6, ('new', 'est</w>'): 7, ('low', '</w>'): 8, ('w', 'i'): 9}\n"
          ]
        }
      ]
    },
    {
      "cell_type": "code",
      "source": [
        "def get_pairs(word):\n",
        "    \"\"\"Return set of symbol pairs in a word.\n",
        "    Word is represented as a tuple of symbols (symbols being variable-length strings).\n",
        "    \"\"\"\n",
        "    pairs = set()\n",
        "    prev_char = word[0]\n",
        "    for char in word[1:]:\n",
        "        pairs.add((prev_char, char))\n",
        "        prev_char = char\n",
        "    return pairs\n",
        "\n",
        "\n",
        "def encode(orig):\n",
        "    \"\"\"Encode word based on list of BPE merge operations, which are applied consecutively\"\"\"\n",
        "\n",
        "    word = tuple(orig) + ('</w>',)\n",
        "    display(Markdown(\"__word split into characters:__ <tt>{}</tt>\".format(word)))\n",
        "\n",
        "    pairs = get_pairs(word)\n",
        "\n",
        "    if not pairs:\n",
        "        return orig\n",
        "\n",
        "    iteration = 0\n",
        "    while True:\n",
        "        iteration += 1\n",
        "        display(Markdown(\"__Iteration {}:__\".format(iteration)))\n",
        "\n",
        "        print(\"bigrams in the word: {}\".format(pairs))\n",
        "        bigram = min(pairs, key = lambda pair: bpe_codes.get(pair, float('inf')))\n",
        "        print(\"candidate for merging: {}\".format(bigram))\n",
        "        if bigram not in bpe_codes:\n",
        "            display(Markdown(\"__Candidate not in BPE merges, algorithm stops.__\"))\n",
        "            break\n",
        "        first, second = bigram\n",
        "        new_word = []\n",
        "        i = 0\n",
        "        while i < len(word):\n",
        "            try:\n",
        "                j = word.index(first, i)\n",
        "                new_word.extend(word[i:j])\n",
        "                i = j\n",
        "            except:\n",
        "                new_word.extend(word[i:])\n",
        "                break\n",
        "\n",
        "            if word[i] == first and i < len(word)-1 and word[i+1] == second:\n",
        "                new_word.append(first+second)\n",
        "                i += 2\n",
        "            else:\n",
        "                new_word.append(word[i])\n",
        "                i += 1\n",
        "        new_word = tuple(new_word)\n",
        "        word = new_word\n",
        "        print(\"word after merging: {}\".format(word))\n",
        "        if len(word) == 1:\n",
        "            break\n",
        "        else:\n",
        "            pairs = get_pairs(word)\n",
        "\n",
        "    # 특별 토큰인 </w>는 출력하지 않는다.\n",
        "    if word[-1] == '</w>':\n",
        "        word = word[:-1]\n",
        "    elif word[-1].endswith('</w>'):\n",
        "        word = word[:-1] + (word[-1].replace('</w>',''),)\n",
        "\n",
        "    return word"
      ],
      "metadata": {
        "id": "8o2Z58Q3BzQw"
      },
      "execution_count": null,
      "outputs": []
    },
    {
      "cell_type": "code",
      "source": [
        "encode(\"loki\")"
      ],
      "metadata": {
        "colab": {
          "base_uri": "https://localhost:8080/",
          "height": 238
        },
        "id": "TuZTHo0AB49E",
        "outputId": "3fd6b10f-9a81-40cb-b4ce-988e55cd551b"
      },
      "execution_count": null,
      "outputs": [
        {
          "output_type": "display_data",
          "data": {
            "text/plain": [
              "<IPython.core.display.Markdown object>"
            ],
            "text/markdown": "__word split into characters:__ <tt>('l', 'o', 'k', 'i', '</w>')</tt>"
          },
          "metadata": {}
        },
        {
          "output_type": "display_data",
          "data": {
            "text/plain": [
              "<IPython.core.display.Markdown object>"
            ],
            "text/markdown": "__Iteration 1:__"
          },
          "metadata": {}
        },
        {
          "output_type": "stream",
          "name": "stdout",
          "text": [
            "bigrams in the word: {('i', '</w>'), ('l', 'o'), ('k', 'i'), ('o', 'k')}\n",
            "candidate for merging: ('l', 'o')\n",
            "word after merging: ('lo', 'k', 'i', '</w>')\n"
          ]
        },
        {
          "output_type": "display_data",
          "data": {
            "text/plain": [
              "<IPython.core.display.Markdown object>"
            ],
            "text/markdown": "__Iteration 2:__"
          },
          "metadata": {}
        },
        {
          "output_type": "stream",
          "name": "stdout",
          "text": [
            "bigrams in the word: {('i', '</w>'), ('lo', 'k'), ('k', 'i')}\n",
            "candidate for merging: ('i', '</w>')\n"
          ]
        },
        {
          "output_type": "display_data",
          "data": {
            "text/plain": [
              "<IPython.core.display.Markdown object>"
            ],
            "text/markdown": "__Candidate not in BPE merges, algorithm stops.__"
          },
          "metadata": {}
        },
        {
          "output_type": "execute_result",
          "data": {
            "text/plain": [
              "('lo', 'k', 'i')"
            ]
          },
          "metadata": {},
          "execution_count": 30
        }
      ]
    },
    {
      "cell_type": "code",
      "source": [
        "encode(\"lowest\")"
      ],
      "metadata": {
        "colab": {
          "base_uri": "https://localhost:8080/",
          "height": 593
        },
        "id": "C2K9emHSB46b",
        "outputId": "66bb27bb-5070-4938-9ebc-c46c8ff6e698"
      },
      "execution_count": null,
      "outputs": [
        {
          "output_type": "display_data",
          "data": {
            "text/plain": [
              "<IPython.core.display.Markdown object>"
            ],
            "text/markdown": "__word split into characters:__ <tt>('l', 'o', 'w', 'e', 's', 't', '</w>')</tt>"
          },
          "metadata": {}
        },
        {
          "output_type": "display_data",
          "data": {
            "text/plain": [
              "<IPython.core.display.Markdown object>"
            ],
            "text/markdown": "__Iteration 1:__"
          },
          "metadata": {}
        },
        {
          "output_type": "stream",
          "name": "stdout",
          "text": [
            "bigrams in the word: {('o', 'w'), ('s', 't'), ('e', 's'), ('t', '</w>'), ('w', 'e'), ('l', 'o')}\n",
            "candidate for merging: ('e', 's')\n",
            "word after merging: ('l', 'o', 'w', 'es', 't', '</w>')\n"
          ]
        },
        {
          "output_type": "display_data",
          "data": {
            "text/plain": [
              "<IPython.core.display.Markdown object>"
            ],
            "text/markdown": "__Iteration 2:__"
          },
          "metadata": {}
        },
        {
          "output_type": "stream",
          "name": "stdout",
          "text": [
            "bigrams in the word: {('o', 'w'), ('t', '</w>'), ('w', 'es'), ('l', 'o'), ('es', 't')}\n",
            "candidate for merging: ('es', 't')\n",
            "word after merging: ('l', 'o', 'w', 'est', '</w>')\n"
          ]
        },
        {
          "output_type": "display_data",
          "data": {
            "text/plain": [
              "<IPython.core.display.Markdown object>"
            ],
            "text/markdown": "__Iteration 3:__"
          },
          "metadata": {}
        },
        {
          "output_type": "stream",
          "name": "stdout",
          "text": [
            "bigrams in the word: {('w', 'est'), ('o', 'w'), ('l', 'o'), ('est', '</w>')}\n",
            "candidate for merging: ('est', '</w>')\n",
            "word after merging: ('l', 'o', 'w', 'est</w>')\n"
          ]
        },
        {
          "output_type": "display_data",
          "data": {
            "text/plain": [
              "<IPython.core.display.Markdown object>"
            ],
            "text/markdown": "__Iteration 4:__"
          },
          "metadata": {}
        },
        {
          "output_type": "stream",
          "name": "stdout",
          "text": [
            "bigrams in the word: {('o', 'w'), ('l', 'o'), ('w', 'est</w>')}\n",
            "candidate for merging: ('l', 'o')\n",
            "word after merging: ('lo', 'w', 'est</w>')\n"
          ]
        },
        {
          "output_type": "display_data",
          "data": {
            "text/plain": [
              "<IPython.core.display.Markdown object>"
            ],
            "text/markdown": "__Iteration 5:__"
          },
          "metadata": {}
        },
        {
          "output_type": "stream",
          "name": "stdout",
          "text": [
            "bigrams in the word: {('lo', 'w'), ('w', 'est</w>')}\n",
            "candidate for merging: ('lo', 'w')\n",
            "word after merging: ('low', 'est</w>')\n"
          ]
        },
        {
          "output_type": "display_data",
          "data": {
            "text/plain": [
              "<IPython.core.display.Markdown object>"
            ],
            "text/markdown": "__Iteration 6:__"
          },
          "metadata": {}
        },
        {
          "output_type": "stream",
          "name": "stdout",
          "text": [
            "bigrams in the word: {('low', 'est</w>')}\n",
            "candidate for merging: ('low', 'est</w>')\n"
          ]
        },
        {
          "output_type": "display_data",
          "data": {
            "text/plain": [
              "<IPython.core.display.Markdown object>"
            ],
            "text/markdown": "__Candidate not in BPE merges, algorithm stops.__"
          },
          "metadata": {}
        },
        {
          "output_type": "execute_result",
          "data": {
            "text/plain": [
              "('low', 'est')"
            ]
          },
          "metadata": {},
          "execution_count": 31
        }
      ]
    },
    {
      "cell_type": "code",
      "source": [
        "encode(\"lowing\")"
      ],
      "metadata": {
        "colab": {
          "base_uri": "https://localhost:8080/",
          "height": 342
        },
        "id": "WFRkdBihCF-6",
        "outputId": "43df035c-cf24-4678-cc00-f1415cdeb03d"
      },
      "execution_count": null,
      "outputs": [
        {
          "output_type": "display_data",
          "data": {
            "text/plain": [
              "<IPython.core.display.Markdown object>"
            ],
            "text/markdown": "__word split into characters:__ <tt>('l', 'o', 'w', 'i', 'n', 'g', '</w>')</tt>"
          },
          "metadata": {}
        },
        {
          "output_type": "display_data",
          "data": {
            "text/plain": [
              "<IPython.core.display.Markdown object>"
            ],
            "text/markdown": "__Iteration 1:__"
          },
          "metadata": {}
        },
        {
          "output_type": "stream",
          "name": "stdout",
          "text": [
            "bigrams in the word: {('o', 'w'), ('n', 'g'), ('l', 'o'), ('i', 'n'), ('g', '</w>'), ('w', 'i')}\n",
            "candidate for merging: ('l', 'o')\n",
            "word after merging: ('lo', 'w', 'i', 'n', 'g', '</w>')\n"
          ]
        },
        {
          "output_type": "display_data",
          "data": {
            "text/plain": [
              "<IPython.core.display.Markdown object>"
            ],
            "text/markdown": "__Iteration 2:__"
          },
          "metadata": {}
        },
        {
          "output_type": "stream",
          "name": "stdout",
          "text": [
            "bigrams in the word: {('n', 'g'), ('lo', 'w'), ('i', 'n'), ('g', '</w>'), ('w', 'i')}\n",
            "candidate for merging: ('lo', 'w')\n",
            "word after merging: ('low', 'i', 'n', 'g', '</w>')\n"
          ]
        },
        {
          "output_type": "display_data",
          "data": {
            "text/plain": [
              "<IPython.core.display.Markdown object>"
            ],
            "text/markdown": "__Iteration 3:__"
          },
          "metadata": {}
        },
        {
          "output_type": "stream",
          "name": "stdout",
          "text": [
            "bigrams in the word: {('g', '</w>'), ('low', 'i'), ('i', 'n'), ('n', 'g')}\n",
            "candidate for merging: ('g', '</w>')\n"
          ]
        },
        {
          "output_type": "display_data",
          "data": {
            "text/plain": [
              "<IPython.core.display.Markdown object>"
            ],
            "text/markdown": "__Candidate not in BPE merges, algorithm stops.__"
          },
          "metadata": {}
        },
        {
          "output_type": "execute_result",
          "data": {
            "text/plain": [
              "('low', 'i', 'n', 'g')"
            ]
          },
          "metadata": {},
          "execution_count": 32
        }
      ]
    },
    {
      "cell_type": "code",
      "source": [
        "encode(\"highing\")"
      ],
      "metadata": {
        "colab": {
          "base_uri": "https://localhost:8080/",
          "height": 174
        },
        "id": "F_KvYCYgCG13",
        "outputId": "5d606b76-dbc8-4600-85f0-d5b3a33481e8"
      },
      "execution_count": null,
      "outputs": [
        {
          "output_type": "display_data",
          "data": {
            "text/plain": [
              "<IPython.core.display.Markdown object>"
            ],
            "text/markdown": "__word split into characters:__ <tt>('h', 'i', 'g', 'h', 'i', 'n', 'g', '</w>')</tt>"
          },
          "metadata": {}
        },
        {
          "output_type": "display_data",
          "data": {
            "text/plain": [
              "<IPython.core.display.Markdown object>"
            ],
            "text/markdown": "__Iteration 1:__"
          },
          "metadata": {}
        },
        {
          "output_type": "stream",
          "name": "stdout",
          "text": [
            "bigrams in the word: {('h', 'i'), ('n', 'g'), ('i', 'g'), ('g', 'h'), ('i', 'n'), ('g', '</w>')}\n",
            "candidate for merging: ('h', 'i')\n"
          ]
        },
        {
          "output_type": "display_data",
          "data": {
            "text/plain": [
              "<IPython.core.display.Markdown object>"
            ],
            "text/markdown": "__Candidate not in BPE merges, algorithm stops.__"
          },
          "metadata": {}
        },
        {
          "output_type": "execute_result",
          "data": {
            "text/plain": [
              "('h', 'i', 'g', 'h', 'i', 'n', 'g')"
            ]
          },
          "metadata": {},
          "execution_count": 33
        }
      ]
    },
    {
      "cell_type": "markdown",
      "source": [
        "## 3) HuggingFace Tokenizer"
      ],
      "metadata": {
        "id": "SaaqSV3Xoi9V"
      }
    },
    {
      "cell_type": "code",
      "execution_count": 3,
      "metadata": {
        "id": "7ln4jVlnY3co"
      },
      "outputs": [],
      "source": [
        "import pandas as pd\n",
        "import urllib.request\n",
        "from transformers import AutoTokenizer, AutoModel, pipeline\n",
        "from tokenizers import BertWordPieceTokenizer"
      ]
    },
    {
      "cell_type": "code",
      "source": [
        "urllib.request.urlretrieve(\"https://raw.githubusercontent.com/e9t/nsmc/master/ratings.txt\", filename=\"ratings.txt\")\n",
        "train_data = pd.read_table('ratings.txt')"
      ],
      "metadata": {
        "id": "mVaPrf66nueq"
      },
      "execution_count": 4,
      "outputs": []
    },
    {
      "cell_type": "code",
      "source": [
        "naver_df  = pd.read_table('ratings.txt')\n",
        "naver_df = naver_df.dropna(how = 'any')"
      ],
      "metadata": {
        "id": "v5-g1WoBoMOB"
      },
      "execution_count": 6,
      "outputs": []
    },
    {
      "cell_type": "code",
      "source": [
        "with open('naver_review.txt', 'w', encoding = 'utf8') as f:\n",
        "  f.write('\\n'.join(naver_df['document']))"
      ],
      "metadata": {
        "id": "uckD9sMxoWUR"
      },
      "execution_count": 8,
      "outputs": []
    },
    {
      "cell_type": "code",
      "source": [
        "naver_df.head(5)"
      ],
      "metadata": {
        "colab": {
          "base_uri": "https://localhost:8080/",
          "height": 206
        },
        "id": "FzUZDfXPopAq",
        "outputId": "42a60d9a-3768-4d55-9f48-11a293f7689d"
      },
      "execution_count": 9,
      "outputs": [
        {
          "output_type": "execute_result",
          "data": {
            "text/plain": [
              "         id                                           document  label\n",
              "0   8112052                                어릴때보고 지금다시봐도 재밌어요ㅋㅋ      1\n",
              "1   8132799  디자인을 배우는 학생으로, 외국디자이너와 그들이 일군 전통을 통해 발전해가는 문화산...      1\n",
              "2   4655635               폴리스스토리 시리즈는 1부터 뉴까지 버릴께 하나도 없음.. 최고.      1\n",
              "3   9251303  와.. 연기가 진짜 개쩔구나.. 지루할거라고 생각했는데 몰입해서 봤다.. 그래 이런...      1\n",
              "4  10067386                        안개 자욱한 밤하늘에 떠 있는 초승달 같은 영화.      1"
            ],
            "text/html": [
              "\n",
              "  <div id=\"df-2a019585-58ef-433e-9bde-e645b69975a1\" class=\"colab-df-container\">\n",
              "    <div>\n",
              "<style scoped>\n",
              "    .dataframe tbody tr th:only-of-type {\n",
              "        vertical-align: middle;\n",
              "    }\n",
              "\n",
              "    .dataframe tbody tr th {\n",
              "        vertical-align: top;\n",
              "    }\n",
              "\n",
              "    .dataframe thead th {\n",
              "        text-align: right;\n",
              "    }\n",
              "</style>\n",
              "<table border=\"1\" class=\"dataframe\">\n",
              "  <thead>\n",
              "    <tr style=\"text-align: right;\">\n",
              "      <th></th>\n",
              "      <th>id</th>\n",
              "      <th>document</th>\n",
              "      <th>label</th>\n",
              "    </tr>\n",
              "  </thead>\n",
              "  <tbody>\n",
              "    <tr>\n",
              "      <th>0</th>\n",
              "      <td>8112052</td>\n",
              "      <td>어릴때보고 지금다시봐도 재밌어요ㅋㅋ</td>\n",
              "      <td>1</td>\n",
              "    </tr>\n",
              "    <tr>\n",
              "      <th>1</th>\n",
              "      <td>8132799</td>\n",
              "      <td>디자인을 배우는 학생으로, 외국디자이너와 그들이 일군 전통을 통해 발전해가는 문화산...</td>\n",
              "      <td>1</td>\n",
              "    </tr>\n",
              "    <tr>\n",
              "      <th>2</th>\n",
              "      <td>4655635</td>\n",
              "      <td>폴리스스토리 시리즈는 1부터 뉴까지 버릴께 하나도 없음.. 최고.</td>\n",
              "      <td>1</td>\n",
              "    </tr>\n",
              "    <tr>\n",
              "      <th>3</th>\n",
              "      <td>9251303</td>\n",
              "      <td>와.. 연기가 진짜 개쩔구나.. 지루할거라고 생각했는데 몰입해서 봤다.. 그래 이런...</td>\n",
              "      <td>1</td>\n",
              "    </tr>\n",
              "    <tr>\n",
              "      <th>4</th>\n",
              "      <td>10067386</td>\n",
              "      <td>안개 자욱한 밤하늘에 떠 있는 초승달 같은 영화.</td>\n",
              "      <td>1</td>\n",
              "    </tr>\n",
              "  </tbody>\n",
              "</table>\n",
              "</div>\n",
              "    <div class=\"colab-df-buttons\">\n",
              "\n",
              "  <div class=\"colab-df-container\">\n",
              "    <button class=\"colab-df-convert\" onclick=\"convertToInteractive('df-2a019585-58ef-433e-9bde-e645b69975a1')\"\n",
              "            title=\"Convert this dataframe to an interactive table.\"\n",
              "            style=\"display:none;\">\n",
              "\n",
              "  <svg xmlns=\"http://www.w3.org/2000/svg\" height=\"24px\" viewBox=\"0 -960 960 960\">\n",
              "    <path d=\"M120-120v-720h720v720H120Zm60-500h600v-160H180v160Zm220 220h160v-160H400v160Zm0 220h160v-160H400v160ZM180-400h160v-160H180v160Zm440 0h160v-160H620v160ZM180-180h160v-160H180v160Zm440 0h160v-160H620v160Z\"/>\n",
              "  </svg>\n",
              "    </button>\n",
              "\n",
              "  <style>\n",
              "    .colab-df-container {\n",
              "      display:flex;\n",
              "      gap: 12px;\n",
              "    }\n",
              "\n",
              "    .colab-df-convert {\n",
              "      background-color: #E8F0FE;\n",
              "      border: none;\n",
              "      border-radius: 50%;\n",
              "      cursor: pointer;\n",
              "      display: none;\n",
              "      fill: #1967D2;\n",
              "      height: 32px;\n",
              "      padding: 0 0 0 0;\n",
              "      width: 32px;\n",
              "    }\n",
              "\n",
              "    .colab-df-convert:hover {\n",
              "      background-color: #E2EBFA;\n",
              "      box-shadow: 0px 1px 2px rgba(60, 64, 67, 0.3), 0px 1px 3px 1px rgba(60, 64, 67, 0.15);\n",
              "      fill: #174EA6;\n",
              "    }\n",
              "\n",
              "    .colab-df-buttons div {\n",
              "      margin-bottom: 4px;\n",
              "    }\n",
              "\n",
              "    [theme=dark] .colab-df-convert {\n",
              "      background-color: #3B4455;\n",
              "      fill: #D2E3FC;\n",
              "    }\n",
              "\n",
              "    [theme=dark] .colab-df-convert:hover {\n",
              "      background-color: #434B5C;\n",
              "      box-shadow: 0px 1px 3px 1px rgba(0, 0, 0, 0.15);\n",
              "      filter: drop-shadow(0px 1px 2px rgba(0, 0, 0, 0.3));\n",
              "      fill: #FFFFFF;\n",
              "    }\n",
              "  </style>\n",
              "\n",
              "    <script>\n",
              "      const buttonEl =\n",
              "        document.querySelector('#df-2a019585-58ef-433e-9bde-e645b69975a1 button.colab-df-convert');\n",
              "      buttonEl.style.display =\n",
              "        google.colab.kernel.accessAllowed ? 'block' : 'none';\n",
              "\n",
              "      async function convertToInteractive(key) {\n",
              "        const element = document.querySelector('#df-2a019585-58ef-433e-9bde-e645b69975a1');\n",
              "        const dataTable =\n",
              "          await google.colab.kernel.invokeFunction('convertToInteractive',\n",
              "                                                    [key], {});\n",
              "        if (!dataTable) return;\n",
              "\n",
              "        const docLinkHtml = 'Like what you see? Visit the ' +\n",
              "          '<a target=\"_blank\" href=https://colab.research.google.com/notebooks/data_table.ipynb>data table notebook</a>'\n",
              "          + ' to learn more about interactive tables.';\n",
              "        element.innerHTML = '';\n",
              "        dataTable['output_type'] = 'display_data';\n",
              "        await google.colab.output.renderOutput(dataTable, element);\n",
              "        const docLink = document.createElement('div');\n",
              "        docLink.innerHTML = docLinkHtml;\n",
              "        element.appendChild(docLink);\n",
              "      }\n",
              "    </script>\n",
              "  </div>\n",
              "\n",
              "\n",
              "    <div id=\"df-587a91c0-e3cc-4bf5-932e-32d41ccc6984\">\n",
              "      <button class=\"colab-df-quickchart\" onclick=\"quickchart('df-587a91c0-e3cc-4bf5-932e-32d41ccc6984')\"\n",
              "                title=\"Suggest charts\"\n",
              "                style=\"display:none;\">\n",
              "\n",
              "<svg xmlns=\"http://www.w3.org/2000/svg\" height=\"24px\"viewBox=\"0 0 24 24\"\n",
              "     width=\"24px\">\n",
              "    <g>\n",
              "        <path d=\"M19 3H5c-1.1 0-2 .9-2 2v14c0 1.1.9 2 2 2h14c1.1 0 2-.9 2-2V5c0-1.1-.9-2-2-2zM9 17H7v-7h2v7zm4 0h-2V7h2v10zm4 0h-2v-4h2v4z\"/>\n",
              "    </g>\n",
              "</svg>\n",
              "      </button>\n",
              "\n",
              "<style>\n",
              "  .colab-df-quickchart {\n",
              "      --bg-color: #E8F0FE;\n",
              "      --fill-color: #1967D2;\n",
              "      --hover-bg-color: #E2EBFA;\n",
              "      --hover-fill-color: #174EA6;\n",
              "      --disabled-fill-color: #AAA;\n",
              "      --disabled-bg-color: #DDD;\n",
              "  }\n",
              "\n",
              "  [theme=dark] .colab-df-quickchart {\n",
              "      --bg-color: #3B4455;\n",
              "      --fill-color: #D2E3FC;\n",
              "      --hover-bg-color: #434B5C;\n",
              "      --hover-fill-color: #FFFFFF;\n",
              "      --disabled-bg-color: #3B4455;\n",
              "      --disabled-fill-color: #666;\n",
              "  }\n",
              "\n",
              "  .colab-df-quickchart {\n",
              "    background-color: var(--bg-color);\n",
              "    border: none;\n",
              "    border-radius: 50%;\n",
              "    cursor: pointer;\n",
              "    display: none;\n",
              "    fill: var(--fill-color);\n",
              "    height: 32px;\n",
              "    padding: 0;\n",
              "    width: 32px;\n",
              "  }\n",
              "\n",
              "  .colab-df-quickchart:hover {\n",
              "    background-color: var(--hover-bg-color);\n",
              "    box-shadow: 0 1px 2px rgba(60, 64, 67, 0.3), 0 1px 3px 1px rgba(60, 64, 67, 0.15);\n",
              "    fill: var(--button-hover-fill-color);\n",
              "  }\n",
              "\n",
              "  .colab-df-quickchart-complete:disabled,\n",
              "  .colab-df-quickchart-complete:disabled:hover {\n",
              "    background-color: var(--disabled-bg-color);\n",
              "    fill: var(--disabled-fill-color);\n",
              "    box-shadow: none;\n",
              "  }\n",
              "\n",
              "  .colab-df-spinner {\n",
              "    border: 2px solid var(--fill-color);\n",
              "    border-color: transparent;\n",
              "    border-bottom-color: var(--fill-color);\n",
              "    animation:\n",
              "      spin 1s steps(1) infinite;\n",
              "  }\n",
              "\n",
              "  @keyframes spin {\n",
              "    0% {\n",
              "      border-color: transparent;\n",
              "      border-bottom-color: var(--fill-color);\n",
              "      border-left-color: var(--fill-color);\n",
              "    }\n",
              "    20% {\n",
              "      border-color: transparent;\n",
              "      border-left-color: var(--fill-color);\n",
              "      border-top-color: var(--fill-color);\n",
              "    }\n",
              "    30% {\n",
              "      border-color: transparent;\n",
              "      border-left-color: var(--fill-color);\n",
              "      border-top-color: var(--fill-color);\n",
              "      border-right-color: var(--fill-color);\n",
              "    }\n",
              "    40% {\n",
              "      border-color: transparent;\n",
              "      border-right-color: var(--fill-color);\n",
              "      border-top-color: var(--fill-color);\n",
              "    }\n",
              "    60% {\n",
              "      border-color: transparent;\n",
              "      border-right-color: var(--fill-color);\n",
              "    }\n",
              "    80% {\n",
              "      border-color: transparent;\n",
              "      border-right-color: var(--fill-color);\n",
              "      border-bottom-color: var(--fill-color);\n",
              "    }\n",
              "    90% {\n",
              "      border-color: transparent;\n",
              "      border-bottom-color: var(--fill-color);\n",
              "    }\n",
              "  }\n",
              "</style>\n",
              "\n",
              "      <script>\n",
              "        async function quickchart(key) {\n",
              "          const quickchartButtonEl =\n",
              "            document.querySelector('#' + key + ' button');\n",
              "          quickchartButtonEl.disabled = true;  // To prevent multiple clicks.\n",
              "          quickchartButtonEl.classList.add('colab-df-spinner');\n",
              "          try {\n",
              "            const charts = await google.colab.kernel.invokeFunction(\n",
              "                'suggestCharts', [key], {});\n",
              "          } catch (error) {\n",
              "            console.error('Error during call to suggestCharts:', error);\n",
              "          }\n",
              "          quickchartButtonEl.classList.remove('colab-df-spinner');\n",
              "          quickchartButtonEl.classList.add('colab-df-quickchart-complete');\n",
              "        }\n",
              "        (() => {\n",
              "          let quickchartButtonEl =\n",
              "            document.querySelector('#df-587a91c0-e3cc-4bf5-932e-32d41ccc6984 button');\n",
              "          quickchartButtonEl.style.display =\n",
              "            google.colab.kernel.accessAllowed ? 'block' : 'none';\n",
              "        })();\n",
              "      </script>\n",
              "    </div>\n",
              "\n",
              "    </div>\n",
              "  </div>\n"
            ],
            "application/vnd.google.colaboratory.intrinsic+json": {
              "type": "dataframe",
              "variable_name": "naver_df"
            }
          },
          "metadata": {},
          "execution_count": 9
        }
      ]
    },
    {
      "cell_type": "code",
      "source": [
        "tokenizer = BertWordPieceTokenizer(lowercase=False)"
      ],
      "metadata": {
        "id": "LHelh2bkotvx"
      },
      "execution_count": 10,
      "outputs": []
    },
    {
      "cell_type": "code",
      "source": [
        "data_file = 'naver_review.txt'\n",
        "vocab_size = 30000\n",
        "limit_alphabet = 6000\n",
        "min_frequency = 5\n",
        "\n",
        "tokenizer.train(files = data_file, vocab_size = vocab_size, limit_alphabet = limit_alphabet, min_frequency = min_frequency)"
      ],
      "metadata": {
        "id": "NG2ZpSJBo3ui"
      },
      "execution_count": 11,
      "outputs": []
    },
    {
      "cell_type": "code",
      "source": [
        "#BPE 알고리즘으로 얻게 되는 vocab 저장\n",
        "tokenizer.save_model('./')"
      ],
      "metadata": {
        "colab": {
          "base_uri": "https://localhost:8080/"
        },
        "id": "154IdxB6pe7x",
        "outputId": "b735c402-20ba-4e23-b6ea-38e72b8d3203"
      },
      "execution_count": 12,
      "outputs": [
        {
          "output_type": "execute_result",
          "data": {
            "text/plain": [
              "['./vocab.txt']"
            ]
          },
          "metadata": {},
          "execution_count": 12
        }
      ]
    },
    {
      "cell_type": "code",
      "source": [
        "df = pd.read_fwf('vocab.txt', header = None)\n",
        "df"
      ],
      "metadata": {
        "colab": {
          "base_uri": "https://localhost:8080/",
          "height": 424
        },
        "id": "ACGxZJ6SqJ8h",
        "outputId": "354039ff-8735-41ea-e24f-d43659a32920"
      },
      "execution_count": 25,
      "outputs": [
        {
          "output_type": "execute_result",
          "data": {
            "text/plain": [
              "            0\n",
              "0       [PAD]\n",
              "1       [UNK]\n",
              "2       [CLS]\n",
              "3       [SEP]\n",
              "4      [MASK]\n",
              "...       ...\n",
              "29995      맘을\n",
              "29996      맛도\n",
              "29997     망하지\n",
              "29998     망한다\n",
              "29999     망가지\n",
              "\n",
              "[30000 rows x 1 columns]"
            ],
            "text/html": [
              "\n",
              "  <div id=\"df-ba44c93c-c4ae-48b2-b23c-82a98dd096e5\" class=\"colab-df-container\">\n",
              "    <div>\n",
              "<style scoped>\n",
              "    .dataframe tbody tr th:only-of-type {\n",
              "        vertical-align: middle;\n",
              "    }\n",
              "\n",
              "    .dataframe tbody tr th {\n",
              "        vertical-align: top;\n",
              "    }\n",
              "\n",
              "    .dataframe thead th {\n",
              "        text-align: right;\n",
              "    }\n",
              "</style>\n",
              "<table border=\"1\" class=\"dataframe\">\n",
              "  <thead>\n",
              "    <tr style=\"text-align: right;\">\n",
              "      <th></th>\n",
              "      <th>0</th>\n",
              "    </tr>\n",
              "  </thead>\n",
              "  <tbody>\n",
              "    <tr>\n",
              "      <th>0</th>\n",
              "      <td>[PAD]</td>\n",
              "    </tr>\n",
              "    <tr>\n",
              "      <th>1</th>\n",
              "      <td>[UNK]</td>\n",
              "    </tr>\n",
              "    <tr>\n",
              "      <th>2</th>\n",
              "      <td>[CLS]</td>\n",
              "    </tr>\n",
              "    <tr>\n",
              "      <th>3</th>\n",
              "      <td>[SEP]</td>\n",
              "    </tr>\n",
              "    <tr>\n",
              "      <th>4</th>\n",
              "      <td>[MASK]</td>\n",
              "    </tr>\n",
              "    <tr>\n",
              "      <th>...</th>\n",
              "      <td>...</td>\n",
              "    </tr>\n",
              "    <tr>\n",
              "      <th>29995</th>\n",
              "      <td>맘을</td>\n",
              "    </tr>\n",
              "    <tr>\n",
              "      <th>29996</th>\n",
              "      <td>맛도</td>\n",
              "    </tr>\n",
              "    <tr>\n",
              "      <th>29997</th>\n",
              "      <td>망하지</td>\n",
              "    </tr>\n",
              "    <tr>\n",
              "      <th>29998</th>\n",
              "      <td>망한다</td>\n",
              "    </tr>\n",
              "    <tr>\n",
              "      <th>29999</th>\n",
              "      <td>망가지</td>\n",
              "    </tr>\n",
              "  </tbody>\n",
              "</table>\n",
              "<p>30000 rows × 1 columns</p>\n",
              "</div>\n",
              "    <div class=\"colab-df-buttons\">\n",
              "\n",
              "  <div class=\"colab-df-container\">\n",
              "    <button class=\"colab-df-convert\" onclick=\"convertToInteractive('df-ba44c93c-c4ae-48b2-b23c-82a98dd096e5')\"\n",
              "            title=\"Convert this dataframe to an interactive table.\"\n",
              "            style=\"display:none;\">\n",
              "\n",
              "  <svg xmlns=\"http://www.w3.org/2000/svg\" height=\"24px\" viewBox=\"0 -960 960 960\">\n",
              "    <path d=\"M120-120v-720h720v720H120Zm60-500h600v-160H180v160Zm220 220h160v-160H400v160Zm0 220h160v-160H400v160ZM180-400h160v-160H180v160Zm440 0h160v-160H620v160ZM180-180h160v-160H180v160Zm440 0h160v-160H620v160Z\"/>\n",
              "  </svg>\n",
              "    </button>\n",
              "\n",
              "  <style>\n",
              "    .colab-df-container {\n",
              "      display:flex;\n",
              "      gap: 12px;\n",
              "    }\n",
              "\n",
              "    .colab-df-convert {\n",
              "      background-color: #E8F0FE;\n",
              "      border: none;\n",
              "      border-radius: 50%;\n",
              "      cursor: pointer;\n",
              "      display: none;\n",
              "      fill: #1967D2;\n",
              "      height: 32px;\n",
              "      padding: 0 0 0 0;\n",
              "      width: 32px;\n",
              "    }\n",
              "\n",
              "    .colab-df-convert:hover {\n",
              "      background-color: #E2EBFA;\n",
              "      box-shadow: 0px 1px 2px rgba(60, 64, 67, 0.3), 0px 1px 3px 1px rgba(60, 64, 67, 0.15);\n",
              "      fill: #174EA6;\n",
              "    }\n",
              "\n",
              "    .colab-df-buttons div {\n",
              "      margin-bottom: 4px;\n",
              "    }\n",
              "\n",
              "    [theme=dark] .colab-df-convert {\n",
              "      background-color: #3B4455;\n",
              "      fill: #D2E3FC;\n",
              "    }\n",
              "\n",
              "    [theme=dark] .colab-df-convert:hover {\n",
              "      background-color: #434B5C;\n",
              "      box-shadow: 0px 1px 3px 1px rgba(0, 0, 0, 0.15);\n",
              "      filter: drop-shadow(0px 1px 2px rgba(0, 0, 0, 0.3));\n",
              "      fill: #FFFFFF;\n",
              "    }\n",
              "  </style>\n",
              "\n",
              "    <script>\n",
              "      const buttonEl =\n",
              "        document.querySelector('#df-ba44c93c-c4ae-48b2-b23c-82a98dd096e5 button.colab-df-convert');\n",
              "      buttonEl.style.display =\n",
              "        google.colab.kernel.accessAllowed ? 'block' : 'none';\n",
              "\n",
              "      async function convertToInteractive(key) {\n",
              "        const element = document.querySelector('#df-ba44c93c-c4ae-48b2-b23c-82a98dd096e5');\n",
              "        const dataTable =\n",
              "          await google.colab.kernel.invokeFunction('convertToInteractive',\n",
              "                                                    [key], {});\n",
              "        if (!dataTable) return;\n",
              "\n",
              "        const docLinkHtml = 'Like what you see? Visit the ' +\n",
              "          '<a target=\"_blank\" href=https://colab.research.google.com/notebooks/data_table.ipynb>data table notebook</a>'\n",
              "          + ' to learn more about interactive tables.';\n",
              "        element.innerHTML = '';\n",
              "        dataTable['output_type'] = 'display_data';\n",
              "        await google.colab.output.renderOutput(dataTable, element);\n",
              "        const docLink = document.createElement('div');\n",
              "        docLink.innerHTML = docLinkHtml;\n",
              "        element.appendChild(docLink);\n",
              "      }\n",
              "    </script>\n",
              "  </div>\n",
              "\n",
              "\n",
              "    <div id=\"df-afa7d982-34b5-4cd0-bc5a-e939e75d1cba\">\n",
              "      <button class=\"colab-df-quickchart\" onclick=\"quickchart('df-afa7d982-34b5-4cd0-bc5a-e939e75d1cba')\"\n",
              "                title=\"Suggest charts\"\n",
              "                style=\"display:none;\">\n",
              "\n",
              "<svg xmlns=\"http://www.w3.org/2000/svg\" height=\"24px\"viewBox=\"0 0 24 24\"\n",
              "     width=\"24px\">\n",
              "    <g>\n",
              "        <path d=\"M19 3H5c-1.1 0-2 .9-2 2v14c0 1.1.9 2 2 2h14c1.1 0 2-.9 2-2V5c0-1.1-.9-2-2-2zM9 17H7v-7h2v7zm4 0h-2V7h2v10zm4 0h-2v-4h2v4z\"/>\n",
              "    </g>\n",
              "</svg>\n",
              "      </button>\n",
              "\n",
              "<style>\n",
              "  .colab-df-quickchart {\n",
              "      --bg-color: #E8F0FE;\n",
              "      --fill-color: #1967D2;\n",
              "      --hover-bg-color: #E2EBFA;\n",
              "      --hover-fill-color: #174EA6;\n",
              "      --disabled-fill-color: #AAA;\n",
              "      --disabled-bg-color: #DDD;\n",
              "  }\n",
              "\n",
              "  [theme=dark] .colab-df-quickchart {\n",
              "      --bg-color: #3B4455;\n",
              "      --fill-color: #D2E3FC;\n",
              "      --hover-bg-color: #434B5C;\n",
              "      --hover-fill-color: #FFFFFF;\n",
              "      --disabled-bg-color: #3B4455;\n",
              "      --disabled-fill-color: #666;\n",
              "  }\n",
              "\n",
              "  .colab-df-quickchart {\n",
              "    background-color: var(--bg-color);\n",
              "    border: none;\n",
              "    border-radius: 50%;\n",
              "    cursor: pointer;\n",
              "    display: none;\n",
              "    fill: var(--fill-color);\n",
              "    height: 32px;\n",
              "    padding: 0;\n",
              "    width: 32px;\n",
              "  }\n",
              "\n",
              "  .colab-df-quickchart:hover {\n",
              "    background-color: var(--hover-bg-color);\n",
              "    box-shadow: 0 1px 2px rgba(60, 64, 67, 0.3), 0 1px 3px 1px rgba(60, 64, 67, 0.15);\n",
              "    fill: var(--button-hover-fill-color);\n",
              "  }\n",
              "\n",
              "  .colab-df-quickchart-complete:disabled,\n",
              "  .colab-df-quickchart-complete:disabled:hover {\n",
              "    background-color: var(--disabled-bg-color);\n",
              "    fill: var(--disabled-fill-color);\n",
              "    box-shadow: none;\n",
              "  }\n",
              "\n",
              "  .colab-df-spinner {\n",
              "    border: 2px solid var(--fill-color);\n",
              "    border-color: transparent;\n",
              "    border-bottom-color: var(--fill-color);\n",
              "    animation:\n",
              "      spin 1s steps(1) infinite;\n",
              "  }\n",
              "\n",
              "  @keyframes spin {\n",
              "    0% {\n",
              "      border-color: transparent;\n",
              "      border-bottom-color: var(--fill-color);\n",
              "      border-left-color: var(--fill-color);\n",
              "    }\n",
              "    20% {\n",
              "      border-color: transparent;\n",
              "      border-left-color: var(--fill-color);\n",
              "      border-top-color: var(--fill-color);\n",
              "    }\n",
              "    30% {\n",
              "      border-color: transparent;\n",
              "      border-left-color: var(--fill-color);\n",
              "      border-top-color: var(--fill-color);\n",
              "      border-right-color: var(--fill-color);\n",
              "    }\n",
              "    40% {\n",
              "      border-color: transparent;\n",
              "      border-right-color: var(--fill-color);\n",
              "      border-top-color: var(--fill-color);\n",
              "    }\n",
              "    60% {\n",
              "      border-color: transparent;\n",
              "      border-right-color: var(--fill-color);\n",
              "    }\n",
              "    80% {\n",
              "      border-color: transparent;\n",
              "      border-right-color: var(--fill-color);\n",
              "      border-bottom-color: var(--fill-color);\n",
              "    }\n",
              "    90% {\n",
              "      border-color: transparent;\n",
              "      border-bottom-color: var(--fill-color);\n",
              "    }\n",
              "  }\n",
              "</style>\n",
              "\n",
              "      <script>\n",
              "        async function quickchart(key) {\n",
              "          const quickchartButtonEl =\n",
              "            document.querySelector('#' + key + ' button');\n",
              "          quickchartButtonEl.disabled = true;  // To prevent multiple clicks.\n",
              "          quickchartButtonEl.classList.add('colab-df-spinner');\n",
              "          try {\n",
              "            const charts = await google.colab.kernel.invokeFunction(\n",
              "                'suggestCharts', [key], {});\n",
              "          } catch (error) {\n",
              "            console.error('Error during call to suggestCharts:', error);\n",
              "          }\n",
              "          quickchartButtonEl.classList.remove('colab-df-spinner');\n",
              "          quickchartButtonEl.classList.add('colab-df-quickchart-complete');\n",
              "        }\n",
              "        (() => {\n",
              "          let quickchartButtonEl =\n",
              "            document.querySelector('#df-afa7d982-34b5-4cd0-bc5a-e939e75d1cba button');\n",
              "          quickchartButtonEl.style.display =\n",
              "            google.colab.kernel.accessAllowed ? 'block' : 'none';\n",
              "        })();\n",
              "      </script>\n",
              "    </div>\n",
              "\n",
              "  <div id=\"id_a8ad8c5d-c720-45fc-aa27-7571fb73d5f9\">\n",
              "    <style>\n",
              "      .colab-df-generate {\n",
              "        background-color: #E8F0FE;\n",
              "        border: none;\n",
              "        border-radius: 50%;\n",
              "        cursor: pointer;\n",
              "        display: none;\n",
              "        fill: #1967D2;\n",
              "        height: 32px;\n",
              "        padding: 0 0 0 0;\n",
              "        width: 32px;\n",
              "      }\n",
              "\n",
              "      .colab-df-generate:hover {\n",
              "        background-color: #E2EBFA;\n",
              "        box-shadow: 0px 1px 2px rgba(60, 64, 67, 0.3), 0px 1px 3px 1px rgba(60, 64, 67, 0.15);\n",
              "        fill: #174EA6;\n",
              "      }\n",
              "\n",
              "      [theme=dark] .colab-df-generate {\n",
              "        background-color: #3B4455;\n",
              "        fill: #D2E3FC;\n",
              "      }\n",
              "\n",
              "      [theme=dark] .colab-df-generate:hover {\n",
              "        background-color: #434B5C;\n",
              "        box-shadow: 0px 1px 3px 1px rgba(0, 0, 0, 0.15);\n",
              "        filter: drop-shadow(0px 1px 2px rgba(0, 0, 0, 0.3));\n",
              "        fill: #FFFFFF;\n",
              "      }\n",
              "    </style>\n",
              "    <button class=\"colab-df-generate\" onclick=\"generateWithVariable('df')\"\n",
              "            title=\"Generate code using this dataframe.\"\n",
              "            style=\"display:none;\">\n",
              "\n",
              "  <svg xmlns=\"http://www.w3.org/2000/svg\" height=\"24px\"viewBox=\"0 0 24 24\"\n",
              "       width=\"24px\">\n",
              "    <path d=\"M7,19H8.4L18.45,9,17,7.55,7,17.6ZM5,21V16.75L18.45,3.32a2,2,0,0,1,2.83,0l1.4,1.43a1.91,1.91,0,0,1,.58,1.4,1.91,1.91,0,0,1-.58,1.4L9.25,21ZM18.45,9,17,7.55Zm-12,3A5.31,5.31,0,0,0,4.9,8.1,5.31,5.31,0,0,0,1,6.5,5.31,5.31,0,0,0,4.9,4.9,5.31,5.31,0,0,0,6.5,1,5.31,5.31,0,0,0,8.1,4.9,5.31,5.31,0,0,0,12,6.5,5.46,5.46,0,0,0,6.5,12Z\"/>\n",
              "  </svg>\n",
              "    </button>\n",
              "    <script>\n",
              "      (() => {\n",
              "      const buttonEl =\n",
              "        document.querySelector('#id_a8ad8c5d-c720-45fc-aa27-7571fb73d5f9 button.colab-df-generate');\n",
              "      buttonEl.style.display =\n",
              "        google.colab.kernel.accessAllowed ? 'block' : 'none';\n",
              "\n",
              "      buttonEl.onclick = () => {\n",
              "        google.colab.notebook.generateWithVariable('df');\n",
              "      }\n",
              "      })();\n",
              "    </script>\n",
              "  </div>\n",
              "\n",
              "    </div>\n",
              "  </div>\n"
            ],
            "application/vnd.google.colaboratory.intrinsic+json": {
              "type": "dataframe",
              "variable_name": "df",
              "summary": "{\n  \"name\": \"df\",\n  \"rows\": 30000,\n  \"fields\": [\n    {\n      \"column\": 0,\n      \"properties\": {\n        \"dtype\": \"string\",\n        \"num_unique_values\": 29932,\n        \"samples\": [\n          \"##\\ubaa8\\ub974\\ub294\",\n          \"\\uc544\\ube60\\ub791\",\n          \"##0\\ubd84\"\n        ],\n        \"semantic_type\": \"\",\n        \"description\": \"\"\n      }\n    }\n  ]\n}"
            }
          },
          "metadata": {},
          "execution_count": 25
        }
      ]
    },
    {
      "cell_type": "code",
      "source": [
        "encoded = tokenizer.encode('아 배고픈데 짜장면 먹고싶다.')\n",
        "print('토큰화 결과: ', encoded.tokens)\n",
        "print('정수 인코딩: ', encoded.ids)\n",
        "print('디코딩: ', tokenizer.decode(encoded.ids))"
      ],
      "metadata": {
        "colab": {
          "base_uri": "https://localhost:8080/"
        },
        "id": "s3oi3YCSq1QI",
        "outputId": "94bff398-0de8-4d96-a1bd-1acf6f037a31"
      },
      "execution_count": 16,
      "outputs": [
        {
          "output_type": "stream",
          "name": "stdout",
          "text": [
            "토큰화 결과:  ['아', '배고', '##픈', '##데', '짜장면', '먹고', '##싶다', '.']\n",
            "정수 인코딩:  [2111, 20631, 3613, 3389, 24679, 8688, 7379, 18]\n",
            "디코딩:  아 배고픈데 짜장면 먹고싶다.\n"
          ]
        }
      ]
    },
    {
      "cell_type": "markdown",
      "source": [
        "샵의 의미는 앞에 연결된 접사/어미 등을 나타낼때 쓴다\n"
      ],
      "metadata": {
        "id": "2WSPr_-0r33M"
      }
    },
    {
      "cell_type": "code",
      "source": [
        "encoded = tokenizer.encode('커피 한잔의 여유를 즐기다.')\n",
        "print('토큰화 결과: ', encoded.tokens)\n",
        "print('정수 인코딩: ', encoded.ids)\n",
        "print('디코딩: ', tokenizer.decode(encoded.ids))"
      ],
      "metadata": {
        "colab": {
          "base_uri": "https://localhost:8080/"
        },
        "id": "uZuITPhjrYOB",
        "outputId": "e61b5444-681f-4d26-c60d-9906f740fcc8"
      },
      "execution_count": 18,
      "outputs": [
        {
          "output_type": "stream",
          "name": "stdout",
          "text": [
            "토큰화 결과:  ['커피', '한잔', '##의', '여유', '##를', '즐기', '##다', '.']\n",
            "정수 인코딩:  [12825, 25645, 3373, 12696, 3347, 10784, 3239, 18]\n",
            "디코딩:  커피 한잔의 여유를 즐기다.\n"
          ]
        }
      ]
    },
    {
      "cell_type": "code",
      "source": [
        "from sklearn.pipeline import make_pipeline\n",
        "\n",
        "#실제 embedding vector 확인해보기\n",
        "tokenizer = AutoTokenizer.from_pretrained('bert-base-uncased')\n",
        "model = AutoModel.from_pretrained('bert-base-uncased')\n",
        "\n",
        "tokenizer.add_special_tokens({'pad_token':'[PAD]'})\n",
        "tokenizer.add_special_tokens({'unk_token':'[UNK]'})\n",
        "\n",
        "model.resize_token_embeddings(len(tokenizer))\n",
        "\n",
        "pipe = pipeline('feature-extraction', model=model, tokenizer=tokenizer)"
      ],
      "metadata": {
        "colab": {
          "base_uri": "https://localhost:8080/"
        },
        "id": "AD_5gfZ3rgDz",
        "outputId": "bb5ecd23-c827-4a70-bd85-b6b9f66ad828"
      },
      "execution_count": 30,
      "outputs": [
        {
          "output_type": "stream",
          "name": "stderr",
          "text": [
            "Device set to use cpu\n"
          ]
        }
      ]
    },
    {
      "cell_type": "code",
      "source": [
        "data = pipe('This is a test')\n",
        "print(len(data[0]))\n",
        "print(len(data[0][0]))\n",
        "print(data[0])"
      ],
      "metadata": {
        "colab": {
          "base_uri": "https://localhost:8080/"
        },
        "id": "-ADzNBcQtkgy",
        "outputId": "d2b5924d-76bb-49eb-b423-482fcdabc7ee"
      },
      "execution_count": 31,
      "outputs": [
        {
          "output_type": "stream",
          "name": "stdout",
          "text": [
            "6\n",
            "768\n",
            "[[-0.026014449074864388, 0.19197262823581696, 0.03443865478038788, -0.07194504886865616, -0.11282810568809509, -0.2831309139728546, 0.09150350093841553, 0.12827178835868835, -0.004860712680965662, -0.14723284542560577, -0.02782871015369892, -0.06148500367999077, -0.05599752068519592, 0.18917089700698853, 0.1371898353099823, -0.14089320600032806, 0.022946596145629883, 0.19262821972370148, 0.09546227008104324, -0.20831413567066193, -0.10455271601676941, -0.09069589525461197, -0.18040074408054352, -0.2847973704338074, -0.013938501477241516, -0.12907247245311737, 0.037471625953912735, -0.15027274191379547, 0.05749122053384781, 0.13891828060150146, 0.16705584526062012, 0.009245113469660282, -0.0757925733923912, 0.17022353410720825, -0.03154502809047699, -0.05634450167417526, 0.08796167373657227, -0.03658274933695793, 0.07899647951126099, 0.0026788990944623947, -0.04536345601081848, 0.022180281579494476, 0.12595276534557343, 0.05710231885313988, -0.16020040214061737, -0.09746409207582474, -1.4291720390319824, -0.05265114828944206, -0.0922469049692154, -0.17049220204353333, -0.02815721184015274, 0.05934242159128189, 0.13627567887306213, 0.20670023560523987, 0.0177021324634552, 0.09514185786247253, -0.17284263670444489, 0.5640992522239685, -0.01124728936702013, -0.043353475630283356, 0.03421266749501228, 0.046413853764534, -0.005208190996199846, 0.10242626070976257, -0.032213252037763596, 0.20151939988136292, 0.10809062421321869, 0.036808907985687256, -0.14930684864521027, 0.30508843064308167, -0.32713398337364197, -0.08035881072282791, 0.1661113053560257, 0.04901108145713806, 0.015027763321995735, -0.1362352967262268, 0.07238463312387466, 0.08675917237997055, -0.049514949321746826, -0.027488794177770615, 0.058358609676361084, 0.17945995926856995, -0.0019742546137422323, -0.14195305109024048, 0.11234308779239655, 0.06861144304275513, -0.15423378348350525, -0.08268338441848755, 0.09482236951589584, 0.4227711260318756, 0.020770210772752762, 0.15525111556053162, 0.07354875653982162, 0.15122003853321075, 0.1288856863975525, -0.21377302706241608, 0.11428587883710861, -0.09453503787517548, 0.2958522439002991, 0.07590094953775406, -0.07953036576509476, -0.15307307243347168, 0.07206882536411285, -0.16018763184547424, 0.005858526099473238, -0.05314107984304428, -0.04063774645328522, 0.06519120931625366, -0.013526984490454197, -3.0464303493499756, 0.18967723846435547, 0.06314360350370407, -0.12824751436710358, -0.031375300139188766, -0.092300646007061, 0.5282608270645142, 0.2213633954524994, 0.16775453090667725, 0.17661504447460175, 0.15534906089305878, -0.2083940953016281, 0.5290936231613159, 0.016290007159113884, -0.002248241798952222, 0.23304568231105804, 0.2072710543870926, 0.22787074744701385, 0.010545059107244015, 0.025725683197379112, -0.03773578256368637, 0.05484825372695923, 0.2630680799484253, 0.25141075253486633, 0.008638493716716766, -0.06328588724136353, -0.15355941653251648, 0.06833726167678833, -0.19226647913455963, -0.13889798521995544, -0.11733876913785934, -0.012435642071068287, -0.002154488582164049, -3.385114908218384, 0.12866058945655823, 0.26241108775138855, -0.07341707497835159, -0.270992636680603, -0.16526784002780914, 0.23483380675315857, 0.08716637641191483, 0.002891805488616228, 0.20011493563652039, -0.1366531252861023, 0.1946149468421936, -0.12636718153953552, -0.22826893627643585, 0.023644857108592987, -0.14823107421398163, 0.13664190471172333, 0.25110912322998047, -0.014163443818688393, -0.08812569081783295, 0.24278107285499573, -0.2371724247932434, -0.035206831991672516, -0.1543409377336502, 0.2614504098892212, 0.19025836884975433, 0.13233324885368347, -0.07305773347616196, -0.2032930552959442, -0.1689366102218628, 0.03815147653222084, 0.12158633768558502, 0.036179326474666595, -0.15790601074695587, 0.18179473280906677, 0.09853161126375198, 0.13300707936286926, -0.03764523193240166, -0.12536412477493286, 0.2117036134004593, -0.03054472617805004, 0.023852074518799782, 0.12299731373786926, 0.08853620290756226, 0.2080320566892624, -0.07848553359508514, -0.010510493069887161, 0.29196983575820923, 0.032592784613370895, 0.09369344264268875, 0.1710558831691742, -0.1426985263824463, 0.3445337414741516, -0.008740102872252464, -0.11551213264465332, -0.19793279469013214, 0.21724829077720642, 0.26688313484191895, -0.040980368852615356, -0.042476847767829895, -0.12496767938137054, 0.022845549508929253, 0.17085997760295868, 3.7902581691741943, 0.1530420184135437, -0.05337127298116684, 0.24780236184597015, 0.06382913887500763, -0.03915931284427643, 0.37539681792259216, -0.06685059517621994, -0.245834618806839, 0.1287054866552353, -0.06382232159376144, 0.12169643491506577, 0.05418103188276291, 0.020935676991939545, 0.02517862431704998, 0.28310254216194153, 0.14554598927497864, 0.020240461453795433, 0.029892250895500183, -0.12362681329250336, 0.10698503255844116, 0.1523343324661255, 0.1356811225414276, 0.022983618080615997, -0.911066472530365, -0.05841561406850815, 0.016708701848983765, -0.1241602897644043, 0.18897028267383575, 0.04753506928682327, -0.0914614200592041, 0.15957196056842804, -0.0874582827091217, 0.07861196249723434, 0.10620805621147156, 0.1064019426703453, 0.24140463769435883, -0.07007323205471039, 0.2569088935852051, -0.19106239080429077, 0.06951618194580078, 0.10886163264513016, 0.07606936991214752, 0.07824129611253738, 0.001039446797221899, 0.058792002499103546, -0.24969784915447235, -0.14775073528289795, -0.13190162181854248, -0.18268704414367676, -0.11302840709686279, 0.05216230824589729, 0.03422997519373894, -0.10461480170488358, 0.1791100949048996, -0.20124970376491547, 0.04107597470283508, -0.020304560661315918, 0.09791959822177887, -0.07082418352365494, -0.05527211353182793, -0.05879155173897743, -0.09139835089445114, 0.2661985456943512, 0.0604785792529583, -0.0019366337219253182, -0.12556350231170654, -0.067533478140831, -5.1404619216918945, 0.2107095867395401, 0.2262166142463684, 0.192293182015419, 0.3355152904987335, -0.013712771236896515, 0.20811204612255096, 0.16130098700523376, 0.04795386642217636, -0.24257230758666992, 0.24409808218479156, 0.22048544883728027, -0.19212521612644196, 0.27620819211006165, -0.27056190371513367, 0.10149738937616348, 0.06236639246344566, -0.10141074657440186, 0.08888088166713715, 0.024186905473470688, 0.22832255065441132, 0.4801084101200104, -0.1815672218799591, 0.10124213248491287, -0.012744389474391937, -0.13194948434829712, -0.16715335845947266, -0.04672888293862343, 0.24109333753585815, -0.1898041069507599, -0.15683048963546753, -0.07842136919498444, 0.0015634079463779926, -0.02612437680363655, -0.0435054711997509, -2.0052449703216553, -0.05733678489923477, 0.021097363904118538, -0.10839954763650894, 0.03805270418524742, -0.2877040505409241, 0.09443389624357224, 0.0976567342877388, -0.06944527477025986, 0.11170724034309387, 0.03136379271745682, 0.03209972009062767, -0.16583365201950073, 0.1643819361925125, 0.14655780792236328, -0.028738854452967644, 0.17649875581264496, 0.25138598680496216, 0.04044855758547783, 0.09894753247499466, -0.14002299308776855, 0.1641252040863037, -0.001799888676032424, 0.10409606248140335, -0.09473107010126114, 0.22612324357032776, -0.2351151406764984, 0.17393432557582855, -0.08820881694555283, 0.008484270423650742, 0.015178876928985119, 0.028181064873933792, -0.08690628409385681, -0.1548059582710266, -0.2503392994403839, -0.05097266286611557, 0.24045833945274353, 0.026345953345298767, 0.27893295884132385, -0.025362994521856308, -0.14410781860351562, 0.30923211574554443, 0.22860530018806458, 0.2717534899711609, 0.02734225057065487, 0.11007408797740936, -0.09989577531814575, -0.1007315143942833, 0.06082942709326744, -0.12749965488910675, -0.18215276300907135, -0.04430193454027176, 0.9120718836784363, -0.17277760803699493, 0.11795052140951157, 0.008059371262788773, 0.2397538721561432, 0.10114187002182007, 0.22011716663837433, 0.16225706040859222, 0.24536274373531342, 0.060904137790203094, 0.24691013991832733, 0.05427050590515137, -0.0912666767835617, -0.1305559128522873, 0.11813496053218842, -0.1465863138437271, 0.09784211218357086, 0.0811961442232132, 0.053232867270708084, 0.046961355954408646, 0.04261229187250137, -0.4602130651473999, -0.10396888852119446, 0.04743117839097977, -0.1172601580619812, 0.15371744334697723, 0.332489550113678, -0.09963742643594742, -0.059588827192783356, -0.10329217463731766, -0.001129858079366386, 0.13798829913139343, 0.045358967036008835, -0.034143634140491486, 0.09115773439407349, 0.08598701655864716, -0.15438415110111237, 0.12787403166294098, -0.02257676050066948, 0.286143958568573, 0.04292112588882446, -0.011884097009897232, 0.054841894656419754, 0.10249209403991699, 0.11096491664648056, -0.6651266813278198, 0.06540361046791077, -0.1346830129623413, -0.056279342621564865, -0.3755050599575043, -0.11028969287872314, 0.07382020354270935, -0.16393175721168518, -0.02919204905629158, -0.08949661999940872, 0.27662393450737, 0.011420383118093014, 0.17988364398479462, 0.16722369194030762, 0.16792088747024536, 0.08675936609506607, 0.19692176580429077, 0.5281587839126587, 0.22304397821426392, -0.13953039050102234, 0.16829779744148254, 0.03293657302856445, 0.06351502239704132, 0.14719048142433167, 0.07038721442222595, 0.049197323620319366, -0.09251105785369873, -0.17779746651649475, 0.11691953241825104, 0.056986432522535324, -0.17840620875358582, -0.17069505155086517, -0.046768151223659515, -0.06596708297729492, 0.03284469619393349, -0.05452653020620346, -0.5452398657798767, -0.07731086015701294, -0.07710816711187363, -0.1118350476026535, 0.3017030954360962, 0.08995547145605087, 0.0819537416100502, 0.09370068460702896, 0.15157218277454376, -0.0419580414891243, 0.28781914710998535, -0.0038757198490202427, 0.040561217814683914, 0.0018954490078613162, -0.14097192883491516, -0.025990447029471397, 0.25045549869537354, 0.2413649708032608, -0.2765323221683502, 0.1127910390496254, 0.0007297685951925814, 0.02891765534877777, 0.031320903450250626, 0.16411273181438446, -0.07894031703472137, 0.15058714151382446, 0.0942029133439064, 0.03601907193660736, 0.09147168695926666, -0.739896297454834, 0.047389570623636246, 0.18800900876522064, -0.01813484914600849, -0.0017258314182981849, 0.011209242045879364, -0.2967129349708557, 0.3568945527076721, -0.033747851848602295, -0.051344018429517746, -0.05847901478409767, 0.12578660249710083, 0.11990310251712799, -0.06578409671783447, 0.050615549087524414, 0.06927647441625595, 0.30640459060668945, -0.06568938493728638, 0.02860335446894169, 0.10719127953052521, -0.13527902960777283, 0.21348388493061066, -0.1399768590927124, -0.2594379186630249, -0.06061423942446709, -0.03918970003724098, -0.01707109622657299, 0.2632884085178375, -0.039317768067121506, -0.011660223826766014, 0.13901720941066742, -0.2901497781276703, -0.26459187269210815, -0.10000450164079666, -0.08151352405548096, -0.036110177636146545, 0.00515125785022974, 0.002638974692672491, 0.18581920862197876, 0.143084317445755, -0.16960486769676208, 0.22538773715496063, 0.16817021369934082, -0.12611430883407593, 0.1334613412618637, 0.20237720012664795, -0.20377452671527863, 0.06617231667041779, 0.1706428974866867, -0.24859730899333954, -0.1239767000079155, -0.04524243250489235, -0.1285262554883957, -0.08762630820274353, -0.0030182653572410345, -0.05960463732481003, 0.15030604600906372, -0.1591024398803711, 0.06313712149858475, -0.09112975001335144, 0.19350667297840118, -0.1304536759853363, 0.06078604981303215, 0.1890348345041275, -0.1768428534269333, -0.5556637048721313, 0.14651930332183838, -0.060865338891744614, -0.09281302988529205, -0.012649276293814182, 0.19069655239582062, -0.09602028131484985, -0.05531948804855347, -0.23077557981014252, -0.34992870688438416, 0.13027094304561615, -0.04156958684325218, -0.11659257113933563, 0.07179681956768036, -0.21628370881080627, 0.006957024801522493, -0.206967294216156, -0.15395739674568176, -0.07924044877290726, 0.1776111125946045, -0.013650459237396717, -0.01083147618919611, 0.16193854808807373, -0.15389561653137207, -0.12148792296648026, -0.1707713007926941, -0.15188457071781158, 0.30759385228157043, 0.17846131324768066, 0.1317019760608673, 0.09094849228858948, 0.1742352545261383, 0.08737834542989731, 0.06320732831954956, 0.008545231074094772, -0.25782233476638794, 0.2949582636356354, -0.10952412337064743, 0.061444684863090515, 0.16685613989830017, 0.1299322247505188, 0.15591274201869965, 0.13934239745140076, -0.1714686155319214, -0.15273964405059814, -0.09269320964813232, 0.3056747317314148, -0.0673312321305275, -0.09733108431100845, -0.01853310689330101, 0.15257155895233154, 0.14206913113594055, 0.16923943161964417, 2.7571768760681152, 0.2668454051017761, 0.06273891031742096, -0.10193832218647003, 0.1401721090078354, 0.22907675802707672, 0.08008302748203278, 0.08909273892641068, -0.10281043499708176, 0.166726216673851, -0.12187511473894119, -0.07342379540205002, 0.02745390683412552, 0.0802086889743805, 0.06324874609708786, 0.09454277157783508, -0.10106994956731796, 0.05443350225687027, -0.28807035088539124, -0.3367348611354828, -0.2128673791885376, 0.330564945936203, 0.06467323005199432, -0.04352536424994469, 0.011808917857706547, 0.16050980985164642, 0.005128214135766029, -0.05694077908992767, -0.19140811264514923, -0.11328144371509552, 0.019863037392497063, -0.015725083649158478, 0.03992008790373802, -0.000824680202640593, 0.0659794956445694, 0.18091310560703278, 0.061867017298936844, -0.19954809546470642, -0.04053890332579613, 0.07873709499835968, -0.13330890238285065, -0.16056860983371735, 0.24521392583847046, -0.08785989135503769, -0.04679684340953827, 0.14745883643627167, -0.011077930219471455, -0.060463786125183105, -0.07107275724411011, -0.07593552768230438, 0.11955751478672028, -0.18465270102024078, -0.13534148037433624, 0.056108035147190094, -0.2002793550491333, -0.15915599465370178, 0.24759849905967712, -0.10517188906669617, -0.12561652064323425, 0.2633620500564575, 0.07616351544857025, -0.006142514757812023, 0.21199549734592438, -0.04773707315325737, 0.021462805569171906, -0.07970789074897766, 0.00044209862244315445, 0.03660045936703682, -0.02563823200762272, 0.1822129487991333, -0.011251039803028107, 0.1418103575706482, 0.11067435145378113, -0.029273532330989838, 0.12001827359199524, -0.11915328353643417, 0.13021431863307953, 0.015578576363623142, -0.14230617880821228, -3.8689281940460205, 0.028787225484848022, 0.004403410479426384, -0.029504291713237762, 0.04475712031126022, 0.23062624037265778, 0.12750883400440216, 0.130204975605011, -0.040322981774806976, 0.07142233848571777, 0.1763613522052765, 0.09388258308172226, 0.11422622948884964, 0.212371826171875, 0.06285873800516129, 0.08697798103094101, -0.09718210250139236, -0.24546872079372406, -0.03340505436062813, 0.013025009073317051, -0.04461904615163803, -0.015776269137859344, -0.03741280734539032, 0.05571191385388374, -0.017397833988070488, -0.05550305172801018, -0.14287030696868896, -0.06365811824798584, 0.0823330506682396, -0.09014217555522919, -0.1399892419576645, 0.016190383583307266, 0.06368106603622437, 0.01732061430811882, 0.03073732927441597, -0.07510511577129364, 0.08767738938331604, -0.06726518273353577, 0.2269400805234909, 0.2885698080062866, 0.002278439700603485, 0.13475117087364197, -0.07682087272405624, 0.12127489596605301, -0.19996532797813416, -0.0005108988261781633, 0.15479776263237, -0.1207091361284256, 0.2178439348936081, -0.15051640570163727, -0.059479303658008575, 0.21560244262218475, -0.14994633197784424, 0.04821110889315605, 0.24724194407463074, -0.09509533643722534, 0.07356715947389603, 0.04798050597310066, 0.06480295956134796, 0.05818920582532883, 0.0857902243733406, -0.2105785757303238, 0.004367629997432232, -0.14335240423679352, 0.23471446335315704, -0.15002134442329407, 0.05563322827219963, -0.015973353758454323, -0.06765539199113846, 0.06846972554922104, -0.002466510981321335, 0.015060974285006523, 0.13116921484470367, 0.03423392400145531, 0.1497345119714737, 0.0333077646791935, 0.031042128801345825, 0.2733224630355835, 0.04173938184976578, 0.1897420436143875, 0.05589109659194946, -0.27709585428237915, -0.05925561487674713, -0.11204054206609726, 0.1290915459394455, -9.645722389221191, -0.0208231583237648, -0.2041579633951187, -0.08250682801008224, 0.15143872797489166, 0.08284203708171844, -0.003993053920567036, -0.09347400069236755, 0.006755897309631109, 0.011221052147448063, -0.06345538794994354, 0.05822368338704109, 0.013317863456904888, -0.13456317782402039, 0.07729212194681168, 0.24767181277275085], [-0.5673683285713196, -0.25611257553100586, 0.3123845160007477, -0.9046734571456909, 0.6231284141540527, -0.20458334684371948, -0.047567613422870636, 0.6931448578834534, -0.3472056984901428, -0.1067638024687767, -0.21991249918937683, -0.5032232999801636, 0.036812663078308105, 0.4341963529586792, 0.35925981402397156, 0.6443523168563843, 0.0681275799870491, 0.30320486426353455, -0.038791507482528687, -0.17521020770072937, 0.24211138486862183, 0.3950386345386505, -0.41342872381210327, 0.2945278286933899, 1.083492398262024, -0.4167754650115967, 0.34499385952949524, -0.15569528937339783, -0.10883843153715134, -0.0530557818710804, -0.035264454782009125, 0.6925162076950073, -0.06260419636964798, -0.1341249644756317, -0.37247413396835327, -0.2810373604297638, 0.4357414245605469, -0.6894669532775879, -0.27950313687324524, 0.3994597792625427, -0.4395332336425781, -0.4738757014274597, 0.4446287453174591, 0.5424075126647949, -0.09189174324274063, -0.6365208625793457, 0.06440111994743347, -0.7425081133842468, -0.06066634878516197, -0.3282863199710846, -0.8475451469421387, 0.1437872052192688, -0.12162046879529953, 0.34355252981185913, -0.8902549147605896, 0.6306580901145935, 0.03745023161172867, -0.3030625879764557, -0.32104989886283875, 0.07563043385744095, 1.0271718502044678, 0.16648687422275543, 0.301626980304718, -0.18735279142856598, 0.3096424639225006, 0.7693662047386169, 0.05385710299015045, 0.740464985370636, -1.0610698461532593, -0.2651700973510742, -0.7768247723579407, -0.6841766834259033, -0.09198319166898727, 0.13615897297859192, 0.04813579097390175, 0.021402357146143913, 0.040862902998924255, -0.14583270251750946, -0.29958122968673706, -0.9540906548500061, 0.010578705929219723, 1.0105113983154297, 0.07532668113708496, -0.06559652090072632, -0.00870467908680439, 0.34299564361572266, -0.6626470685005188, 0.030944321304559708, -0.42196619510650635, 0.6941985487937927, -0.02503173053264618, -0.659089207649231, 0.2042115181684494, -0.024411993101239204, 0.09909621626138687, -0.8294422626495361, 0.23213565349578857, -0.029683783650398254, 0.408572793006897, -0.17237135767936707, -0.5072897672653198, -1.8902814388275146, -0.025415321812033653, -0.41556650400161743, 0.5393074750900269, -0.4711129367351532, 0.39661216735839844, 1.0887434482574463, 0.45781198143959045, -1.484787106513977, 0.4381653368473053, 0.1926794946193695, -0.06615372747182846, -0.033964235335588455, -0.6853810548782349, 1.0319552421569824, 0.12719741463661194, 0.05617796257138252, 0.23131348192691803, -0.1274556815624237, -0.9470716118812561, 0.18277008831501007, 0.09495299309492111, 0.7312599420547485, -0.017977682873606682, 0.33174625039100647, 0.3511171340942383, 0.6557339429855347, 0.21496255695819855, -0.43441587686538696, 0.2692507207393646, 1.0797399282455444, 0.6371908783912659, -0.8227441310882568, -0.5403842329978943, -0.6095747351646423, -0.17773132026195526, -0.8801435828208923, -0.6762844920158386, -0.09490033239126205, 0.593534529209137, -0.11886756867170334, 0.09469304978847504, 0.1389549970626831, 0.19557912647724152, -0.0011507754679769278, -0.5298812985420227, -0.7724527716636658, 0.41888025403022766, 0.008917572908103466, 0.23645049333572388, 0.22925707697868347, -0.17163649201393127, -0.410637766122818, -0.5900737047195435, -0.2700660824775696, -0.19079384207725525, 0.5097682476043701, 0.11136085540056229, 0.5695067048072815, 0.6211573481559753, 0.16378703713417053, 0.8651109337806702, 0.6171698570251465, 0.0604095384478569, -0.4210236072540283, -0.24283531308174133, -0.1642950028181076, 0.23879364132881165, -0.2904781103134155, -0.2481759935617447, -0.9692398309707642, 0.7672619819641113, 0.413953959941864, -0.1500060111284256, -0.23398977518081665, 0.6168746948242188, -0.3654186427593231, 0.4805912375450134, 0.04685110226273537, -0.6394545435905457, 0.3234824538230896, -0.5193422436714172, -0.09206566959619522, 0.31301844120025635, -0.13651610910892487, 0.35698264837265015, -0.9025701284408569, -0.42695701122283936, 1.0242118835449219, -0.45744502544403076, 0.6082081198692322, -0.06344430148601532, -0.6897000074386597, 0.6841630339622498, -0.30969855189323425, -0.732787013053894, -0.5729653835296631, 0.38896849751472473, 0.13337548077106476, 0.22042249143123627, 0.4755418002605438, -0.2641352713108063, 0.1368841677904129, -0.13408450782299042, 1.7661161422729492, 0.6216278672218323, 0.09211140871047974, 0.7157374620437622, -0.3533904254436493, -0.044436465948820114, 1.6823368072509766, 0.004004008136689663, -0.29005298018455505, 0.23680193722248077, 0.2688431441783905, -0.2210790067911148, 0.08276376128196716, 0.18414075672626495, 0.4090513288974762, 0.4116751551628113, 0.03553949296474457, -0.4206194281578064, 0.6485037803649902, -0.24035702645778656, 1.0672969818115234, 0.2871098518371582, 0.3520837128162384, 0.33623093366622925, -0.5126737952232361, -0.4251788854598999, -0.39853405952453613, -0.08609279245138168, 0.5015029907226562, -0.05864567309617996, 0.8861331343650818, 0.09039663523435593, -0.14382807910442352, -0.09157230705022812, 0.48219579458236694, 0.009542691521346569, 0.47357162833213806, -0.0198985505849123, 0.7776156067848206, -0.9400896430015564, -0.25467807054519653, -0.18667468428611755, -0.5541585683822632, -0.308737188577652, -0.29738113284111023, -0.29658523201942444, -0.6099355816841125, -0.5223513841629028, -0.5464279055595398, -1.2442938089370728, 0.046428460627794266, -0.1888544112443924, 0.5007064342498779, 0.06877728551626205, 0.6552311778068542, 0.13554523885250092, 0.29626473784446716, 0.2767041325569153, 0.026452714577317238, -0.8265947103500366, 0.3811180293560028, -0.6816027164459229, 0.5798153877258301, 0.6907776594161987, 0.36204034090042114, -0.8069755434989929, -0.8234532475471497, 0.043224211782217026, -1.1691371202468872, -0.46222734451293945, -0.1511778086423874, 0.019704705104231834, 0.2697191536426544, -0.46970993280410767, 0.7046723365783691, 0.3789735436439514, 1.2268133163452148, -0.49342188239097595, 0.5089555382728577, 0.2788185179233551, -0.7560480237007141, 0.44880351424217224, 0.3315214514732361, 0.1875077486038208, -0.5005983114242554, -0.6145820021629333, 0.38637110590934753, -0.26872536540031433, -0.7183658480644226, 0.5026047229766846, 0.0944594219326973, 0.6184221506118774, -0.082476906478405, -0.24529603123664856, -0.6534700393676758, -0.19293329119682312, -0.7429055571556091, 0.07080668210983276, 0.14057591557502747, -0.6126108169555664, 0.3396580219268799, -0.3655575215816498, -0.5137233734130859, -4.350356578826904, 0.23614516854286194, -0.15095774829387665, -0.23638926446437836, -0.19278891384601593, -0.14710722863674164, -0.04294225573539734, -0.10793483257293701, -0.6065729260444641, 0.14073006808757782, -0.17654065787792206, -1.0855228900909424, -0.40698134899139404, 0.6047640442848206, 0.0005530242924578488, 0.025641178712248802, 0.39520227909088135, 0.9205827116966248, -0.06696858257055283, 1.2516335248947144, -0.3190992474555969, -0.3042946755886078, -0.3621593415737152, -0.5551050901412964, -0.6565725803375244, 0.636303722858429, -0.3212956190109253, 0.64909827709198, -0.8393822908401489, 0.5120770335197449, 0.31531399488449097, -0.2816076874732971, 0.18392109870910645, -0.4052625000476837, -0.22713731229305267, 0.23960818350315094, 0.34453195333480835, -0.5206917524337769, 0.19218920171260834, -0.145360067486763, -0.41572362184524536, -0.10762456059455872, 0.5438461899757385, 0.4615381062030792, 0.5647998452186584, 0.1890784651041031, -0.48843124508857727, -0.4994677007198334, -0.03105599619448185, 0.10006316751241684, -0.5953264832496643, -0.4263276755809784, 0.1702190786600113, 0.15440572798252106, -0.08452468365430832, 0.20897772908210754, -0.0878131166100502, -0.2241191565990448, 0.3841326832771301, 0.23450425267219543, 0.4006732702255249, -0.8497695922851562, -0.11064166575670242, 0.2844761312007904, -0.19762398302555084, -1.0942676067352295, -0.15785537660121918, -0.19872617721557617, 0.24103467166423798, 0.6647506356239319, -0.38483649492263794, 0.08341492712497711, 0.433182954788208, -1.4333465099334717, -0.18557971715927124, 0.08968297392129898, 0.26047584414482117, 0.09591226279735565, 1.3473412990570068, -0.407529354095459, -0.7489344477653503, -0.8123893737792969, 0.11909858137369156, 0.15097388625144958, 0.38473600149154663, -0.2827438712120056, 0.7401874661445618, 0.036228615790605545, -0.3003626763820648, -0.2952388525009155, -0.6010251045227051, 1.0679510831832886, 0.009117457084357738, 0.6191074848175049, 0.027038702741265297, 0.020824240520596504, 0.5072882175445557, -0.4315890073776245, 0.35049280524253845, -0.0785243883728981, 0.4382795989513397, -0.5665667653083801, 0.7603033781051636, -0.035689596086740494, 0.8192083835601807, -0.04932723566889763, -0.6815800666809082, 0.8675730228424072, -0.12429288774728775, 0.4349353611469269, -0.3654356598854065, -0.4350343346595764, -0.09860371798276901, -0.5877479314804077, -0.2771947681903839, 0.7258993983268738, -0.47960662841796875, 0.6591500639915466, 0.5662286877632141, 0.22509819269180298, 0.40986204147338867, 0.6060591340065002, -0.445139080286026, -0.7580863833427429, -0.8941690921783447, 0.23594555258750916, -0.5597076416015625, 0.6483925580978394, -0.9856081604957581, 0.1628798246383667, -0.6455731391906738, 0.09900408238172531, -0.3622126281261444, -0.37182918190956116, 0.7062793374061584, -0.34432539343833923, -0.5682325959205627, 0.9634318947792053, 1.0577574968338013, 0.02910047583281994, 0.05950014665722847, 0.6724137663841248, -0.03770190849900246, 0.643773078918457, 0.059853941202163696, 0.8456581830978394, 0.09054666757583618, -0.6928051710128784, -0.506220281124115, 0.2835557460784912, -0.18902279436588287, -0.6687963604927063, 0.12743620574474335, -0.4837462604045868, -0.013554403558373451, 0.04214845597743988, 0.5976524949073792, -0.1067521944642067, -0.029312707483768463, -0.6799736022949219, -0.045032814145088196, -0.1830606758594513, -0.0866507738828659, -0.17014473676681519, 0.8408090472221375, 0.34399914741516113, 0.3407275080680847, -0.15302205085754395, -0.5984997749328613, -0.297390341758728, -0.5581885576248169, 0.0056686727330088615, -0.06420903652906418, -0.5175002217292786, 0.06629620492458344, -0.24922023713588715, 0.09456156194210052, 0.017537198960781097, 0.3350842297077179, 0.26295197010040283, 0.0784500315785408, 0.32923680543899536, 0.016572624444961548, 0.1401907503604889, 0.11182082444429398, -0.10181492567062378, -0.11237481981515884, -0.40969163179397583, 0.17145490646362305, 0.6010816693305969, 0.011315874755382538, 0.04694999381899834, -0.3678892254829407, -0.5311923027038574, -0.9963006973266602, -0.4148313105106354, 0.27263143658638, -0.38309451937675476, 0.5824316740036011, 0.620448887348175, 0.6764978766441345, 0.6486737132072449, -0.33074066042900085, -0.03266875073313713, 0.23935122787952423, 0.5073597431182861, -0.1350764036178589, 0.48071375489234924, 0.03767501190304756, -0.26232457160949707, -0.5334431529045105, -0.20877426862716675, -0.28554823994636536, -0.8735941052436829, -0.12040490657091141, -0.20157988369464874, -0.3076324462890625, 0.6214653253555298, -0.4173041880130768, -0.49278610944747925, -0.06769002974033356, -0.3453916907310486, 0.021561330184340477, 0.13795354962348938, -0.6554504036903381, -0.5656024813652039, -0.022593364119529724, -1.0729222297668457, 0.22250132262706757, -0.23233374953269958, -0.19429801404476166, -0.5308511853218079, 0.27731961011886597, 0.2407093644142151, -0.18038137257099152, -1.0410304069519043, -0.9961701035499573, -0.2397337555885315, -0.141182079911232, -0.14486320316791534, 0.3444257974624634, -0.8091411590576172, 0.2806483805179596, -0.589090883731842, -0.5672497153282166, -0.8489553332328796, 0.2376404106616974, 0.08208038657903671, 0.14235717058181763, 0.951144814491272, -0.3111112713813782, 0.7444591522216797, -0.1165614053606987, -0.09890653938055038, 0.35753771662712097, -0.44881027936935425, 0.5405141711235046, 0.49250537157058716, -0.26469898223876953, -0.008001105859875679, 0.35218745470046997, 0.030312588438391685, 0.17366915941238403, 1.1943622827529907, -0.2891443967819214, 0.5484095811843872, 0.2617122232913971, 0.12680158019065857, -0.04117067530751228, 0.625970721244812, -0.9044585227966309, 0.32238516211509705, 0.11589278280735016, 0.43221378326416016, 0.4026421010494232, -0.34808632731437683, 0.056178122758865356, -0.1250273585319519, -0.30384203791618347, -0.028154443949460983, 0.8153657913208008, 0.4865679144859314, -0.8581705093383789, -0.40224096179008484, 0.05024681240320206, 0.052753228694200516, -0.044447414577007294, -0.01767524890601635, 0.5408084392547607, -0.3346424996852875, -0.6388435959815979, 0.20033250749111176, 0.5267418622970581, 0.46852266788482666, -0.007824343629181385, 0.3422172963619232, 0.7719380855560303, 0.491666704416275, -0.19331756234169006, -0.19745631515979767, -0.32354307174682617, 0.3569018542766571, -0.28710153698921204, 0.5230771899223328, -0.2418801635503769, 0.33512941002845764, 0.6662225127220154, -0.19927486777305603, -0.24761953949928284, 0.21719714999198914, -0.11719577014446259, -0.030617685988545418, 0.24290283024311066, 0.14424176514148712, -0.20192953944206238, 0.22236019372940063, 0.6494837403297424, -0.6214247941970825, -0.2986508011817932, 0.37973979115486145, -0.2636527717113495, -0.3791646957397461, 0.36111384630203247, 0.023748697713017464, -0.5590604543685913, 0.5536139011383057, -0.8112107515335083, -0.01691366918385029, -0.13219553232192993, -0.28576791286468506, 0.015713250264525414, -0.15414583683013916, -0.8350427150726318, 1.0785768032073975, -0.8491035103797913, 0.5679290890693665, 0.002840515226125717, -0.6732189059257507, 0.3541948199272156, 0.2297728955745697, -0.44935622811317444, 0.06256764382123947, 0.720179557800293, 0.9073407053947449, -0.052121661603450775, -0.2321830540895462, -0.18233804404735565, 0.22365835309028625, 0.14039616286754608, 0.3724510967731476, 0.4347091317176819, 0.3105013370513916, 0.30786821246147156, -0.5697317719459534, 0.11399130523204803, 0.47905537486076355, 0.522472620010376, 0.5766822695732117, 0.19232021272182465, -0.8477413654327393, 0.31557759642601013, 0.0723864734172821, 0.7411759495735168, -0.6798701882362366, -0.12632684409618378, 0.058422625064849854, 0.5294281244277954, 0.26065751910209656, -0.39487627148628235, 0.05621618777513504, -0.05161749944090843, 0.3867846131324768, 0.40934276580810547, 0.29140621423721313, -0.1197640672326088, 0.49567434191703796, -0.012351169250905514, 0.06275711208581924, -0.09981899708509445, -0.5080714821815491, 0.3234076201915741, 0.3425760865211487, -0.09967423230409622, -0.20363201200962067, -0.24250096082687378, -0.6615245938301086, 0.2182234674692154, 0.10655800998210907, 0.04920275881886482, -0.36143186688423157, 0.3221355676651001, -0.15193764865398407, 0.22434574365615845, 0.1287134438753128, 0.5971291065216064, -0.4030589163303375, 0.015805581584572792, 0.357464075088501, 0.9207137823104858, -0.512948751449585, 0.5199964642524719, -0.34619349241256714, 0.11177696287631989, -0.4920106530189514, -0.09165718406438828, 0.2848908305168152, -0.6414794921875, 0.6449153423309326, -0.41688036918640137, -0.9121471047401428, 0.2524155080318451, 0.41351625323295593, -0.28545016050338745, -0.12781383097171783, -0.7216697931289673, 0.7624909281730652, 0.297382116317749, -0.3101154863834381, -0.3758169412612915, 0.7183302044868469, -0.6800618171691895, -0.5354723334312439, -0.18346910178661346, 1.0107098817825317, -0.4626733958721161, -0.18877576291561127, -0.10981792956590652, 0.22330915927886963, -0.9616411328315735, -0.4204562306404114, 0.1890282928943634, 0.6854551434516907, 0.2660360336303711, -0.2437376081943512, 0.2772659361362457, -1.064886450767517, 0.6518064141273499, -0.3214223086833954, 0.4672163128852844, -0.393775075674057, 0.0676574781537056, 0.9797838926315308, 0.029983486980199814, 0.3041141629219055, -2.4477343559265137, -0.20964956283569336, -0.18235145509243011, -1.1121547222137451, 0.5989859104156494, -0.026271088048815727, 0.8203424215316772, 0.07950481027364731, 0.5140829682350159, -0.07329409569501877, -0.7072851061820984, 0.9814702868461609, 0.3657110929489136, -0.7817661166191101, 0.2189958393573761, 0.5927022695541382], [-0.23615945875644684, -0.3176528811454773, 0.6953453421592712, -0.48756057024002075, -0.17368467152118683, -0.5171313285827637, -0.047387126833200455, 0.6560034155845642, -0.40391889214515686, -0.6505091786384583, 0.050888825207948685, -0.46117833256721497, -0.5110592842102051, 0.6201528906822205, -0.33087027072906494, 0.43801918625831604, 0.15203475952148438, -0.24779567122459412, -0.012418185360729694, -0.24799899756908417, -0.204027459025383, 1.0300556421279907, -0.5550730228424072, 0.19365552067756653, 0.5939955115318298, 0.10170213133096695, 0.09158150851726532, -0.9531166553497314, 0.15239642560482025, 0.41518524289131165, 0.49139320850372314, 0.34460917115211487, 0.22684989869594574, -0.522376298904419, -0.5876365303993225, -0.5470463633537292, 0.12846443057060242, -0.5680118799209595, -0.9116625785827637, 0.2010449767112732, -0.7984764575958252, -0.6641979217529297, 0.3952425420284271, 0.38490352034568787, -0.252834677696228, -0.2905356287956238, 0.8053593635559082, -0.262384831905365, 0.37510010600090027, -0.3814491033554077, -0.8850687742233276, -0.255096435546875, 0.3511144518852234, 0.5559968948364258, -0.40014147758483887, 0.39769116044044495, -0.04932904988527298, -0.8056758642196655, -0.5953586101531982, 0.023074615746736526, 0.38680896162986755, -0.01817713864147663, 0.12171903252601624, -0.08993516117334366, 0.440513551235199, 0.7162576913833618, -0.19773799180984497, 0.2120347023010254, -0.6819380521774292, -0.039829473942518234, -0.31759047508239746, -0.6360600590705872, 0.23597922921180725, -0.007540140766650438, -0.5199775695800781, -0.08607123047113419, -0.4076153635978699, -0.15796466171741486, 0.42156198620796204, -1.0268833637237549, -0.3417626917362213, 1.396073818206787, -0.16611579060554504, 0.07129354029893875, 0.12061849981546402, -0.6769817471504211, -0.12180519104003906, 0.2806054651737213, -0.604077935218811, 0.05468431115150452, 0.3805943727493286, -0.37095487117767334, 0.7071279883384705, -0.3571982681751251, 0.3313102126121521, -0.8698636293411255, 0.4563393294811249, -0.13905951380729675, 0.12292636930942535, -0.2163383960723877, -0.252917617559433, -1.4605207443237305, 0.43029817938804626, -0.16343294084072113, -0.031170150265097618, -0.26434245705604553, -0.47824907302856445, 1.4295363426208496, 0.5473889708518982, -0.2960793972015381, 0.632936418056488, -0.21852445602416992, -0.19616326689720154, -0.11408232897520065, -0.4444749355316162, 0.9193544387817383, 0.1189579889178276, -0.11412909626960754, 0.026518890634179115, -0.27305868268013, -0.07831625640392303, -0.4876643419265747, -0.05451211705803871, 0.8030802607536316, -0.34406909346580505, 0.6534621715545654, -0.38007575273513794, 0.2538928985595703, 0.24765147268772125, -0.5259435772895813, 0.30599504709243774, 0.8024394512176514, 0.8211227655410767, -0.8375646471977234, 0.37265336513519287, -0.13894297182559967, -0.3431829810142517, -0.19765141606330872, -1.088582992553711, -0.019907187670469284, 0.7558272480964661, 0.45216619968414307, 0.7758510112762451, -0.17149898409843445, -0.0840906947851181, -0.363998144865036, -0.6353256106376648, 0.033003322780132294, 0.6575946807861328, -0.2351410835981369, -0.04692038893699646, 0.5060965418815613, -0.05189068242907524, -0.8367406725883484, -0.29851004481315613, -0.7676882743835449, -0.1422673910856247, 0.6321026682853699, 0.10234314203262329, 0.20485714077949524, 0.4335070848464966, 0.3028290569782257, 0.01646595448255539, 0.4958581030368805, 0.21564112603664398, -0.3460187613964081, -0.35011643171310425, 0.44647476077079773, 0.6947813630104065, -0.580368161201477, -0.02832506224513054, -0.42773258686065674, 0.6248182654380798, 0.15385468304157257, 0.2527661919593811, -0.101032555103302, -0.1006489023566246, -0.12064120173454285, 1.2406178712844849, -0.11927296966314316, -0.26949232816696167, -0.1154860407114029, -0.039517272263765335, -0.6772676706314087, 0.15112724900245667, 0.04929137974977493, -0.02508005127310753, -0.13131673634052277, -0.27959954738616943, 0.5049454569816589, -0.10342168807983398, 0.718324601650238, -0.20776231586933136, -0.2896892726421356, -0.08738316595554352, -0.5706710815429688, -0.32851678133010864, -0.8473132848739624, -0.41941890120506287, -0.5404156446456909, 0.5450656414031982, 0.4303715229034424, 0.02146412990987301, -0.2536011040210724, -0.048141300678253174, 0.6070348024368286, 1.0612422227859497, -0.28065043687820435, -0.11414945125579834, 0.2035883069038391, 0.02488802745938301, 1.6274749040603638, 0.5818948149681091, -0.3874026834964752, 0.37457364797592163, 0.4962974190711975, 0.20055833458900452, -0.43404513597488403, -0.01030806452035904, 0.7570819854736328, 0.2620164453983307, -0.34664449095726013, -0.9104896783828735, 0.6577442288398743, -0.769265353679657, 0.176640123128891, 0.2611362934112549, 0.07721827179193497, 0.20575228333473206, -0.6139109134674072, -0.2331695854663849, -0.3565186560153961, 0.28081023693084717, 0.6277455687522888, -0.02091911993920803, 0.521262526512146, -0.19343192875385284, 0.31898871064186096, 0.295815110206604, 0.27211421728134155, 0.054362423717975616, 0.7423611879348755, 1.1697962284088135, -0.10233765095472336, -0.1933927685022354, -0.19324162602424622, -0.2665020227432251, -0.3840033710002899, -0.6587238311767578, -0.5038620829582214, -0.5533906817436218, -1.4043196439743042, -0.5130767822265625, -0.06610550731420517, -1.0262739658355713, -0.23934690654277802, -0.5226916670799255, 0.08951076120138168, 0.24185794591903687, 0.49221739172935486, -0.11736367642879486, 0.2864760160446167, 0.13576854765415192, 0.2490287721157074, -0.5431892275810242, 0.21651312708854675, -0.08942869305610657, 0.5958409309387207, 1.2864378690719604, 0.42552193999290466, -0.1535760760307312, -0.38736262917518616, 0.5342125296592712, 0.4682665467262268, 0.15125702321529388, 0.22228972613811493, 0.06847648322582245, 0.33397531509399414, -0.5519740581512451, 0.6262662410736084, 0.6729605793952942, 0.4470503330230713, -0.5397311449050903, -0.3357509672641754, 0.4587118327617645, -0.5959312915802002, -0.03949182108044624, 0.18065416812896729, -0.47587117552757263, -0.90315181016922, -0.6678924560546875, 0.8848615884780884, 0.17775943875312805, -1.1704195737838745, 0.5792983770370483, 0.013349555432796478, 0.04448525235056877, 0.5182507634162903, -0.2864585220813751, -0.15670350193977356, -0.05305161699652672, -1.1467007398605347, 0.26023098826408386, -0.5194202661514282, -0.5881094336509705, 0.04587594047188759, 0.2356211096048355, -0.0025323075242340565, -4.445951461791992, -0.5215096473693848, 0.16435536742210388, -0.43270501494407654, 0.29190245270729065, -0.13292592763900757, -0.30305153131484985, 0.21069669723510742, -0.5437198877334595, 0.6450085639953613, -0.6059091687202454, -1.0100488662719727, -0.2883477509021759, 0.5159629583358765, 0.1787184327840805, -0.56556236743927, 0.12507130205631256, 0.10093974322080612, -0.11702752113342285, 1.7870980501174927, -0.427171528339386, -0.7384116649627686, -0.05678496137261391, -0.5392444133758545, -0.03325250744819641, 0.6686468720436096, 0.1200994923710823, 0.6073436737060547, -0.6806919574737549, -0.5390419960021973, -0.42132696509361267, 0.020564008504152298, 0.6869016885757446, -0.2563088834285736, 0.17099721729755402, 0.11117254197597504, 0.21717728674411774, -0.41829103231430054, 0.427840918302536, -0.41858118772506714, -0.29905015230178833, -0.4144554138183594, 0.6375558972358704, -0.21234554052352905, 0.4994010031223297, -0.24421465396881104, -0.24768145382404327, -1.011818766593933, 0.2935923635959625, 0.6400411128997803, -0.3984699845314026, -0.4462204873561859, -0.46673154830932617, -0.25735899806022644, -0.06605121493339539, 0.22194570302963257, 0.8051144480705261, 0.030042625963687897, 0.47050392627716064, -0.23465991020202637, 0.07648535817861557, -0.3601875305175781, -0.22435952723026276, 0.8323532342910767, -0.4999089539051056, -0.04064091295003891, -1.2157319784164429, -0.17441706359386444, 0.41349342465400696, 0.27154549956321716, 0.1250830441713333, 0.6765656471252441, -0.14670416712760925, -1.4550464153289795, -0.04903949797153473, -0.049086395651102066, 0.3646070957183838, -0.2763557434082031, 0.30323928594589233, -0.03125230595469475, -0.7479628920555115, -0.7849816083908081, -0.20482614636421204, 0.06802862882614136, 0.026926958933472633, 0.0468360111117363, 0.3187621235847473, 0.1818871796131134, -0.1341637372970581, -0.057718101888895035, 0.16905514895915985, 1.047248125076294, 0.19059789180755615, 0.9967541098594666, -0.5250083208084106, -0.04060979560017586, 0.5652782917022705, -0.14446070790290833, 0.560317873954773, 0.04051252081990242, 0.8292398452758789, -0.57282954454422, 0.5278280973434448, 0.30441156029701233, 1.3611055612564087, 0.6946301460266113, -0.9578858613967896, 0.4035388231277466, 0.6246373653411865, 0.15333978831768036, 0.45467838644981384, -0.7373541593551636, 0.07195456326007843, -0.08256765455007553, -0.7105080485343933, 0.7132046818733215, -0.46971312165260315, 0.950611412525177, 0.3996197581291199, 0.01412239484488964, 0.0009152714628726244, 0.2753855586051941, -0.44994837045669556, -0.9413535594940186, -1.32233464717865, 0.06594593822956085, -0.4555751383304596, 0.19348546862602234, -0.36481183767318726, 0.1388307511806488, -0.2136601209640503, 0.564632773399353, -0.08410453051328659, 0.17590045928955078, 0.18866482377052307, -0.30383920669555664, -0.4793998599052429, 0.6579673886299133, 0.17054016888141632, 0.02787381038069725, 0.08405601233243942, 0.41819408535957336, -0.6373478770256042, -0.3822871446609497, -0.8757804036140442, 1.2370964288711548, 0.2205740511417389, -0.3764335513114929, -0.0573275163769722, -0.05892590060830116, -0.6592183113098145, -0.010431286878883839, 0.2943575382232666, 0.5511738061904907, -0.08502472192049026, -0.12003406137228012, 0.18396301567554474, -0.36066892743110657, -0.24804247915744781, -1.2710046768188477, 0.5201194286346436, 0.2676657438278198, 0.35160958766937256, 0.36530521512031555, 0.3844631612300873, 0.45979130268096924, 0.13632383942604065, 0.24748554825782776, -0.403804212808609, 0.007667932193726301, -0.3609037399291992, 0.036214716732501984, -0.19560961425304413, 0.005825136788189411, 0.2983936369419098, 0.2984832525253296, -0.29441535472869873, -0.22203035652637482, 0.3961799740791321, 0.25030282139778137, 0.1715676337480545, -0.11277636140584946, -0.4883178472518921, -0.12066414207220078, -0.05573869124054909, 0.1216120719909668, 0.23608632385730743, -0.3289348781108856, 0.46838924288749695, -0.12140308320522308, -0.672354519367218, -0.07744108140468597, -0.0535886324942112, -0.07330604642629623, -0.7381666302680969, -0.5543054342269897, 0.2500971257686615, -0.44740334153175354, 0.11984806507825851, 0.6211557984352112, 0.5420417785644531, 0.46566998958587646, 0.06598089635372162, 0.09594756364822388, -0.24510407447814941, 0.4785422384738922, -0.05699087679386139, -0.2927582859992981, 0.10827717930078506, -0.6940904855728149, -0.1097731962800026, -0.2992267310619354, 0.4688020944595337, -0.04883115738630295, -0.22026805579662323, 0.07552267611026764, 0.1890147179365158, 0.1583741456270218, -0.8121411204338074, -0.03139105439186096, -0.799467146396637, -0.47918054461479187, 0.45906731486320496, -0.07911207526922226, -0.20067395269870758, -0.5639028549194336, -0.2233830690383911, -0.8939728736877441, 0.1467953473329544, -0.6437708139419556, 0.104373499751091, -0.12097900360822678, -0.037876006215810776, 0.04742295295000076, -0.6668230891227722, -0.11288170516490936, -0.2521609663963318, -0.35284653306007385, 0.15245367586612701, -0.3283150792121887, -0.3318832218647003, -0.544725775718689, -0.22983470559120178, -0.5354670882225037, 0.33083656430244446, -1.211127519607544, 0.31029146909713745, 0.01933818683028221, -0.16518327593803406, 0.5256397724151611, -0.22184132039546967, 0.74125075340271, 0.33879703283309937, -0.5018725395202637, 0.5167044997215271, -0.9697273969650269, -0.5296100974082947, 0.31384438276290894, -0.4701367914676666, -0.4885043501853943, 0.4261643588542938, 0.5953712463378906, -0.7884564399719238, 0.6317590475082397, 0.024137532338500023, 0.0469190888106823, 0.5821308493614197, 0.7760025262832642, -0.021005934104323387, 0.19041121006011963, -0.7975230813026428, 0.5884121060371399, 0.7834506630897522, 0.4381978511810303, 0.3398180603981018, -0.3779018223285675, -0.3112397789955139, 0.08882826566696167, 0.40913861989974976, -0.4467277526855469, -0.10224545001983643, 0.04923808574676514, -0.9358711242675781, -0.16196124255657196, 0.26789557933807373, -0.024931123480200768, 0.3391139507293701, 0.7728654742240906, 0.3286290168762207, -0.19755418598651886, -1.0008448362350464, 0.051175303757190704, -0.3226006329059601, -0.7070294618606567, -0.00690417131409049, 0.016182053834199905, 0.9645765423774719, 0.6668150424957275, -0.12716354429721832, -0.6981174349784851, 0.08345955610275269, 0.19804918766021729, 0.5198075175285339, 0.2262095808982849, -0.8905872106552124, 0.40500161051750183, 0.03232639282941818, -0.2082822024822235, -0.3694004416465759, 0.18057523667812347, -0.44608092308044434, -0.8382132649421692, 0.7356101870536804, 0.1635565161705017, 0.11142987012863159, -0.2716231942176819, 0.25566479563713074, -0.5785995125770569, 0.08868805319070816, 0.9444254040718079, 0.05970554053783417, -0.6072909235954285, 0.9696621894836426, 0.4600071310997009, -0.4024297893047333, 0.5347709059715271, -0.743817925453186, -0.43412646651268005, -0.5087844729423523, 0.2932905852794647, -0.14294739067554474, -0.231484055519104, -0.41951578855514526, 1.0213757753372192, -0.5685946345329285, -0.4490501284599304, 0.23023279011249542, -0.7419177889823914, 1.0832767486572266, -0.31378042697906494, -0.3059440851211548, -0.20486462116241455, 0.6969338655471802, 1.0386334657669067, 0.27138838171958923, -0.22455677390098572, 0.05779159441590309, -0.27635297179222107, -0.0032681585289537907, 1.0938953161239624, 0.06184730678796768, 0.14948900043964386, 0.33016437292099, -0.11480903625488281, 0.3228587806224823, -0.5431235432624817, 0.6798930764198303, 0.6618252396583557, -0.24880580604076385, 0.38962823152542114, 0.4256047308444977, 0.23264923691749573, 1.0316579341888428, -0.4777893126010895, -0.11481378972530365, 0.24637995660305023, 0.3185819089412689, 0.4767104685306549, -0.12794771790504456, -0.11358120292425156, -0.10640697926282883, 0.7422986626625061, 0.1629774123430252, -0.00577079551294446, 0.07368794083595276, 1.0340361595153809, -0.08004780113697052, -0.3656049966812134, -0.6895884275436401, -0.2467697709798813, 0.7362769842147827, 0.08551828563213348, -0.03544573858380318, -0.44796502590179443, 0.26648372411727905, -0.8109288811683655, 0.3865818977355957, -0.7101917266845703, -0.3086158335208893, -0.20012010633945465, -0.1800011694431305, -0.03481459617614746, 0.09259660542011261, -0.5622389912605286, 0.6303408145904541, -0.31837335228919983, 0.4529309570789337, 0.34194648265838623, 0.7755987644195557, 0.1954297572374344, 0.022542595863342285, -1.0705796480178833, 0.07680550962686539, 0.31814998388290405, 0.459533154964447, -0.20109856128692627, -0.5971882343292236, 0.7142849564552307, -0.3535141050815582, -0.8591970801353455, 0.5366201996803284, 0.7452442646026611, -0.4765748381614685, -0.1427110731601715, -0.603463351726532, 0.8695969581604004, 0.11012380570173264, -0.35194632411003113, -0.4367305636405945, 0.4372340142726898, -1.1636300086975098, -0.5616421699523926, -0.5812622904777527, 0.8664137721061707, -0.7294890880584717, 0.20540586113929749, 0.0562838576734066, 0.5256136655807495, -0.09660951048135757, -0.3561875522136688, 0.8284734487533569, 0.8229780793190002, -0.1875387728214264, 0.9143902063369751, 0.20570777356624603, -1.2616829872131348, -0.17717409133911133, 0.7894698977470398, 0.10291354358196259, -0.057677265256643295, 0.46014919877052307, 0.9061887860298157, 0.07333029806613922, -0.28002703189849854, 0.03909609839320183, 0.2570788264274597, -0.6018000841140747, 0.026369014754891396, 0.22525575757026672, -0.1847730129957199, 0.4740469455718994, -0.004574093036353588, 0.2164851427078247, -0.3568478524684906, -0.4767826199531555, 0.30463746190071106, 0.7343606948852539, -0.21104645729064941, 0.1040012538433075, 0.9890836477279663], [-0.18200494349002838, -0.30692189931869507, 1.0218337774276733, -0.24868308007717133, -0.05979814752936363, -0.5607043504714966, 0.5054202675819397, 0.28037574887275696, -0.4795288145542145, -0.2690488398075104, -0.09836822003126144, -0.9953166842460632, -0.389425665140152, 0.7205849885940552, -0.20121295750141144, 0.07997174561023712, 0.1295735239982605, -0.262216717004776, 0.39684367179870605, -0.31331849098205566, -0.4596877098083496, 0.4242764115333557, -0.7723273038864136, 0.20254147052764893, 0.3782176673412323, 0.5668469071388245, 0.36439862847328186, -0.197976753115654, 0.11401505768299103, 0.2842046320438385, 0.3816455602645874, 0.3197175860404968, -0.24663397669792175, -0.5320433378219604, -0.08252497017383575, -0.5852296948432922, 0.0421820729970932, -0.5810796618461609, -0.35555925965309143, 0.13112539052963257, -0.10863780975341797, -0.4962960183620453, 0.5441387295722961, -0.0441051684319973, -0.6676661372184753, -0.22749179601669312, -0.5250807404518127, -0.39829155802726746, -0.11675811558961868, -0.5804581046104431, -0.4180927574634552, -0.29660671949386597, 0.07193315029144287, 0.1765555590391159, -0.009464584290981293, 0.16068585216999054, -0.07779306173324585, -0.6287710666656494, -0.6817736625671387, -0.012998387217521667, 0.9543126821517944, 0.11771977692842484, 0.328495055437088, 0.1073298454284668, 0.6479229927062988, 0.594603955745697, 0.25878772139549255, -0.0038272584788501263, -1.0041555166244507, -0.010489599779248238, -0.5897929668426514, -0.4883972704410553, -0.1698196977376938, -0.11320839077234268, -0.39401212334632874, -0.4064175486564636, 0.08714211732149124, -0.22947658598423004, 0.13443908095359802, -0.6680923104286194, -0.05531525984406471, 0.26922768354415894, -0.4492006301879883, 0.3988300561904907, -0.31593480706214905, -0.3452966511249542, -0.4436857998371124, 0.4451143443584442, -0.6767487525939941, -0.42279118299484253, 0.15496589243412018, -0.1295645385980606, 0.024674074724316597, -0.4674483835697174, 0.11970242112874985, -0.48874345421791077, 0.27511119842529297, -0.38418909907341003, 0.0688617005944252, -0.39135268330574036, 0.3371678292751312, -0.8928000330924988, 0.41226625442504883, 0.3417658507823944, 0.08933662623167038, -0.8951780796051025, -0.05176572874188423, 0.3044239282608032, -0.033720217645168304, -0.011383173055946827, 0.46987012028694153, 0.44586530327796936, 0.3585140109062195, 0.04054764658212662, -0.5450806617736816, 1.1427257061004639, -0.07706590741872787, 0.18805839121341705, 0.3165169954299927, 0.05149468779563904, 0.16356584429740906, 0.06733892112970352, -0.21189314126968384, 0.044144779443740845, 0.36195650696754456, 0.6497412323951721, -0.29057633876800537, 0.5560231804847717, -0.45804640650749207, -0.30918970704078674, -0.12165144830942154, 0.3945642113685608, 0.5646184682846069, -0.41624635457992554, 0.44697317481040955, -0.4675748348236084, -0.26984092593193054, -0.7808347940444946, -0.8694232106208801, 0.12425961345434189, -0.26100778579711914, -0.3939315974712372, 0.2566816508769989, -0.28454887866973877, 0.3395545780658722, -0.4039725661277771, -0.14882729947566986, -0.5157981514930725, 0.6606553196907043, 0.49384060502052307, 0.03383103758096695, 0.6585922837257385, -0.478870689868927, -0.8265916109085083, -0.30994388461112976, -0.35241997241973877, -0.524332582950592, 0.4349200129508972, -0.4011635184288025, 0.459222674369812, 0.5848574638366699, 0.5129517912864685, 0.32451900839805603, 0.11035823822021484, 0.5182127952575684, -0.1649705022573471, 0.45010384917259216, 0.7535923719406128, 0.022106992080807686, 0.14298871159553528, -0.3833343982696533, -0.40802812576293945, 0.8661193251609802, 0.26201626658439636, -0.23509323596954346, 0.13371974229812622, 0.31206589937210083, 0.036242298781871796, 0.3602387607097626, -0.03466811031103134, -0.2980581521987915, 0.09783419221639633, 0.24187128245830536, -0.20926707983016968, 0.009814763441681862, -0.2622053623199463, 0.05053776130080223, -0.08837524056434631, 0.13885602355003357, 0.8524084091186523, -0.1260577142238617, 0.008845380507409573, -0.41957899928092957, 0.011115537025034428, 0.15853798389434814, -0.32085177302360535, -0.22916141152381897, -0.0753813236951828, -0.02308964543044567, 0.01935235597193241, 0.15438224375247955, -0.14497807621955872, 0.3624500036239624, -0.36812490224838257, -0.3294313848018646, 0.48763900995254517, 0.6636395454406738, -0.046549241989851, -0.4511606693267822, 0.6088754534721375, -0.393242746591568, 1.2431528568267822, 0.6128041744232178, -0.38601118326187134, 0.15035805106163025, 0.5355338454246521, -0.07165028899908066, -0.02706785872578621, 0.013128463178873062, 0.46456849575042725, 0.9063581824302673, 0.0664106011390686, -0.7044222354888916, 0.1393996924161911, -0.14851845800876617, 0.711093008518219, 0.731907308101654, -0.2539750039577484, 1.053851842880249, -0.4496755599975586, -0.15142159163951874, -0.3280322849750519, 0.1913069486618042, 0.8980125188827515, 0.24454674124717712, 0.4292373061180115, 0.0082098338752985, -0.039895545691251755, 0.31523028016090393, 0.2992723882198334, -0.02426130510866642, 0.4974047839641571, -0.09670304507017136, 0.27760007977485657, 0.0413593128323555, -0.09940873086452484, -0.36096006631851196, 0.09044977277517319, -0.18355372548103333, -0.8132718801498413, -0.28822019696235657, -1.2292139530181885, -0.2553386986255646, -0.42345502972602844, -0.6185823082923889, -0.2908185124397278, -0.37533533573150635, -0.5383694767951965, 0.2428574562072754, 0.6298071146011353, -0.24250152707099915, -0.04744138568639755, -0.21511654555797577, -0.3320484161376953, -0.28669390082359314, 0.6035842895507812, -0.3311203718185425, 0.36736708879470825, 0.6552216410636902, -0.05411653593182564, -0.046521130949258804, -0.30065056681632996, 0.061664555221796036, 0.38054412603378296, -0.49341773986816406, 0.26048317551612854, -0.21021121740341187, -0.06390142440795898, -0.375440776348114, 0.9267910718917847, 0.6745324730873108, 0.4592531621456146, -0.8851959109306335, -0.19468262791633606, 0.5565637946128845, -0.49302738904953003, -0.030751865357160568, 0.8977333903312683, -0.39674633741378784, -0.2973347008228302, -0.2688753008842468, 0.5238053202629089, 0.06616909056901932, -1.0258384943008423, 0.3577432632446289, -0.016772964969277382, 0.5648936033248901, 0.3592985272407532, -0.1733725368976593, -0.17719903588294983, -0.2255430966615677, -0.28400835394859314, -0.36077791452407837, 0.2100263237953186, 0.11759974807500839, -0.0348169319331646, -0.35219624638557434, -0.6529124975204468, -5.451866626739502, 0.09208560734987259, 0.16403570771217346, -0.9785504341125488, 0.051172759383916855, 0.2069772183895111, -0.5571283102035522, -0.09283167123794556, -0.6214218735694885, 0.5495975017547607, -0.8450578451156616, -0.30553704500198364, 0.04501345008611679, 0.4743345379829407, 0.37615591287612915, -0.5137258172035217, -0.371686190366745, -0.09236926585435867, 0.07494749128818512, 0.9437242746353149, -0.31923341751098633, -0.14813470840454102, -0.08648967742919922, -0.6409458518028259, -0.07364460825920105, 0.883468508720398, -0.7318642735481262, 0.30722710490226746, -0.36297735571861267, 0.09260383248329163, -0.2828226685523987, -0.19854839146137238, 0.16749189794063568, -0.569892942905426, -0.02504654787480831, 0.40310797095298767, 0.34741833806037903, -0.7606083750724792, 0.021781692281365395, -0.17869511246681213, -0.19516105949878693, -0.18106809258460999, 0.6391419768333435, 0.9195533394813538, 0.5527291297912598, -0.16757363080978394, -0.3690148591995239, -0.03796039894223213, -0.14942045509815216, 0.29622703790664673, -0.5267640352249146, -0.21367678046226501, 0.0673513263463974, -0.33398860692977905, -0.09250196069478989, 0.19456973671913147, 0.6484372615814209, -0.04990578815340996, 0.7085930109024048, -0.28599777817726135, -0.5952274799346924, -0.6864592432975769, 0.21148282289505005, 0.9100244641304016, -0.060794226825237274, -0.22608855366706848, -0.15911853313446045, -0.9269202351570129, 0.505204439163208, -0.015249943360686302, -0.17993393540382385, 0.5529826879501343, 0.009351634420454502, -1.1990035772323608, 0.18358416855335236, -0.5669180154800415, -0.25743788480758667, -0.3441341817378998, 0.7583083510398865, -0.33674493432044983, -0.6705510020256042, -0.4610041379928589, 0.23470063507556915, -0.15752726793289185, 0.4587644338607788, 0.20648358762264252, 0.16889889538288116, 0.2608015835285187, 0.013127083890140057, -0.2219213843345642, 0.5009697675704956, 1.359775424003601, 0.48210981488227844, 0.5154382586479187, 0.0491708405315876, -0.04657679423689842, 0.5634505748748779, -0.14150546491146088, 0.8743606209754944, 0.13980785012245178, 0.42324239015579224, -0.7912740707397461, 0.2192329615354538, 0.018740704283118248, 0.3841800391674042, 0.020366815850138664, -1.1274430751800537, 0.43864357471466064, 0.49644628167152405, 0.5139303803443909, 0.6004090905189514, -0.30402761697769165, 0.23583385348320007, -0.39008158445358276, -0.31351542472839355, 0.2521626949310303, -0.39219605922698975, 0.3601757287979126, 0.5723766088485718, 0.21907934546470642, 0.4217894673347473, 0.39214348793029785, -0.258882075548172, -0.9294411540031433, -0.333554744720459, 0.24219270050525665, -0.6388052701950073, 0.2634287178516388, -0.41696521639823914, -0.22375181317329407, -0.39782577753067017, 0.39644113183021545, -0.07424596697092056, -0.2044469714164734, -0.0815982073545456, -0.5823013782501221, -0.6377595067024231, 0.7366927266120911, 0.6786006093025208, -0.055946458131074905, -0.022889718413352966, 0.0741645023226738, -0.04168203845620155, -0.6092686653137207, -0.3321635127067566, 0.27961426973342896, 0.21162651479244232, -0.3350580036640167, -0.08939597010612488, -0.11115511506795883, -0.40241557359695435, -0.404925674200058, 0.3767375946044922, 0.3378635346889496, -0.4159589409828186, -0.39938339591026306, 0.945747971534729, -0.23712359368801117, -0.35956430435180664, -0.33257734775543213, 0.29547467827796936, -0.11063358932733536, 0.8051924109458923, 0.1607738435268402, 0.45451831817626953, 0.25386184453964233, -0.09051863104104996, 0.2988162040710449, -0.3711630403995514, 0.045365650206804276, -0.6848063468933105, 0.1543971449136734, 0.0141372699290514, -0.06261426955461502, 0.07954175770282745, 0.5873417854309082, 0.06600730121135712, -0.4104158878326416, -0.24090804159641266, -0.3396555781364441, 0.3595955967903137, -0.10649676620960236, 0.34091997146606445, -0.13836929202079773, 0.0804552435874939, -0.2730092704296112, -0.23085437715053558, 0.1696983277797699, 0.10805327445268631, -0.10110079497098923, -0.06213055178523064, 0.2728961706161499, -0.42140576243400574, -0.008363980799913406, -0.5535864233970642, 0.13379822671413422, 0.4909994304180145, -0.10648855566978455, -0.12718452513217926, 0.20985785126686096, 0.2881665825843811, 0.2298678755760193, -0.2517816424369812, -0.4376390874385834, 0.39597904682159424, -0.17250660061836243, -0.19005288183689117, -0.021165553480386734, -0.33953341841697693, -0.3093245327472687, -0.04217507317662239, -0.39637401700019836, 0.2585145831108093, -0.4939503073692322, 0.11072154343128204, 0.19062495231628418, 0.009386907331645489, 0.2111034393310547, -0.49328842759132385, 0.11407694220542908, 0.4801206886768341, -0.5948845744132996, -0.33813366293907166, 0.10054608434438705, -0.3640630841255188, -0.020679447799921036, -0.639537513256073, -0.4194159507751465, 0.2490881234407425, -0.025650005787611008, 0.36551129817962646, -0.34332236647605896, -0.27341437339782715, 0.13677383959293365, -0.37871265411376953, -0.31022903323173523, -0.6699849963188171, -0.1469137966632843, -0.36658975481987, -0.188858300447464, -0.28945159912109375, 0.0824936106801033, -0.9143088459968567, -0.05254503712058067, 0.658176839351654, -1.0577294826507568, 0.3955029845237732, -0.04959852620959282, -0.2079252302646637, 0.22270621359348297, -0.6389999985694885, 0.2553510367870331, 0.36343124508857727, -0.6486347913742065, 0.41693687438964844, -0.11579392850399017, -0.17597900331020355, 0.7205043435096741, -0.4297977387905121, 0.39801454544067383, 0.2776026129722595, 0.21383243799209595, -0.26574277877807617, 0.6588917374610901, -0.2419264018535614, -0.0655498132109642, 0.6122410297393799, 0.1759849637746811, -0.19375641644001007, 0.547569215297699, -0.668742835521698, 0.46137046813964844, 0.11629252880811691, 0.40040597319602966, 0.2795427739620209, 0.0052559166215360165, -0.44488629698753357, -0.15223300457000732, -0.09643764048814774, 0.3296360671520233, -0.14478524029254913, 0.16155770421028137, -0.2649686932563782, -0.2836030423641205, 0.673479437828064, 0.08133281767368317, 0.04176560416817665, 0.11535149812698364, -0.030333124101161957, -0.17206710577011108, -0.6640857458114624, 0.4924142062664032, -0.07804546505212784, -0.259846955537796, -0.06202612817287445, 0.17612332105636597, 0.41459426283836365, 0.22908729314804077, -0.06410816311836243, -0.29543158411979675, -0.16270601749420166, 0.08681261539459229, 0.6194544434547424, 0.45317646861076355, -0.8315766453742981, 0.2925531268119812, 0.028341995552182198, -0.794989287853241, -0.02675999142229557, 0.4425399601459503, -0.3238021433353424, -0.5198917984962463, 0.6982936859130859, 0.33574944734573364, -0.26800617575645447, 0.20780189335346222, 0.7029499411582947, -0.372661828994751, -0.31464260816574097, 0.4182892441749573, 0.1648017317056656, -0.4301977753639221, 0.2478557825088501, 0.08960316330194473, -0.03955415263772011, 0.5603656768798828, -0.10237789154052734, -0.28851523995399475, -0.44280755519866943, 0.4094429910182953, 0.15913231670856476, 0.3577496409416199, -0.18372519314289093, 0.01596047356724739, -0.4019101858139038, -0.1092386245727539, -0.13286007940769196, -0.6896170377731323, 0.7281814217567444, 0.17198333144187927, -0.017008820548653603, 0.007528628688305616, 0.8495516180992126, 1.0165802240371704, 0.07204245030879974, -0.6540098190307617, 0.6235319972038269, 0.03546377271413803, -0.2665737271308899, 0.9923409223556519, -0.23425428569316864, 0.15454065799713135, 0.04412088170647621, -0.2564353048801422, 0.14491723477840424, -0.0516483336687088, 0.31399446725845337, 0.515613317489624, 0.5996824502944946, 0.052716899663209915, 0.04740699753165245, 0.2724573314189911, 0.8180902600288391, -0.16380904614925385, 0.06922656297683716, 0.027641024440526962, 0.19807778298854828, -0.34895989298820496, -0.4931587874889374, -0.17995305359363556, 0.038049206137657166, 0.13369962573051453, 0.6487388014793396, 0.8700585961341858, 0.2057676613330841, 0.36705878376960754, 0.048987194895744324, 0.41291680932044983, -0.03411756455898285, -0.06734570860862732, 0.06025400012731552, 0.675207257270813, -0.1879112273454666, -0.3177657127380371, -0.27546751499176025, -0.2956027388572693, 0.23186095058918, -0.22849193215370178, -0.3825737237930298, -0.5426957607269287, 0.007253549061715603, -0.015269498340785503, -0.09596572816371918, -0.36448734998703003, 0.4735974967479706, -0.2884370684623718, 0.3842652440071106, 0.4684668481349945, 1.0952420234680176, -0.27707594633102417, 0.4683321416378021, -0.2640358507633209, 0.15549375116825104, -0.04184763878583908, -0.026887401938438416, -0.08372237533330917, -0.1696654111146927, 0.5599243640899658, -0.9117534160614014, -0.11333818733692169, 0.5227152705192566, 0.33025383949279785, -0.212532639503479, 0.5677648782730103, -0.5976449251174927, 0.17308451235294342, 0.3998420238494873, 0.19584335386753082, -0.23995915055274963, 0.3586033284664154, -0.7778360247612, -0.30796802043914795, -0.30914634466171265, 0.8210625052452087, -0.5303040742874146, -0.05937688425183296, 0.0600505955517292, 0.31641098856925964, -0.3049631118774414, 0.13291890919208527, 0.026835236698389053, 0.35902702808380127, -0.3959979712963104, 0.42596736550331116, 0.32827648520469666, -1.1624490022659302, -0.164210245013237, -0.13538441061973572, -0.14068889617919922, -0.22032380104064941, -0.005031634587794542, 0.4634913504123688, 0.0703306570649147, -0.2563363313674927, -0.48805898427963257, 0.24886181950569153, -0.11779148131608963, -0.12038061767816544, 0.012726343236863613, -0.03993849456310272, 0.005230607930570841, 0.2624571621417999, 0.48265984654426575, -0.6011971831321716, -0.39181283116340637, 0.24612580239772797, 0.2589723765850067, -0.15903636813163757, 0.08407524973154068, 1.3961607217788696], [0.0533815398812294, -0.49042269587516785, -0.024362994357943535, -0.1214456707239151, 0.46462899446487427, 0.3020889461040497, -0.0030465053860098124, 0.16559886932373047, -0.23673000931739807, -0.3566005527973175, -0.26178181171417236, 0.21170787513256073, 0.21347056329250336, -0.23244337737560272, -0.4243015646934509, -0.5334598422050476, 0.006204863544553518, 0.10216914862394333, 0.632756233215332, 0.345203161239624, 0.1712668389081955, 0.4616175591945648, 0.04607538506388664, -0.47666072845458984, -0.01007324643433094, 0.43511733412742615, -0.3127017617225647, -0.43209803104400635, -0.20285727083683014, 0.45064985752105713, -0.0828438401222229, 0.07629096508026123, 0.5454968810081482, 0.7046818137168884, -1.0376291275024414, -0.4397513270378113, 0.5186222791671753, 0.35474279522895813, -0.7310337424278259, -0.2185795158147812, 0.17931079864501953, -0.36380520462989807, 0.2179296314716339, -0.3030568063259125, -0.43869486451148987, 0.27931100130081177, -0.09267827123403549, -0.4498812258243561, -0.282034307718277, -0.3927548825740814, -0.754920482635498, 0.7610058784484863, -0.27721425890922546, 0.43106788396835327, -0.21312662959098816, -0.3334372341632843, 0.05918261781334877, -0.15371276438236237, -0.26916220784187317, -0.3358290493488312, 0.5652291774749756, 0.15082503855228424, -0.0018541977042332292, 0.16397607326507568, 0.7274552583694458, 0.18525272607803345, 0.6922460198402405, 0.17974726855754852, -0.49387267231941223, 0.21840055286884308, -0.7152931094169617, 0.5439988374710083, 0.06939124315977097, -0.3859504163265228, -0.1439315229654312, -0.0921085998415947, 0.015483475290238857, 0.045901667326688766, 0.26159122586250305, -0.2819274365901947, -0.3088681101799011, 0.6436680555343628, -0.1526806652545929, -0.13562776148319244, 0.04464831203222275, -0.5539698004722595, 0.2037232518196106, -0.3823506236076355, -0.12859265506267548, 0.6371330618858337, 0.3095034658908844, -0.17650048434734344, -0.19476793706417084, -0.131558358669281, 0.23989956080913544, -0.293410062789917, -0.2687201499938965, -0.09183437377214432, 0.5488920211791992, -0.8783681392669678, -0.753054678440094, -1.0551207065582275, -0.2740647494792938, 0.3862035870552063, -0.24104538559913635, -0.36409661173820496, -0.0563531294465065, 0.11671464890241623, -0.43533042073249817, -0.04287433251738548, 0.05164428427815437, 0.3467020094394684, 0.2905861437320709, -0.15172456204891205, -0.13929110765457153, 0.8913763761520386, -0.06383062154054642, 0.060475125908851624, 0.8628503084182739, 0.307765394449234, -0.2882164716720581, 0.2866649925708771, -0.14586614072322845, 0.8433217406272888, 0.2770312428474426, 0.5862806439399719, -0.1814892739057541, -0.08210240304470062, -0.6245190501213074, -0.19602559506893158, 0.008400303311645985, 0.8702362775802612, 0.5315555930137634, 0.2915699779987335, -0.28486907482147217, -0.7346721291542053, -0.42179474234580994, -0.3609081506729126, -0.3548879623413086, -0.628761887550354, 0.3121132254600525, 0.21581894159317017, -0.056776225566864014, 0.34254345297813416, 0.2778417468070984, -0.2796940803527832, -0.5914218425750732, -0.6657019853591919, -0.18447406589984894, 0.27790114283561707, -0.11937837302684784, 1.3647547960281372, -0.482860267162323, -0.6442593932151794, -0.39288094639778137, 0.17018987238407135, -0.6764984130859375, 0.056550972163677216, -0.3312438130378723, 0.560924232006073, 0.9901443123817444, 0.4001534879207611, 0.12193764001131058, 0.5056434273719788, 0.4101569652557373, 0.17624740302562714, 0.38495776057243347, 0.844718337059021, 0.2744870185852051, -0.19459789991378784, -0.2782987058162689, -0.16524791717529297, 0.612138569355011, 0.28152623772621155, -0.5964559316635132, 0.3105485439300537, 0.4470219612121582, -0.01655026152729988, 0.12524768710136414, -0.02120465412735939, -0.46366754174232483, 0.11394959688186646, -0.42004552483558655, -0.2328328937292099, 0.0975765660405159, 0.03641819581389427, 0.45874759554862976, -0.8734610080718994, 0.2771011292934418, -0.6190104484558105, -0.42054009437561035, -0.8099387884140015, -0.3621559143066406, -0.40040814876556396, -0.16502605378627777, -0.2933795750141144, -0.5562337636947632, -0.0513027161359787, 0.15469127893447876, -0.1194220557808876, 0.5539857149124146, -0.18349191546440125, -0.09388367086648941, 0.4776688516139984, 0.16049709916114807, 0.5074985027313232, 0.5120072364807129, -0.1629529446363449, -0.16674821078777313, 0.18317072093486786, -0.7110060453414917, 1.1448231935501099, 0.27016445994377136, 0.12102469056844711, 0.3637169897556305, -0.10244384407997131, -0.005196475423872471, -0.01861651800572872, 0.10324572026729584, 0.39250144362449646, 0.5496869683265686, -0.42961791157722473, -0.3302340805530548, -0.11945288628339767, -0.7351996898651123, 0.433868408203125, 0.4342212677001953, -0.6499938368797302, 0.8451653122901917, -0.5755202770233154, 0.1786043345928192, -0.730272650718689, 0.2832005023956299, -0.1603756695985794, 0.2648715376853943, 0.5938023328781128, 0.5361915826797485, 0.06593143939971924, -0.41098514199256897, 0.13205575942993164, -0.3957064747810364, 0.21042336523532867, 0.27064594626426697, 0.4228229820728302, -0.3780943751335144, 0.2162943184375763, 0.7050718069076538, -0.5134649276733398, 0.27850040793418884, -0.3387938439846039, -0.31038573384284973, -1.2741749286651611, -0.28083622455596924, 0.1882777065038681, -1.1399173736572266, -0.4308662414550781, -0.49855759739875793, -0.6875491142272949, 0.7777755856513977, 0.5323991775512695, -0.8593418002128601, 0.37153950333595276, 0.7070840001106262, 0.030813250690698624, 0.24557742476463318, 0.16652032732963562, 0.32673877477645874, 0.5122509002685547, 0.7094615697860718, 0.14527778327465057, 0.09997691959142685, -0.19119063019752502, 0.2095772624015808, -0.3038078248500824, -0.2996068596839905, 0.6793875694274902, 0.24678337574005127, 0.37294864654541016, 0.10962998121976852, 0.7469183802604675, -0.04003014788031578, 0.21915163099765778, -0.5911537408828735, 0.10563372820615768, 1.4045937061309814, -0.5743486881256104, -0.12871579825878143, -0.4413445293903351, -0.030235350131988525, -0.31849631667137146, -0.334475576877594, 0.8954048156738281, 0.24542036652565002, 0.13073886930942535, 0.8647729158401489, 0.08552999794483185, -0.11948896944522858, 0.038407102227211, -0.23998184502124786, -0.2515101134777069, -0.5667857527732849, 0.196348175406456, 0.49891868233680725, -0.09649308025836945, 0.6315978169441223, -0.09529431164264679, -0.20629610121250153, 0.11611180007457733, -5.367954254150391, -0.19941267371177673, 0.294938862323761, -0.31479209661483765, 0.09913644939661026, -0.37181705236434937, -0.41584688425064087, -0.03596096858382225, -0.9227557182312012, 0.646401584148407, 0.08799003809690475, -0.18840248882770538, -0.09019473940134048, 0.2000977247953415, 0.5275661945343018, -0.27169275283813477, -0.24889115989208221, -0.2424595057964325, -0.30734363198280334, 0.7896572351455688, -0.5035232305526733, -0.027886969968676567, 0.42586562037467957, -0.412015438079834, -0.3816147744655609, 0.6957557797431946, 0.06470559537410736, 0.8803520202636719, -0.6545783877372742, -0.24436260759830475, -0.37249189615249634, -0.4460386633872986, 0.522527277469635, 0.46605947613716125, 0.24745985865592957, -0.04513050243258476, 0.10679858922958374, -0.5051869750022888, 0.8360111117362976, -0.1263388842344284, 0.32164180278778076, -0.34474220871925354, 0.29070553183555603, 0.7984844446182251, -0.26022791862487793, -0.03048109821975231, 0.16605769097805023, -0.08867177367210388, -0.013817152008414268, -0.1689997762441635, 0.03607110679149628, -0.02160552516579628, -0.03129153326153755, -0.5180058479309082, -0.41215911507606506, -0.08007870614528656, 0.22358229756355286, 0.2911219000816345, 0.23030570149421692, -0.3245164752006531, -0.22315116226673126, -0.6707752346992493, -0.12350642681121826, 0.5612655282020569, -0.6904747486114502, 0.02092931792140007, -0.6127448678016663, -0.5758722424507141, 0.3987624943256378, 0.31780168414115906, 0.017609426751732826, -0.4434411823749542, 0.48563089966773987, -1.5010004043579102, -0.4934642016887665, 0.5219206809997559, -0.2455647885799408, -0.21059772372245789, 0.1872929036617279, -0.4835622012615204, -0.045829445123672485, -0.46172037720680237, 0.22559267282485962, 0.32286491990089417, 0.6135148406028748, 0.3077296018600464, 0.43310919404029846, -0.9178521633148193, 0.07018215209245682, 0.029941579326987267, -0.1140240877866745, 0.36311379075050354, 1.0435148477554321, -0.04547307267785072, 0.7927693128585815, 0.21500876545906067, 0.2671346664428711, -0.18175950646400452, 0.19876594841480255, -0.2728937268257141, -0.3544209599494934, -1.065783143043518, -0.15875636041164398, -0.09216321259737015, 0.06621205061674118, -0.2777005732059479, -1.5722309350967407, 0.4150354862213135, 0.16241329908370972, 0.10167983174324036, 0.49765780568122864, 0.388879656791687, 0.06154672056436539, 0.42498543858528137, -0.3983132839202881, 0.051914945244789124, -0.529766857624054, 0.0657225102186203, 0.4518505036830902, 0.21187902987003326, -0.16373810172080994, 0.41519004106521606, -0.45324692130088806, -0.04371166601777077, 0.001405674614943564, 0.010647714138031006, -0.5408396124839783, -0.25424349308013916, -0.11403406411409378, -0.14545965194702148, -0.0022660382091999054, 0.5983443856239319, 0.021292245015501976, -0.36431169509887695, 0.18304261565208435, -0.24656808376312256, -0.34991005063056946, 1.019195556640625, 0.20640671253204346, 0.3570902943611145, 0.8594382405281067, -0.12146243453025818, 0.10157912969589233, -0.09722001105546951, 0.2741711735725403, -0.010444384068250656, 0.16548331081867218, -0.10642901808023453, -0.11023516952991486, 0.22469909489154816, 0.7217544317245483, -0.45153307914733887, 0.43667328357696533, 0.7272157669067383, 0.10141861438751221, 0.3491276800632477, 0.6862307786941528, -0.8291593194007874, 0.1353694200515747, -0.6019173860549927, 0.436779648065567, -0.2741912007331848, 0.15917432308197021, -0.18443907797336578, 0.4538823962211609, 0.575738251209259, -0.2548411786556244, 0.5402420163154602, -0.4986247420310974, -0.17585943639278412, 0.13095222413539886, -0.8023049831390381, 0.2115078717470169, 0.975820779800415, 0.046824268996715546, -0.2877626121044159, 0.011668846011161804, -0.3879728615283966, -0.11137654632329941, 0.45724067091941833, 0.3088984489440918, 0.06550236791372299, 0.033846981823444366, -0.18523579835891724, 0.30761075019836426, 0.20986661314964294, -0.3601275384426117, -0.007449313532561064, 0.18434767425060272, 0.4726612865924835, 0.2648543119430542, -0.11740211397409439, 0.20982469618320465, -0.013753054663538933, 0.09242751449346542, -0.06945978850126266, 0.33166593313217163, 0.38511332869529724, 0.2675834000110626, 0.3412818908691406, 0.19874989986419678, -0.4777485728263855, -0.03245693817734718, -0.43392521142959595, 0.22278624773025513, 0.16191811859607697, -0.12057880312204361, 0.5179557800292969, -0.7755391597747803, -0.21632222831249237, 0.3308040201663971, -0.40989771485328674, -0.9883002638816833, -0.87481290102005, 0.13978171348571777, 0.4815249443054199, 0.0775497704744339, 0.026954125612974167, -0.015941264107823372, -0.45836329460144043, -0.011859893798828125, -0.6797900795936584, 0.44051387906074524, -0.13483712077140808, 0.21892087161540985, -0.5183820128440857, 0.10181320458650589, -0.8900692462921143, 0.009424823336303234, 0.12053453177213669, 0.2753579914569855, 0.41082093119621277, -0.46097758412361145, 0.0117286192253232, -0.18091610074043274, -0.5904080271720886, -1.0616378784179688, 0.10567322373390198, -0.45073267817497253, -0.6910310983657837, 0.19076840579509735, -0.42685526609420776, -0.9465018510818481, 0.10227957367897034, -0.023517930880188942, 0.1122029647231102, 0.08349847793579102, 0.2534056305885315, 0.8008444309234619, 1.0114504098892212, -0.3948571979999542, 0.24684545397758484, 0.03633519634604454, -0.23533692955970764, 0.31405606865882874, -0.5278005599975586, 0.3347044289112091, -0.37292736768722534, -0.11842761188745499, 0.6963858604431152, -0.0428774394094944, 0.2749546468257904, -0.5323867201805115, 0.3424576222896576, -0.43972864747047424, 0.25237029790878296, -0.18177951872348785, 0.018171606585383415, 0.37107980251312256, 0.7848277688026428, -0.9360483884811401, -0.11179909855127335, -0.09010467678308487, 0.5261185169219971, -0.6208458542823792, -0.12976419925689697, 0.19148355722427368, -0.5265651345252991, -0.1093420684337616, 0.5642309784889221, -0.0971498191356659, 0.453915536403656, 0.45847558975219727, 0.2579217255115509, 0.056947216391563416, 0.19572772085666656, -0.6753414869308472, -0.4064769744873047, -0.10383347421884537, -0.6915409564971924, 0.2102818787097931, 0.06763898581266403, 0.10804621130228043, 0.18670396506786346, 0.12566113471984863, 0.6720216870307922, -0.37303411960601807, 0.5850493311882019, -0.14420869946479797, -0.45281171798706055, -0.27744755148887634, 0.3878589868545532, 0.36220553517341614, -0.09781002253293991, -0.5110830664634705, 0.4388727843761444, 0.1136535108089447, -0.45298728346824646, -0.24832570552825928, -0.02799522690474987, 0.2627866864204407, -0.15148097276687622, -0.04630130156874657, 0.28911763429641724, -0.935736894607544, -0.2262558788061142, 0.5135945677757263, -0.7081121802330017, -0.2597671151161194, 0.6506885886192322, -0.03066539578139782, -0.18834885954856873, 0.6783614158630371, -0.326619029045105, -0.18475587666034698, 0.38826093077659607, -0.4103105068206787, 0.012917716056108475, -0.03040897846221924, 0.551802396774292, 0.41867443919181824, 0.4997822940349579, 0.21540100872516632, 0.507674515247345, 0.09109590202569962, -0.20584799349308014, 0.5306158661842346, -0.2579268217086792, -0.22723740339279175, -0.24596796929836273, -0.10203418135643005, -0.11457042396068573, 0.25876113772392273, 0.23265771567821503, -0.3522687554359436, -0.37791410088539124, -0.13933442533016205, 0.10464559495449066, -0.46888843178749084, 1.3032773733139038, -0.48403313755989075, 0.07161254435777664, -0.8544103503227234, 0.01447559054940939, -0.019433695822954178, -0.2148963212966919, 0.2691122591495514, 0.04434482753276825, -0.913852334022522, 0.21625912189483643, 0.5675656199455261, 0.16271987557411194, 0.4896857440471649, -0.3378528654575348, -0.1329103261232376, 0.32898664474487305, 0.24660027027130127, -0.386438250541687, -0.17537014186382294, -0.5632825493812561, -0.394086092710495, 0.46772947907447815, 0.4529719948768616, 1.0340901613235474, 0.0943354070186615, 0.25598591566085815, 0.4915102422237396, 0.18164123594760895, -0.6250645518302917, -0.6022414565086365, 0.48003530502319336, 0.16485542058944702, -0.3415355682373047, -0.07332651317119598, 0.8222178220748901, -0.3725738227367401, 0.6347364783287048, 0.39804360270500183, -0.3985232412815094, -0.3798840343952179, -0.19409506022930145, -0.14118272066116333, 0.023492883890867233, -0.42564600706100464, 0.6335726976394653, -0.05464395508170128, -0.4754117429256439, -0.1458503156900406, 0.3805066645145416, 0.09459388256072998, 0.0405845083296299, -0.592071533203125, 0.10554436594247818, -0.4115293323993683, -0.6492360234260559, -0.0635465681552887, -0.12191196531057358, 0.4469338357448578, -0.8463777899742126, -0.3821978271007538, 0.6806396245956421, 0.23397229611873627, -0.16233333945274353, 0.4416750967502594, -0.47301676869392395, -0.08107106387615204, 0.18352816998958588, 0.04873599484562874, 0.6402419805526733, -0.6445695757865906, -0.8343870639801025, -0.10779955983161926, -0.5900360941886902, 0.21916300058364868, 0.23442983627319336, -0.6717289090156555, -0.18763045966625214, -0.13711822032928467, -0.11813605576753616, 0.4915272891521454, 0.1934095323085785, 0.3465571999549866, 0.07601001858711243, 0.892996072769165, 0.11524713784456253, -0.7188144326210022, 0.2879742383956909, -0.6424543857574463, 0.3410724699497223, -0.04345564916729927, -0.5053555965423584, 0.21615946292877197, 0.2214331477880478, -0.1772056519985199, -0.24984078109264374, 0.21386152505874634, -0.368613064289093, -0.3838454484939575, 0.13938286900520325, 0.14887744188308716, 0.7482607960700989, -0.3077535033226013, 0.2543971538543701, -0.47435423731803894, -0.6219756603240967, -0.069618359208107, 0.1874096542596817, 0.15027420222759247, 0.14778107404708862, -0.262326180934906], [0.7536435723304749, 0.14984115958213806, -0.29967984557151794, 0.3483193814754486, -0.3873266875743866, -0.7337233424186707, 0.5083439350128174, -0.7374358177185059, 0.7965475916862488, 0.13358265161514282, 0.3447161912918091, -0.2309008240699768, 0.21265152096748352, -0.2641448378562927, -0.645766019821167, -0.3172886073589325, 0.12332890182733536, -0.14002452790737152, 0.026852985844016075, -0.07839758694171906, 0.5686989426612854, -0.04061271250247955, 0.6627967357635498, 0.35100018978118896, 0.14498305320739746, 0.2896444499492645, -0.28311359882354736, -0.23143084347248077, -0.5996971726417542, -0.7416508793830872, -0.6136083602905273, -0.5036005973815918, 0.03396133705973625, 0.4504821002483368, 0.2549017667770386, -0.18559905886650085, 0.2366795688867569, -0.2782113552093506, -0.032462816685438156, -0.4154811501502991, -0.5203273892402649, 0.18582619726657867, -0.2819135785102844, 0.3210848569869995, 0.17410196363925934, -0.551203191280365, 0.4318642318248749, 0.2651209533214569, -0.11685021966695786, 0.5560985803604126, -0.22196178138256073, 0.386942982673645, 0.03610336035490036, 0.3450838029384613, 0.4039437472820282, 0.32972943782806396, 0.5743979811668396, -0.42679035663604736, 0.019844746217131615, 0.2633664011955261, 0.05264727771282196, 0.5254766345024109, -0.2517268657684326, -0.11574293673038483, 0.5404651165008545, 0.04049210995435715, 0.029740190133452415, -0.5856022238731384, -0.7512458562850952, -0.28886452317237854, -0.34917986392974854, -0.9332757592201233, 0.5459733009338379, -0.1358504295349121, 0.23786506056785583, 0.24169106781482697, -0.5846289396286011, 0.8014969229698181, 0.2572883665561676, 0.2957576811313629, -0.06209258362650871, 0.12688428163528442, -0.10632894933223724, 0.08977535367012024, 0.5647973418235779, 0.005798954050987959, -0.07300132513046265, 0.13650789856910706, -0.2615676820278168, -0.04057428613305092, 0.3918696343898773, 0.20612089335918427, 0.42041826248168945, -0.19663745164871216, -0.05856849625706673, 0.3243427872657776, -0.16510441899299622, 0.12707173824310303, -0.04484952986240387, -0.1902836561203003, 0.1825002282857895, -0.0732429027557373, 0.27947843074798584, 0.8258331418037415, -0.02142007276415825, 0.05038079246878624, 0.17614364624023438, 0.5212850570678711, 0.4796124994754791, 0.9128792881965637, 0.9923897385597229, 0.20695142447948456, 0.17072570323944092, -0.14164559543132782, -0.27737629413604736, -0.4915643036365509, 0.5039112567901611, 0.04555650055408478, 0.4617013931274414, 0.31770506501197815, -0.5631099343299866, -0.9143457412719727, 0.26361873745918274, 1.4469997882843018, -0.03319665044546127, 0.03483600541949272, -0.03819609060883522, -0.8699144721031189, -0.23768143355846405, -0.5679187178611755, -0.4995482563972473, 0.6435635685920715, 0.40366628766059875, 0.8560283780097961, 0.0031498405151069164, 0.18729905784130096, -0.12312915176153183, 0.34857770800590515, -0.8139331340789795, 0.256859689950943, -0.23992012441158295, 0.9338939189910889, 0.6365984678268433, -1.219814419746399, 0.08273980021476746, 0.4516635537147522, 0.7741497159004211, -0.22868531942367554, 0.43093979358673096, -0.16605107486248016, 0.9040922522544861, -0.28543156385421753, -0.3754696249961853, 0.0003850864595733583, -0.6025113463401794, -0.18006667494773865, -0.12839114665985107, -0.014796246774494648, 0.874272882938385, 0.7017635107040405, 0.40173882246017456, 0.29359889030456543, 0.4290466606616974, 0.1402565985918045, -0.42612379789352417, 0.2885069251060486, -0.8850723505020142, -0.0804668590426445, 0.30269449949264526, 0.6052606105804443, -0.44176116585731506, -0.4300486147403717, -0.1876770555973053, 0.17780019342899323, -0.3044801652431488, 0.4098128080368042, 0.16938228905200958, -0.08273062109947205, -0.31883442401885986, -0.9146273732185364, -8.246910095214844, -0.3343995213508606, -0.21866962313652039, 0.08775220066308975, 0.030755454674363136, -0.2960429787635803, -0.5124754309654236, 0.10676366090774536, 0.1869291514158249, -1.2525609731674194, 0.19184216856956482, -0.17729546129703522, -0.6350859999656677, 0.35525304079055786, 0.368787944316864, -0.11129220575094223, -0.037962909787893295, 0.22859503328800201, -0.47138136625289917, 0.07794726639986038, 0.06553538143634796, -0.3229137361049652, -0.047604355961084366, 0.575762927532196, -0.2992990016937256, -1.435307502746582, 0.3030723035335541, -0.32328540086746216, 0.11585777252912521, 0.2007613331079483, -1.1952265501022339, -0.13418489694595337, 0.2932550609111786, -0.5628176927566528, 0.4807111322879791, -0.3711335062980652, 0.09257332235574722, -0.45110273361206055, -0.8161921501159668, -0.6054399013519287, -0.8085542917251587, -0.16076086461544037, -0.2194194197654724, -0.1630028337240219, 0.7084901928901672, -1.6977300643920898, 0.6103951334953308, 0.6473283767700195, 0.8262816071510315, 0.05715373903512955, -0.24930620193481445, 0.18903295695781708, 0.7148318886756897, 0.25212711095809937, 0.38413724303245544, -0.05461173504590988, 0.07894288748502731, 0.07071025669574738, -0.4068509638309479, -0.529184103012085, 0.018721994012594223, 0.39788269996643066, 0.33843719959259033, -0.018499629572033882, -0.5942245721817017, -0.7393872141838074, -0.10500867664813995, 0.8618794083595276, 0.9611037373542786, -0.27976179122924805, -0.26115843653678894, -0.5460433959960938, 0.020795732736587524, -0.5444070100784302, 0.5466853380203247, 0.6825999617576599, -0.06640847027301788, 0.12173638492822647, 1.1947932243347168, -0.3183271884918213, 0.624774694442749, 0.732470691204071, 0.28189653158187866, 0.1382799744606018, -0.44311776757240295, 0.9887487888336182, 0.31220492720603943, 0.2972141206264496, -0.16491447389125824, 0.33415156602859497, 0.26827043294906616, -0.10308340936899185, -0.3291868269443512, 0.6660574078559875, -0.0277378149330616, -0.8742681741714478, 0.3271957039833069, -0.03389168903231621, 0.4009250998497009, -0.025161536410450935, -0.2631564736366272, 0.2305585891008377, -0.014399219304323196, 0.8165955543518066, 0.3605407774448395, -0.4210839569568634, -0.7241292595863342, 0.08930601924657822, 0.4113321900367737, -0.7666152715682983, -0.061753422021865845, -0.2901310324668884, 0.11230359971523285, 0.43766969442367554, 0.07547332346439362, 0.10951145738363266, 0.5635051727294922, 0.10626739263534546, -0.6067342758178711, -0.17218372225761414, 0.444222629070282, -0.6777664422988892, -0.10509581118822098, -0.06866573542356491, -0.6118472814559937, -0.1256614774465561, 0.26793599128723145, 0.18411892652511597, 0.575644314289093, -0.07679292559623718, 0.23992937803268433, -0.912007749080658, 0.10704783350229263, -0.0024795630015432835, 0.056750718504190445, -0.26369085907936096, -0.3532719314098358, -0.13114817440509796, 0.13267742097377777, -0.7760207056999207, 0.22480207681655884, 0.43433666229248047, -0.24401496350765228, 0.613180935382843, -0.03633788973093033, -0.4399682283401489, -0.6443431377410889, -0.5002763867378235, -0.10989487916231155, 0.13939285278320312, 0.24772998690605164, -0.12301269918680191, 0.7812787294387817, -0.034678976982831955, -0.7474095821380615, -0.18484681844711304, 0.05978887155652046, 0.12943322956562042, -0.3632979094982147, -0.7340203523635864, -0.37601834535598755, -0.31904157996177673, 0.17330075800418854, 0.32375672459602356, -0.22604799270629883, 0.3112371563911438, 0.4321286082267761, -0.48739093542099, -0.16773538291454315, 0.461659699678421, 0.12298591434955597, -0.9872833490371704, -0.5632878541946411, -0.30302733182907104, -0.6219080686569214, -0.37537842988967896, 0.11727271229028702, 0.13022243976593018, 0.24981844425201416, -0.12968942523002625, -0.5535540580749512, 0.3216538429260254, -0.6408719420433044, -0.35012075304985046, 0.19999030232429504, 0.21360719203948975, -0.2020745575428009, -0.3715225160121918, 0.33638861775398254, -0.5213492512702942, 0.4028564691543579, 0.34136757254600525, -0.3689558506011963, 0.3103627562522888, 0.2814004421234131, 0.4585080146789551, -0.2641829252243042, 0.018259866163134575, -0.09419284015893936, -0.3881322741508484, -0.8046820759773254, -0.9011167287826538, -0.4541362226009369, 0.18096154928207397, -0.6918389797210693, 0.32811877131462097, 0.6354560256004333, -0.05214458703994751, 0.3777696192264557, -0.06348460912704468, 0.06131467595696449, 0.292805552482605, -0.03155903518199921, -0.004163230769336224, 0.2456354945898056, -0.07794363051652908, 0.38994982838630676, -0.6988127827644348, 0.07765834778547287, 0.27554580569267273, 0.014081098139286041, -0.15912336111068726, 0.002486926969140768, 0.4846675992012024, 0.3814128339290619, -0.003931225277483463, 0.356481671333313, 0.1790495365858078, -0.29234856367111206, -0.14368917047977448, 0.8536991477012634, -0.24747243523597717, -0.2113005816936493, 0.3853752315044403, -0.761396586894989, -0.5233598351478577, -0.6115186810493469, -0.3704102635383606, 0.13372348248958588, -0.4608124792575836, 0.4830740988254547, 0.041845932602882385, -0.20101572573184967, -0.5064564943313599, -0.28895479440689087, 0.8056524991989136, -0.02054360695183277, 0.4563053548336029, 0.6865494847297668, 0.3779368996620178, 0.5566327571868896, 0.21021640300750732, -0.14874736964702606, -0.17160752415657043, 0.3645530045032501, -0.387125700712204, 0.14033442735671997, -0.274514377117157, 0.2534300982952118, 0.12842115759849548, -0.10619516670703888, -0.6662694811820984, -0.5266534090042114, 0.6260969638824463, 0.8774851560592651, 1.0287230014801025, 0.361898273229599, 0.5036680698394775, 0.1677764356136322, 0.24268880486488342, -0.7319471836090088, -0.2771991789340973, 0.0952686071395874, 0.6474323272705078, -0.40082240104675293, 0.49308356642723083, 0.8063820600509644, 0.11886319518089294, 0.3196001350879669, 0.12410929799079895, 0.4536078870296478, -0.8985262513160706, -0.0030672543216496706, -0.5471157431602478, 0.30117547512054443, 0.17389023303985596, -1.0946714878082275, 0.1784534901380539, -0.4477788209915161, 0.034131597727537155, 0.7331235408782959, 0.03279022499918938, -0.6644697189331055, -0.9379333853721619, 0.4169120788574219, -0.7421306371688843, -0.5040835738182068, 0.5482713580131531, 0.31441938877105713, -0.2074892669916153, 0.7266332507133484, -0.19763816893100739, -0.3868189752101898, 0.7442959547042847, 0.0876297876238823, -0.3753192722797394, 0.1025279313325882, -0.022666778415441513, 0.15542477369308472, -1.0794554948806763, -0.020412279292941093, -0.2517476975917816, 0.3785097599029541, -0.10025738179683685, -0.285434365272522, -0.6549948453903198, 0.3180190920829773, -0.11135735362768173, 0.5882866978645325, -0.6981847286224365, -0.8365916013717651, 0.14456288516521454, -0.28128331899642944, 0.7569432258605957, 0.5430183410644531, -0.6009217500686646, 0.5483596324920654, 0.21057219803333282, 0.6536813378334045, 0.2837769687175751, -0.7386631369590759, 0.10572294145822525, -0.49522849917411804, -0.13865353167057037, -0.07078821957111359, 0.03207636624574661, -0.7084340453147888, -0.46394839882850647, -0.05620908364653587, -0.41777724027633667, -0.45433613657951355, -0.2645789384841919, 0.6826016902923584, 0.2441612184047699, 0.3661896884441376, -0.11816500127315521, 1.019263744354248, -0.4301401674747467, -0.6278900504112244, -0.4366414248943329, -0.025751307606697083, 0.3152799904346466, 0.12966682016849518, -0.9124656915664673, -0.7417129874229431, 0.14390558004379272, -0.4713072180747986, 0.24119864404201508, 0.19406959414482117, 0.494568794965744, -0.5846049189567566, 0.014451360329985619, 0.8076382875442505, 0.21943876147270203, -0.2313256859779358, -0.060382578521966934, 0.09366483986377716, -0.1442297101020813, -0.35644757747650146, -0.026786433532834053, -0.33481571078300476, -0.36123597621917725, 0.21872425079345703, -0.1451277881860733, 0.19112133979797363, 1.4057652950286865, -0.04912492260336876, -0.8957048654556274, -0.1807360053062439, -0.17386461794376373, 0.2943795919418335, 0.05219431594014168, -0.4456336796283722, -0.3481524586677551, -0.2670745253562927, 0.0766434371471405, -0.11346804350614548, -0.6221232414245605, 0.16944819688796997, -0.006303512956947088, 0.9022149443626404, -0.48926305770874023, 0.4241121709346771, 0.1496269553899765, 0.11065763980150223, 0.03708392754197121, -0.024386487901210785, 0.2975313365459442, 0.022991765290498734, 0.40640029311180115, -0.13220925629138947, 0.25584879517555237, -0.833856463432312, 0.2558930516242981, 0.44813045859336853, -0.4725867807865143, -0.3192017376422882, -0.07751768827438354, -0.06023310869932175, 0.5884442329406738, -0.3912588655948639, -0.30170080065727234, -0.1413262039422989, -0.14703455567359924, 0.31032779812812805, 0.4160562753677368, -0.11585435271263123, -0.6218071579933167, 0.6872511506080627, 0.04987802356481552, -0.2111518681049347, 0.10697078704833984, -0.5649883151054382, 0.27083054184913635, -0.17158304154872894, 0.811881959438324, -0.44029051065444946, -0.39323073625564575, 0.10379388183355331, 0.7628871202468872, 0.21930165588855743, -0.021242180839180946, -0.03734968975186348, -0.09702717512845993, 0.6203102469444275, 0.023247506469488144, -0.1386011242866516, -0.13656765222549438, -0.6389608979225159, 0.456465482711792, 0.4093848764896393, 0.5584599375724792, -1.3593553304672241, -0.12840020656585693, -0.01945214718580246, -0.7557297348976135, 0.22283880412578583, 0.7290719747543335, 0.21552059054374695, -0.007610173895955086, 0.21791504323482513, -0.23555059731006622, 0.19174471497535706, 0.23553594946861267, -0.6068264842033386, -0.30113765597343445, -0.6721400022506714, -0.08866758644580841, 0.8108994960784912, 1.1469756364822388, -0.14020630717277527, 0.528299868106842, -0.10583056509494781, -0.245316743850708, 0.5693976283073425, 0.4472905397415161, -0.13906130194664001, -0.9249557256698608, 0.034434977918863297, 0.18749958276748657, -0.09970609098672867, 0.2017589956521988, 0.03222179412841797, 0.0557902455329895, 0.222634956240654, -0.023405225947499275, 0.07455817610025406, -0.30438193678855896, 0.22795556485652924, -0.0718749538064003, -0.3305470943450928, 0.3511834442615509, -0.3564693033695221, 0.15795966982841492, 0.39648810029029846, 0.5484594106674194, 0.048006076365709305, 0.08523798733949661, -0.1672428399324417, -0.5948938131332397, -0.8010903596878052, -0.5294759273529053, -0.06326259672641754, 0.8426713943481445, 0.4450804889202118, -0.3854842185974121, -0.640794038772583, 0.3425328731536865, 0.7871717810630798, 0.6125029921531677, -0.2368295043706894, -0.6368786692619324, -0.016327157616615295, 0.47595691680908203, -0.6156357526779175, 0.4909973740577698, -0.7937426567077637, 0.0501725971698761, 0.5424630045890808, 0.2215612232685089, -0.2763419449329376, 0.11984586715698242, 0.15328387916088104, -0.5895212292671204, -0.3036767542362213, -0.2472056746482849, 0.1373664289712906, 0.30586105585098267, 0.04608053341507912, -0.8621214032173157, -0.10502386838197708, 0.11979497969150543, 0.5856781601905823, 0.30925998091697693, 0.4176875352859497, 0.17292413115501404, 0.6968395709991455, 0.4433481693267822, 0.9510372281074524, -0.34626275300979614, -0.6375834941864014, 0.41194233298301697, 0.28845661878585815, -0.13927145302295685, 1.2219899892807007, -0.31858953833580017, 0.7409963011741638, -0.4337981641292572, -0.9856919050216675, -0.17547044157981873, -3.119717836380005, 0.1689106971025467, -0.23102642595767975, -0.08826872706413269, -0.09237107634544373, 0.316266268491745, -0.04536587372422218, -0.5632892847061157, -0.5172412991523743, -0.3025904893875122, 0.3814142048358917, 0.2861826717853546, -0.24527524411678314, 0.28925350308418274, -0.03279143199324608, 0.7643166184425354, -0.3072678744792938, -0.30154550075531006, 0.5800340175628662, 0.2682932913303375, 0.3453642725944519, 0.15684956312179565, 0.30378925800323486, -0.5144774317741394, -0.11843710392713547, -0.03546831011772156, -0.24048791825771332, -0.7325683236122131, -0.09757262468338013, 0.049346648156642914, 0.6848515272140503, -0.01682313345372677, 0.7961075901985168, -0.3175295293331146, 0.8148139119148254, -0.2716025412082672, -0.02160971239209175, -0.34198564291000366, 0.17074507474899292, -0.09195265173912048, -0.328297883272171, -0.6529533267021179, 0.09426823258399963, -0.9374486804008484, 0.24333515763282776, 0.09478101134300232, -0.8660213351249695, -0.2168850600719452]]\n"
          ]
        }
      ]
    },
    {
      "cell_type": "code",
      "source": [],
      "metadata": {
        "id": "O3JAmBvbt4C4"
      },
      "execution_count": null,
      "outputs": []
    }
  ]
}