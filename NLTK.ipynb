{
  "nbformat": 4,
  "nbformat_minor": 0,
  "metadata": {
    "colab": {
      "provenance": [],
      "authorship_tag": "ABX9TyOY0AaXYWA/DcX8YGht0zpP",
      "include_colab_link": true
    },
    "kernelspec": {
      "name": "python3",
      "display_name": "Python 3"
    },
    "language_info": {
      "name": "python"
    }
  },
  "cells": [
    {
      "cell_type": "markdown",
      "metadata": {
        "id": "view-in-github",
        "colab_type": "text"
      },
      "source": [
        "<a href=\"https://colab.research.google.com/github/lizardnote/NLP-Miniproject/blob/main/NLTK.ipynb\" target=\"_parent\"><img src=\"https://colab.research.google.com/assets/colab-badge.svg\" alt=\"Open In Colab\"/></a>"
      ]
    },
    {
      "cell_type": "markdown",
      "source": [
        "NLTK\n"
      ],
      "metadata": {
        "id": "yXJcIRIE7JCq"
      }
    },
    {
      "cell_type": "code",
      "source": [
        "# ✅ 1. 필수 라이브러리 설치 (필요할 경우만)\n",
        "# !pip install lightgbm transformers konlpy etc...\n",
        "\n",
        "# ✅ 2. nltk 리소스 다운로드 (한 번은 필수)\n",
        "import nltk\n",
        "nltk.download('punkt')\n",
        "\n",
        "# ✅ 3. 사용할 토크나이저 설정\n",
        "from nltk.tokenize import PunktSentenceTokenizer, RegexpTokenizer\n",
        "\n",
        "# ✅ 문장 분리기\n",
        "sent_tokenizer = PunktSentenceTokenizer()\n",
        "\n",
        "# ✅ 단어 분리기: 정규표현식 기반 (단어 기준으로 잘라줌)\n",
        "word_tokenizer = RegexpTokenizer(r'\\w+')\n"
      ],
      "metadata": {
        "colab": {
          "base_uri": "https://localhost:8080/"
        },
        "id": "g9YNETceTNt4",
        "outputId": "af53c5a3-78d3-4bf8-dbb7-5e873e844340"
      },
      "execution_count": 1,
      "outputs": [
        {
          "output_type": "stream",
          "name": "stderr",
          "text": [
            "[nltk_data] Downloading package punkt to /root/nltk_data...\n",
            "[nltk_data]   Unzipping tokenizers/punkt.zip.\n"
          ]
        }
      ]
    },
    {
      "cell_type": "code",
      "source": [
        "text = \"카드를 재발급 받고 싶어요. 한도 조회는 어디서 하나요?\"\n",
        "\n",
        "# 문장 분리\n",
        "print(\"문장 분리:\", sent_tokenizer.tokenize(text))\n",
        "\n",
        "# 단어 분리 (단순하지만 안정적!)\n",
        "print(\"단어 분리:\", word_tokenizer.tokenize(text))"
      ],
      "metadata": {
        "colab": {
          "base_uri": "https://localhost:8080/"
        },
        "id": "Z7Kcs5DeSvX4",
        "outputId": "59588d62-bc98-4763-e1f9-8c6b97745e24"
      },
      "execution_count": 16,
      "outputs": [
        {
          "output_type": "stream",
          "name": "stdout",
          "text": [
            "문장 분리: ['카드를 재발급 받고 싶어요.', '한도 조회는 어디서 하나요?']\n",
            "단어 분리: ['카드를', '재발급', '받고', '싶어요', '한도', '조회는', '어디서', '하나요']\n"
          ]
        }
      ]
    },
    {
      "cell_type": "code",
      "source": [
        "import pandas as pd\n",
        "import re\n",
        "from sklearn.preprocessing import LabelEncoder\n",
        "from nltk.tokenize import RegexpTokenizer"
      ],
      "metadata": {
        "id": "EHRhH4M9SwBg"
      },
      "execution_count": 17,
      "outputs": []
    },
    {
      "cell_type": "code",
      "source": [
        "from google.colab import files\n",
        "uploaded = files.upload()"
      ],
      "metadata": {
        "id": "fKgMj6I-T_1c"
      },
      "execution_count": null,
      "outputs": []
    }
  ]
}